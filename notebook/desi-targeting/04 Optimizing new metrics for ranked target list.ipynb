{
 "cells": [
  {
   "cell_type": "markdown",
   "metadata": {},
   "source": [
    "# Introduction\n",
    "\n",
    "So far, we've jointly optimized purity and completeness using a recent SAGA II+ catalog (2021-02-11). However, we haven't optimized a CNN *as a function of target density*. Moreover, we haven't been able to optimize the models so that the resultant redshift distributions look like [Yao's plots](https://hackmd.io/@yymao/SJ8v0KhZO).\n",
    "\n",
    "Here we will do a few new things:\n",
    "- use the 2021-02-19 data set (updated with new redshifts and a few"
   ]
  },
  {
   "cell_type": "code",
   "execution_count": 1,
   "metadata": {},
   "outputs": [],
   "source": [
    "from fastai2.basics import *\n",
    "from fastai2.vision.all import *\n",
    "from pathlib import Path\n",
    "\n",
    "from mish_cuda import MishCuda\n",
    "import cmasher as cmr\n",
    "import gc\n",
    "import scipy.cluster.hierarchy as hcluster\n",
    "\n",
    "from sklearn.model_selection import KFold\n",
    "from sklearn.cluster import KMeans\n",
    "from sklearn.metrics import confusion_matrix, roc_curve\n",
    "\n",
    "seed = 256\n",
    "\n",
    "%matplotlib inline"
   ]
  },
  {
   "cell_type": "code",
   "execution_count": 46,
   "metadata": {},
   "outputs": [],
   "source": [
    "import sys\n",
    "PATH = Path('../..').resolve()\n",
    "\n",
    "sys.path.append(f'{PATH}/src')\n",
    "from utils import *\n",
    "\n",
    "learner_metrics = [accuracy, F1Score(), Recall(), Precision()]\n",
    "\n",
    "sys.path.append('/home/jupyter/morphological-spectra/src')\n",
    "from xresnet_deconv import *"
   ]
  },
  {
   "cell_type": "code",
   "execution_count": 3,
   "metadata": {},
   "outputs": [],
   "source": [
    "saga = pd.read_csv(f'{PATH}/data/saga_redshifts_2021-02-19.csv', dtype={'OBJID': str})\n",
    "\n",
    "df = saga.sample(frac=1).copy()\n",
    "df['lower_z'] = df.SPEC_Z < 0.02\n",
    "df['low_z'] = df.SPEC_Z < 0.03\n",
    "\n",
    "# in order to use with previous utils\n",
    "df['SPEC_FLAG'] = 1"
   ]
  },
  {
   "cell_type": "markdown",
   "metadata": {},
   "source": [
    "## Util functions from last time"
   ]
  },
  {
   "cell_type": "code",
   "execution_count": 48,
   "metadata": {},
   "outputs": [],
   "source": [
    "\n",
    "legacy_image_stats = [np.array([0.14814416, 0.14217226, 0.13984123]), np.array([0.0881476 , 0.07823102, 0.07676626])]\n",
    "\n",
    "item_tfms = [Resize(224)]\n",
    "batch_tfms = (\n",
    "    aug_transforms(max_zoom=1., flip_vert=True, max_lighting=0., max_warp=0.) + \n",
    "    [Normalize.from_stats(*legacy_image_stats)]\n",
    ")\n",
    "seed = 256\n",
    "\n",
    "\n",
    "def oversample(df: pd.DataFrame, num_oversample=None, label_column='lower_z'):\n",
    "    \"\"\"Oversample a `pd.DataFrame` such that `label_column` classes\n",
    "    are balanced. Note that the result is not shuffled.\n",
    "    \"\"\"\n",
    "    lst = [df]\n",
    "    N_majority = (~df[label_column]).sum()\n",
    "    N_minority = ( df[label_column]).sum()\n",
    "    \n",
    "    try:\n",
    "        # -1 -> rebalance casses, other negative numbers will raise a ValueError\n",
    "        if num_oversample == -1: num_oversample = N_majority - N_minority\n",
    "        lst.append(df[df[label_column]].sample(num_oversample, replace=True))\n",
    "    except ValueError:\n",
    "        print('Make sure that `num_oversample` is larger than the number of objects in the label class')\n",
    "\n",
    "    return pd.concat(lst)\n",
    "\n",
    "def get_saga_dls(\n",
    "    saga, \n",
    "    label_column='lower_z',\n",
    "    split_column=None,\n",
    "    oversample=None, \n",
    "    undersample=None, \n",
    "    valid_pct=0.25, \n",
    "    bs=64, \n",
    "    PATH=PATH,\n",
    "    img_dir='images-legacy_saga-2021-02-11',\n",
    "    item_tfms=item_tfms, \n",
    "    batch_tfms=batch_tfms, \n",
    "    seed=256,\n",
    "):\n",
    "    \"\"\"Returns Dataloaders `dls` based on an input catalog `saga`. \n",
    "    If `undersample` is an integer, then it will sample fewer from the \n",
    "    nonsatellites class. If `oversample` is an integer, then it will sample\n",
    "    that many satellites. User can also provide fraction of sample \n",
    "    for validation by supplying `valid_pct`.\n",
    "    \"\"\"\n",
    "    \n",
    "    \n",
    "    is_low_z = (saga.SPEC_FLAG == 1) & (saga[label_column] == 1) # 1 == True\n",
    "\n",
    "    if undersample is None:\n",
    "        df = saga.copy()\n",
    "    elif isinstance(undersample, int):\n",
    "        df = pd.concat(\n",
    "            (saga[~is_low_z].sample(undersample), saga[is_low_z]),\n",
    "        )\n",
    "    else:\n",
    "        raise TypeError('Please enter an integer for `undersample`')\n",
    "    \n",
    "    if split_column is None:\n",
    "        dblock = DataBlock(\n",
    "            blocks=(ImageBlock, CategoryBlock),\n",
    "            get_x=ColReader(['OBJID'], pref=f'{PATH}/{img_dir}/', suff='.jpg'),\n",
    "            get_y=ColReader(label_column),\n",
    "            splitter=RandomSplitter(valid_pct=valid_pct, seed=seed),\n",
    "            item_tfms=item_tfms,\n",
    "            batch_tfms=batch_tfms,\n",
    "        )\n",
    "    elif split_column in df.columns:\n",
    "        dblock = DataBlock(\n",
    "            blocks=(ImageBlock, CategoryBlock),\n",
    "            get_x=ColReader(['OBJID'], pref=f'{PATH}/{img_dir}/', suff='.jpg'),\n",
    "            get_y=ColReader(label_column),\n",
    "            splitter=ColSplitter(split_column),\n",
    "            item_tfms=item_tfms,\n",
    "            batch_tfms=batch_tfms,\n",
    "        )\n",
    "    else:\n",
    "        raise TypeError('Please enter a valid column for splitting train/valid subsets')\n",
    "    \n",
    "    dls = ImageDataLoaders.from_dblock(dblock, df, path=PATH, bs=bs)\n",
    "    \n",
    "    if oversample is not None:\n",
    "        return resample_dls(\n",
    "            dls, label_column=label_column, split_column=split_column, num_oversample=oversample,\n",
    "            bs=bs, PATH=PATH, item_tfms=item_tfms, batch_tfms=batch_tfms, seed=seed\n",
    "        )\n",
    "    else:\n",
    "        return dls\n",
    "    \n",
    "\n",
    "def resample_dls(\n",
    "    dls, \n",
    "    label_column='HAS_SAT_Z', \n",
    "    num_oversample=None,\n",
    "    split_column=None,\n",
    "    bs=64, PATH=PATH, \n",
    "    img_dir='images-legacy_saga-2021-02-11',\n",
    "    item_tfms=item_tfms, \n",
    "    batch_tfms=batch_tfms, \n",
    "    seed=seed,\n",
    "):\n",
    "    \"\"\"Given Dataloaders `dls` -- you may need to run `get_saga_dls()` first --\n",
    "    oversample the satellites (generally outnumbered 100:1) in order to\n",
    "    balance the classes. The classes are split by a binary `label_column`,\n",
    "    which defaults to 'HAS_SAT_Z'. \n",
    "    \n",
    "    Note that this method is probably not memory efficient.\n",
    "    \"\"\"\n",
    "    train = dls.train.items.copy()\n",
    "    valid = dls.valid.items.copy()\n",
    "\n",
    "    train_oversampled = oversample(train, num_oversample=num_oversample, label_column=label_column)\n",
    "\n",
    "    if split_column is None:\n",
    "        split_column = 'is_valid'\n",
    "        train_oversampled[split_column] = False\n",
    "        valid[split_column] = True\n",
    "        \n",
    "    df_oversampled = pd.concat((train_oversampled, valid)).sample(frac=1)\n",
    "    \n",
    "    # create resampled datablock\n",
    "    dblock_oversampled = DataBlock(\n",
    "        blocks=(ImageBlock, CategoryBlock),\n",
    "        get_x=ColReader(['OBJID'], pref=f'{PATH}/{img_dir}/', suff='.jpg'),\n",
    "        get_y=ColReader(label_column),\n",
    "        splitter=ColSplitter(split_column),\n",
    "        item_tfms=item_tfms,\n",
    "        batch_tfms=batch_tfms,\n",
    "    )\n",
    "\n",
    "    return ImageDataLoaders.from_dblock(dblock_oversampled, df_oversampled, path=PATH, bs=bs)"
   ]
  },
  {
   "cell_type": "code",
   "execution_count": 65,
   "metadata": {},
   "outputs": [],
   "source": [
    "def get_top_N_metrics(subset, N):\n",
    "    \n",
    "    evaluation_metrics = {}\n",
    "    \n",
    "    # z<0.02\n",
    "    TP = ((subset.index < N) & (subset.SPEC_Z < 0.02)).sum()\n",
    "    TN = ((subset.index > N) & (subset.SPEC_Z > 0.02)).sum()\n",
    "    FP = ((subset.index < N) & (subset.SPEC_Z > 0.02)).sum()\n",
    "    FN = ((subset.index > N) & (subset.SPEC_Z < 0.02)).sum()\n",
    "    \n",
    "    evaluation_metrics['completeness_02'] = TP / (TP + FN)\n",
    "\n",
    "    # z<0.03\n",
    "    TP = ((subset.index < N) & (subset.SPEC_Z < 0.03)).sum()\n",
    "    TN = ((subset.index > N) & (subset.SPEC_Z > 0.03)).sum()\n",
    "    FP = ((subset.index < N) & (subset.SPEC_Z > 0.03)).sum()\n",
    "    FN = ((subset.index > N) & (subset.SPEC_Z < 0.03)).sum()\n",
    "#     metrics['completeness_03'] = TP / (TP + FN)\n",
    "    evaluation_metrics['purity_03'] = TP / (TP + FP)\n",
    "    \n",
    "    evaluation_metrics['geometric_mean'] = np.sqrt(evaluation_metrics['completeness_02'] * evaluation_metrics['purity_03'])\n",
    "    evaluation_metrics['harmonic_mean'] = 2 / (1/evaluation_metrics['completeness_02'] + 1/evaluation_metrics['purity_03'])\n",
    "    \n",
    "    return evaluation_metrics\n",
    "\n",
    "\n",
    "# https://github.com/fastai/fastai/blob/master/fastai/losses.py#L48\n",
    "class FocalLossFlat(CrossEntropyLossFlat):\n",
    "    \"\"\"\n",
    "    Same as CrossEntropyLossFlat but with focal paramter, `gamma`. Focal loss is introduced by Lin et al.\n",
    "    https://arxiv.org/pdf/1708.02002.pdf. Note the class weighting factor in the paper, alpha, can be\n",
    "    implemented through pytorch `weight` argument in nn.CrossEntropyLoss.\n",
    "    \"\"\"\n",
    "    y_int = True\n",
    "    @use_kwargs_dict(keep=True, weight=None, ignore_index=-100, reduction='mean')\n",
    "    def __init__(self, *args, gamma=2, axis=-1, **kwargs):\n",
    "        self.gamma = gamma\n",
    "        self.reduce = kwargs.pop('reduction') if 'reduction' in kwargs else 'mean'\n",
    "        super().__init__(*args, reduction='none', axis=axis, **kwargs)\n",
    "    def __call__(self, inp, targ, **kwargs):\n",
    "        ce_loss = super().__call__(inp, targ, **kwargs)\n",
    "        pt = torch.exp(-ce_loss)\n",
    "        fl_loss = (1-pt)**self.gamma * ce_loss\n",
    "        return fl_loss.mean() if self.reduce == 'mean' else fl_loss.sum() if self.reduce == 'sum' else fl_loss\n"
   ]
  },
  {
   "cell_type": "markdown",
   "metadata": {
    "heading_collapsed": true
   },
   "source": [
    "# A simple model to minimize median redshift"
   ]
  },
  {
   "cell_type": "code",
   "execution_count": 6,
   "metadata": {
    "hidden": true
   },
   "outputs": [],
   "source": [
    "saga = pd.read_csv(f'{PATH}/data/saga_redshifts_2021-02-19.csv', dtype={'OBJID': str})\n",
    "\n",
    "df = saga.sample(frac=1).copy()\n",
    "df['lower_z'] = df.SPEC_Z < 0.02\n",
    "df['low_z'] = df.SPEC_Z < 0.03\n",
    "\n",
    "# in order to use with previous utils\n",
    "df['SPEC_FLAG'] = 1"
   ]
  },
  {
   "cell_type": "code",
   "execution_count": 7,
   "metadata": {
    "hidden": true
   },
   "outputs": [],
   "source": [
    "sz = 80\n",
    "bs = 128\n",
    "\n",
    "img_dir = 'images-legacy_saga-2021-02-19'\n",
    "\n",
    "legacy_image_stats = [np.array([0.14814416, 0.14217226, 0.13984123]), np.array([0.0881476 , 0.07823102, 0.07676626])]\n",
    "\n",
    "item_tfms = [Resize(sz)]\n",
    "batch_tfms = (\n",
    "    aug_transforms(max_zoom=1., flip_vert=True, max_lighting=0., max_warp=0.) + \n",
    "    [Normalize.from_stats(*legacy_image_stats)]\n",
    ")\n",
    "\n",
    "seed = 1024  "
   ]
  },
  {
   "cell_type": "code",
   "execution_count": 49,
   "metadata": {
    "hidden": true
   },
   "outputs": [],
   "source": [
    "# regress on redshift\n",
    "dblock = DataBlock(\n",
    "    blocks=(ImageBlock, RegressionBlock),\n",
    "    get_x=ColReader(['OBJID'], pref=f'{PATH}/{img_dir}/', suff='.jpg'),\n",
    "    get_y=ColReader('SPEC_Z'),\n",
    "    splitter=RandomSplitter(valid_pct=0.2, seed=seed),\n",
    "    item_tfms=item_tfms,\n",
    "    batch_tfms=batch_tfms,\n",
    ")"
   ]
  },
  {
   "cell_type": "code",
   "execution_count": 50,
   "metadata": {
    "hidden": true
   },
   "outputs": [],
   "source": [
    "dls = ImageDataLoaders.from_dblock(dblock, df, path=PATH, bs=bs)"
   ]
  },
  {
   "cell_type": "markdown",
   "metadata": {
    "hidden": true
   },
   "source": [
    "(no oversampling yet)"
   ]
  },
  {
   "cell_type": "markdown",
   "metadata": {
    "hidden": true
   },
   "source": [
    "## Optimize with MAE (L1) loss "
   ]
  },
  {
   "cell_type": "code",
   "execution_count": 51,
   "metadata": {
    "hidden": true
   },
   "outputs": [],
   "source": [
    "model = nn.Sequential(\n",
    "    FastDeconv(3, 32, 3, stride=2), MishCuda(),\n",
    "    FastDeconv(32, 32, 3, stride=2), MishCuda(),\n",
    "    FastDeconv(32, 64, 3), MishCuda(),\n",
    "    nn.AdaptiveAvgPool2d(1),\n",
    "    Flatten(),\n",
    "    nn.Linear(64, dls.c)\n",
    ").cuda()"
   ]
  },
  {
   "cell_type": "code",
   "execution_count": 52,
   "metadata": {
    "hidden": true
   },
   "outputs": [],
   "source": [
    "learn = Learner(\n",
    "    dls, model, \n",
    "    opt_func=ranger, \n",
    "    loss_func=L1LossFlat(),\n",
    ")\n",
    "\n",
    "# learn.lr_find()"
   ]
  },
  {
   "cell_type": "code",
   "execution_count": 53,
   "metadata": {
    "hidden": true
   },
   "outputs": [
    {
     "data": {
      "text/html": [
       "<table border=\"1\" class=\"dataframe\">\n",
       "  <thead>\n",
       "    <tr style=\"text-align: left;\">\n",
       "      <th>epoch</th>\n",
       "      <th>train_loss</th>\n",
       "      <th>valid_loss</th>\n",
       "      <th>time</th>\n",
       "    </tr>\n",
       "  </thead>\n",
       "  <tbody>\n",
       "    <tr>\n",
       "      <td>0</td>\n",
       "      <td>0.116335</td>\n",
       "      <td>0.117386</td>\n",
       "      <td>01:16</td>\n",
       "    </tr>\n",
       "    <tr>\n",
       "      <td>1</td>\n",
       "      <td>0.090350</td>\n",
       "      <td>0.092230</td>\n",
       "      <td>01:16</td>\n",
       "    </tr>\n",
       "    <tr>\n",
       "      <td>2</td>\n",
       "      <td>0.083886</td>\n",
       "      <td>0.079865</td>\n",
       "      <td>01:16</td>\n",
       "    </tr>\n",
       "    <tr>\n",
       "      <td>3</td>\n",
       "      <td>0.076429</td>\n",
       "      <td>0.085040</td>\n",
       "      <td>01:21</td>\n",
       "    </tr>\n",
       "    <tr>\n",
       "      <td>4</td>\n",
       "      <td>0.070995</td>\n",
       "      <td>0.076891</td>\n",
       "      <td>01:26</td>\n",
       "    </tr>\n",
       "    <tr>\n",
       "      <td>5</td>\n",
       "      <td>0.068586</td>\n",
       "      <td>0.066685</td>\n",
       "      <td>01:17</td>\n",
       "    </tr>\n",
       "    <tr>\n",
       "      <td>6</td>\n",
       "      <td>0.065855</td>\n",
       "      <td>0.068948</td>\n",
       "      <td>01:16</td>\n",
       "    </tr>\n",
       "    <tr>\n",
       "      <td>7</td>\n",
       "      <td>0.063937</td>\n",
       "      <td>0.063846</td>\n",
       "      <td>01:16</td>\n",
       "    </tr>\n",
       "    <tr>\n",
       "      <td>8</td>\n",
       "      <td>0.065029</td>\n",
       "      <td>0.063306</td>\n",
       "      <td>01:17</td>\n",
       "    </tr>\n",
       "    <tr>\n",
       "      <td>9</td>\n",
       "      <td>0.062644</td>\n",
       "      <td>0.063408</td>\n",
       "      <td>01:17</td>\n",
       "    </tr>\n",
       "  </tbody>\n",
       "</table>"
      ],
      "text/plain": [
       "<IPython.core.display.HTML object>"
      ]
     },
     "metadata": {},
     "output_type": "display_data"
    }
   ],
   "source": [
    "learn.fit_one_cycle(10, 0.003)"
   ]
  },
  {
   "cell_type": "code",
   "execution_count": 64,
   "metadata": {
    "hidden": true
   },
   "outputs": [
    {
     "data": {
      "text/plain": [
       "<fastai2.learner.Learner at 0x7ff7cd2db710>"
      ]
     },
     "execution_count": 64,
     "metadata": {},
     "output_type": "execute_result"
    }
   ],
   "source": [
    "# learn.save('hybridcnn-simple_L1')\n",
    "learn.load('hybridcnn-simple_L1')"
   ]
  },
  {
   "cell_type": "markdown",
   "metadata": {
    "hidden": true
   },
   "source": [
    "## Check metrics"
   ]
  },
  {
   "cell_type": "code",
   "execution_count": 65,
   "metadata": {
    "hidden": true
   },
   "outputs": [
    {
     "data": {
      "text/html": [],
      "text/plain": [
       "<IPython.core.display.HTML object>"
      ]
     },
     "metadata": {},
     "output_type": "display_data"
    }
   ],
   "source": [
    "preds, _ = learn.get_preds()\n",
    "\n",
    "res = dls.valid.items.copy()\n",
    "res['pred_z'] = preds.flatten()"
   ]
  },
  {
   "cell_type": "code",
   "execution_count": 56,
   "metadata": {
    "hidden": true
   },
   "outputs": [
    {
     "name": "stderr",
     "output_type": "stream",
     "text": [
      "/opt/anaconda3/envs/fastai2/lib/python3.7/site-packages/ipykernel_launcher.py:22: RuntimeWarning: divide by zero encountered in double_scalars\n"
     ]
    },
    {
     "data": {
      "text/plain": [
       "Text(0.5, 1.0, 'Predicting $z$ (L1 Loss)')"
      ]
     },
     "execution_count": 56,
     "metadata": {},
     "output_type": "execute_result"
    },
    {
     "data": {
      "image/png": "[encoded data removed]",
      "text/plain": [
       "<Figure size 600x400 with 1 Axes>"
      ]
     },
     "metadata": {
      "needs_background": "light"
     },
     "output_type": "display_data"
    }
   ],
   "source": [
    "metrics_dict = {}\n",
    "\n",
    "target_density_values = [1, 2, 3, 5, 10, 15, 20, 30, 50, 100]\n",
    "area = 0.2 * len(res.HOSTID.unique()) * np.pi * 1**2 # 0.2 is validation percent\n",
    "\n",
    "for num_density in np.arange(1, 200, 1):\n",
    "    N = np.round(num_density * area).astype(int)\n",
    "    mag_range = (19 < res.r_mag) & (res.r_mag < 21)\n",
    "    subset = res[mag_range].sort_values('pred_z', ascending=True).reset_index()\n",
    "    metrics = get_top_N_metrics(subset, N)\n",
    "    metrics_dict[num_density] = metrics\n",
    "    \n",
    "all_metrics_df = pd.DataFrame.from_dict(metrics_dict, orient='index').rename_axis('N_per_sq_deg')\n",
    "metrics_df = all_metrics_df.loc[target_density_values]\n",
    "\n",
    "# plot\n",
    "plt.figure(figsize=(6,4), dpi=100)\n",
    "plt.plot(all_metrics_df.index, all_metrics_df.completeness_02, c='#ff6361', lw=3, label='$z<0.02$ completeness')\n",
    "plt.plot(all_metrics_df.index, all_metrics_df.purity_03, c='#ffa600', lw=3, label='$z<0.03$ purity')\n",
    "plt.plot(all_metrics_df.index, all_metrics_df.geometric_mean, c='#003f5c', lw=3, ls='-', label='Geometric mean')\n",
    "\n",
    "plt.ylim(0, 1)\n",
    "plt.xscale('log')\n",
    "plt.xticks(target_density_values, labels=target_density_values)\n",
    "\n",
    "plt.xlabel('Surface density [deg$^{-2}$]')\n",
    "plt.grid(alpha=0.1)\n",
    "plt.legend(framealpha=0)\n",
    "\n",
    "plt.title('Predicting $z$ (L1 Loss)')"
   ]
  },
  {
   "cell_type": "code",
   "execution_count": 66,
   "metadata": {
    "hidden": true
   },
   "outputs": [
    {
     "data": {
      "text/plain": [
       "Text(0.5, 1.0, 'Predicting $z$ (L1 Loss)')"
      ]
     },
     "execution_count": 66,
     "metadata": {},
     "output_type": "execute_result"
    },
    {
     "data": {
      "image/png": "[encoded data removed]",
      "text/plain": [
       "<Figure size 600x400 with 1 Axes>"
      ]
     },
     "metadata": {
      "needs_background": "light"
     },
     "output_type": "display_data"
    }
   ],
   "source": [
    "zdist_dict = {}\n",
    "\n",
    "for num_density in np.arange(1, 200, 1):\n",
    "    N = np.round(num_density * area).astype(int)\n",
    "    \n",
    "    subset = res[mag_range].sort_values('pred_z', ascending=True)[:N]\n",
    "    complement = res[mag_range].sort_values('pred_z', ascending=True)[N:]\n",
    "    \n",
    "    zdist = {}\n",
    "    \n",
    "    zdist['p50_z_above'] = np.median(subset.SPEC_Z)\n",
    "    zdist['p90_z_above'] = np.quantile(subset.SPEC_Z, 0.90)\n",
    "    zdist['p95_z_above'] = np.quantile(subset.SPEC_Z, 0.95)\n",
    "    zdist['p99_z_above'] = np.quantile(subset.SPEC_Z, 0.99)\n",
    "    \n",
    "    zdist['p10_z_below'] = np.quantile(complement.SPEC_Z, 0.10)\n",
    "    zdist['p05_z_below'] = np.quantile(complement.SPEC_Z, 0.05)\n",
    "    zdist['p01_z_below'] = np.quantile(complement.SPEC_Z, 0.01)\n",
    "\n",
    "    \n",
    "    zdist_dict[num_density] = zdist\n",
    "    \n",
    "all_zdist_df = pd.DataFrame.from_dict(zdist_dict, orient='index').rename_axis('N_per_sq_deg')\n",
    "zdist_df = all_zdist_df.loc[target_density_values]\n",
    "\n",
    "# Plot\n",
    "plt.figure(figsize=(6,4), dpi=100)\n",
    "\n",
    "plt.plot(zdist_df.index, zdist_df.p50_z_above, c='C0', lw=3, label='Median $z$ of targets above')\n",
    "plt.plot(zdist_df.index, zdist_df.p95_z_above, c='C1', lw=3, label='95% $z$ of targets above')\n",
    "plt.plot(zdist_df.index, zdist_df.p05_z_below, c='magenta',  lw=3, label='5% $z$ of targets below')\n",
    "plt.grid(alpha=0.2)\n",
    "plt.ylim(0, 0.65)\n",
    "plt.xscale('log')\n",
    "\n",
    "\n",
    "plt.xlabel('Surface density [deg$^{-2}$]')\n",
    "plt.grid(alpha=0.1)\n",
    "plt.legend(framealpha=0)\n",
    "\n",
    "plt.title('Predicting $z$ (L1 Loss)')"
   ]
  },
  {
   "cell_type": "markdown",
   "metadata": {
    "hidden": true
   },
   "source": [
    "## MSE"
   ]
  },
  {
   "cell_type": "code",
   "execution_count": 58,
   "metadata": {
    "hidden": true
   },
   "outputs": [
    {
     "data": {
      "text/html": [
       "<table border=\"1\" class=\"dataframe\">\n",
       "  <thead>\n",
       "    <tr style=\"text-align: left;\">\n",
       "      <th>epoch</th>\n",
       "      <th>train_loss</th>\n",
       "      <th>valid_loss</th>\n",
       "      <th>time</th>\n",
       "    </tr>\n",
       "  </thead>\n",
       "  <tbody>\n",
       "    <tr>\n",
       "      <td>0</td>\n",
       "      <td>0.026480</td>\n",
       "      <td>0.032365</td>\n",
       "      <td>01:16</td>\n",
       "    </tr>\n",
       "    <tr>\n",
       "      <td>1</td>\n",
       "      <td>0.022321</td>\n",
       "      <td>0.024844</td>\n",
       "      <td>01:16</td>\n",
       "    </tr>\n",
       "    <tr>\n",
       "      <td>2</td>\n",
       "      <td>0.019749</td>\n",
       "      <td>0.020426</td>\n",
       "      <td>01:16</td>\n",
       "    </tr>\n",
       "    <tr>\n",
       "      <td>3</td>\n",
       "      <td>0.015207</td>\n",
       "      <td>0.019811</td>\n",
       "      <td>01:16</td>\n",
       "    </tr>\n",
       "    <tr>\n",
       "      <td>4</td>\n",
       "      <td>0.019832</td>\n",
       "      <td>0.018982</td>\n",
       "      <td>01:17</td>\n",
       "    </tr>\n",
       "    <tr>\n",
       "      <td>5</td>\n",
       "      <td>0.014266</td>\n",
       "      <td>0.018239</td>\n",
       "      <td>01:16</td>\n",
       "    </tr>\n",
       "    <tr>\n",
       "      <td>6</td>\n",
       "      <td>0.013907</td>\n",
       "      <td>0.017858</td>\n",
       "      <td>01:16</td>\n",
       "    </tr>\n",
       "    <tr>\n",
       "      <td>7</td>\n",
       "      <td>0.014429</td>\n",
       "      <td>0.017445</td>\n",
       "      <td>01:17</td>\n",
       "    </tr>\n",
       "    <tr>\n",
       "      <td>8</td>\n",
       "      <td>0.020870</td>\n",
       "      <td>0.017097</td>\n",
       "      <td>01:16</td>\n",
       "    </tr>\n",
       "    <tr>\n",
       "      <td>9</td>\n",
       "      <td>0.017475</td>\n",
       "      <td>0.017024</td>\n",
       "      <td>01:16</td>\n",
       "    </tr>\n",
       "  </tbody>\n",
       "</table>"
      ],
      "text/plain": [
       "<IPython.core.display.HTML object>"
      ]
     },
     "metadata": {},
     "output_type": "display_data"
    }
   ],
   "source": [
    "model = nn.Sequential(\n",
    "    FastDeconv(3, 32, 3, stride=2), MishCuda(),\n",
    "    FastDeconv(32, 32, 3, stride=2), MishCuda(),\n",
    "    FastDeconv(32, 64, 3), MishCuda(),\n",
    "    nn.AdaptiveAvgPool2d(1),\n",
    "    Flatten(),\n",
    "    nn.Linear(64, dls.c)\n",
    ").cuda()\n",
    "\n",
    "learn = Learner(\n",
    "    dls, model, \n",
    "    opt_func=ranger, \n",
    "    loss_func=MSELossFlat(),\n",
    ")\n",
    "\n",
    "learn.fit_one_cycle(10, 1e-2)"
   ]
  },
  {
   "cell_type": "code",
   "execution_count": 59,
   "metadata": {
    "hidden": true
   },
   "outputs": [],
   "source": [
    "# learn.save('hybridcnn-simple_L2')"
   ]
  },
  {
   "cell_type": "code",
   "execution_count": 60,
   "metadata": {
    "hidden": true
   },
   "outputs": [
    {
     "data": {
      "text/html": [],
      "text/plain": [
       "<IPython.core.display.HTML object>"
      ]
     },
     "metadata": {},
     "output_type": "display_data"
    }
   ],
   "source": [
    "preds, _ = learn.get_preds()\n",
    "\n",
    "res = dls.valid.items.copy()\n",
    "res['pred_z'] = preds.flatten()"
   ]
  },
  {
   "cell_type": "code",
   "execution_count": 61,
   "metadata": {
    "hidden": true
   },
   "outputs": [
    {
     "data": {
      "text/plain": [
       "Text(0.5, 1.0, 'Predicting $z$ (L2 Loss)')"
      ]
     },
     "execution_count": 61,
     "metadata": {},
     "output_type": "execute_result"
    },
    {
     "data": {
      "image/png": "[encoded data removed]",
      "text/plain": [
       "<Figure size 600x400 with 1 Axes>"
      ]
     },
     "metadata": {
      "needs_background": "light"
     },
     "output_type": "display_data"
    }
   ],
   "source": [
    "metrics_dict = {}\n",
    "\n",
    "target_density_values = [1, 2, 3, 5, 10, 15, 20, 30, 50, 100]\n",
    "area = 0.2 * len(res.HOSTID.unique()) * np.pi * 1**2 # 0.2 is validation percent\n",
    "\n",
    "for num_density in np.arange(1, 200, 1):\n",
    "    N = np.round(num_density * area).astype(int)\n",
    "    mag_range = (19 < res.r_mag) & (res.r_mag < 21)\n",
    "    subset = res[mag_range].sort_values('pred_z', ascending=True).reset_index()\n",
    "    metrics = get_top_N_metrics(subset, N)\n",
    "    metrics_dict[num_density] = metrics\n",
    "    \n",
    "all_metrics_df = pd.DataFrame.from_dict(metrics_dict, orient='index').rename_axis('N_per_sq_deg')\n",
    "metrics_df = all_metrics_df.loc[target_density_values]\n",
    "\n",
    "# plot\n",
    "plt.figure(figsize=(6,4), dpi=100)\n",
    "plt.plot(all_metrics_df.index, all_metrics_df.completeness_02, c='#ff6361', lw=3, label='$z<0.02$ completeness')\n",
    "plt.plot(all_metrics_df.index, all_metrics_df.purity_03, c='#ffa600', lw=3, label='$z<0.03$ purity')\n",
    "plt.plot(all_metrics_df.index, all_metrics_df.geometric_mean, c='#003f5c', lw=3, ls='-', label='Geometric mean')\n",
    "\n",
    "plt.ylim(0, 1)\n",
    "plt.xscale('log')\n",
    "plt.xticks(target_density_values, labels=target_density_values)\n",
    "\n",
    "plt.xlabel('Surface density [deg$^{-2}$]')\n",
    "plt.grid(alpha=0.1)\n",
    "plt.legend(framealpha=0)\n",
    "\n",
    "plt.title('Predicting $z$ (L2 Loss)')"
   ]
  },
  {
   "cell_type": "code",
   "execution_count": 63,
   "metadata": {
    "hidden": true
   },
   "outputs": [
    {
     "data": {
      "text/plain": [
       "Text(0.5, 1.0, 'Predicting $z$ (L2 Loss)')"
      ]
     },
     "execution_count": 63,
     "metadata": {},
     "output_type": "execute_result"
    },
    {
     "data": {
      "image/png": "[encoded data removed]",
      "text/plain": [
       "<Figure size 600x400 with 1 Axes>"
      ]
     },
     "metadata": {
      "needs_background": "light"
     },
     "output_type": "display_data"
    }
   ],
   "source": [
    "zdist_dict = {}\n",
    "\n",
    "for num_density in np.arange(1, 200, 1):\n",
    "    N = np.round(num_density * area).astype(int)\n",
    "    \n",
    "    subset = res[mag_range].sort_values('pred_z', ascending=True)[:N]\n",
    "    complement = res[mag_range].sort_values('pred_z', ascending=True)[N:]\n",
    "    \n",
    "    zdist = {}\n",
    "    \n",
    "    zdist['p50_z_above'] = np.median(subset.SPEC_Z)\n",
    "    zdist['p90_z_above'] = np.quantile(subset.SPEC_Z, 0.90)\n",
    "    zdist['p95_z_above'] = np.quantile(subset.SPEC_Z, 0.95)\n",
    "    zdist['p99_z_above'] = np.quantile(subset.SPEC_Z, 0.99)\n",
    "    \n",
    "    zdist['p10_z_below'] = np.quantile(complement.SPEC_Z, 0.10)\n",
    "    zdist['p05_z_below'] = np.quantile(complement.SPEC_Z, 0.05)\n",
    "    zdist['p01_z_below'] = np.quantile(complement.SPEC_Z, 0.01)\n",
    "\n",
    "    \n",
    "    zdist_dict[num_density] = zdist\n",
    "    \n",
    "all_zdist_df = pd.DataFrame.from_dict(zdist_dict, orient='index').rename_axis('N_per_sq_deg')\n",
    "zdist_df = all_zdist_df.loc[target_density_values]\n",
    "\n",
    "# Plot\n",
    "plt.figure(figsize=(6,4), dpi=100)\n",
    "\n",
    "plt.plot(zdist_df.index, zdist_df.p50_z_above, c='C0', lw=3, label='Median $z$ of targets above')\n",
    "plt.plot(zdist_df.index, zdist_df.p95_z_above, c='C1', lw=3, label='95% $z$ of targets above')\n",
    "plt.plot(zdist_df.index, zdist_df.p05_z_below, c='magenta',  lw=3, label='5% $z$ of targets below')\n",
    "plt.grid(alpha=0.2)\n",
    "plt.ylim(0, 0.65)\n",
    "plt.xscale('log')\n",
    "\n",
    "plt.xlabel('Surface density [deg$^{-2}$]')\n",
    "plt.grid(alpha=0.1)\n",
    "plt.legend(framealpha=0)\n",
    "\n",
    "plt.title('Predicting $z$ (L2 Loss)')"
   ]
  },
  {
   "cell_type": "markdown",
   "metadata": {
    "heading_collapsed": true
   },
   "source": [
    "# Optimize classification with focal loss"
   ]
  },
  {
   "cell_type": "code",
   "execution_count": 30,
   "metadata": {
    "hidden": true
   },
   "outputs": [],
   "source": [
    "# https://github.com/fastai/fastai/blob/master/fastai/losses.py#L48\n",
    "class FocalLossFlat(CrossEntropyLossFlat):\n",
    "    \"\"\"\n",
    "    Same as CrossEntropyLossFlat but with focal paramter, `gamma`. Focal loss is introduced by Lin et al.\n",
    "    https://arxiv.org/pdf/1708.02002.pdf. Note the class weighting factor in the paper, alpha, can be\n",
    "    implemented through pytorch `weight` argument in nn.CrossEntropyLoss.\n",
    "    \"\"\"\n",
    "    y_int = True\n",
    "    @use_kwargs_dict(keep=True, weight=None, ignore_index=-100, reduction='mean')\n",
    "    def __init__(self, *args, gamma=2, axis=-1, **kwargs):\n",
    "        self.gamma = gamma\n",
    "        self.reduce = kwargs.pop('reduction') if 'reduction' in kwargs else 'mean'\n",
    "        super().__init__(*args, reduction='none', axis=axis, **kwargs)\n",
    "    def __call__(self, inp, targ, **kwargs):\n",
    "        ce_loss = super().__call__(inp, targ, **kwargs)\n",
    "        pt = torch.exp(-ce_loss)\n",
    "        fl_loss = (1-pt)**self.gamma * ce_loss\n",
    "        return fl_loss.mean() if self.reduce == 'mean' else fl_loss.sum() if self.reduce == 'sum' else fl_loss"
   ]
  },
  {
   "cell_type": "code",
   "execution_count": 68,
   "metadata": {
    "hidden": true
   },
   "outputs": [],
   "source": [
    "# classification\n",
    "dblock = DataBlock(\n",
    "    blocks=(ImageBlock, CategoryBlock),\n",
    "    get_x=ColReader(['OBJID'], pref=f'{PATH}/{img_dir}/', suff='.jpg'),\n",
    "    get_y=ColReader('low_z'),\n",
    "    splitter=RandomSplitter(valid_pct=0.2, seed=seed),\n",
    "    item_tfms=item_tfms,\n",
    "    batch_tfms=batch_tfms,\n",
    ")\n",
    "\n",
    "dls = ImageDataLoaders.from_dblock(dblock, df, path=PATH, bs=bs)"
   ]
  },
  {
   "cell_type": "code",
   "execution_count": 69,
   "metadata": {
    "hidden": true
   },
   "outputs": [],
   "source": [
    "model = nn.Sequential(\n",
    "    FastDeconv(3, 32, 3, stride=2), MishCuda(),\n",
    "    FastDeconv(32, 32, 3, stride=2), MishCuda(),\n",
    "    FastDeconv(32, 64, 3), MishCuda(),\n",
    "    nn.AdaptiveAvgPool2d(1),\n",
    "    Flatten(),\n",
    "    nn.Linear(64, dls.c)\n",
    ").cuda()\n",
    "\n",
    "learn = Learner(\n",
    "    dls, model, \n",
    "    opt_func=ranger, \n",
    "    loss_func=FocalLossFlat(),\n",
    ")"
   ]
  },
  {
   "cell_type": "code",
   "execution_count": 38,
   "metadata": {
    "hidden": true
   },
   "outputs": [
    {
     "data": {
      "text/html": [],
      "text/plain": [
       "<IPython.core.display.HTML object>"
      ]
     },
     "metadata": {},
     "output_type": "display_data"
    },
    {
     "data": {
      "text/plain": [
       "SuggestedLRs(lr_min=0.00831763744354248, lr_steep=0.9120108485221863)"
      ]
     },
     "execution_count": 38,
     "metadata": {},
     "output_type": "execute_result"
    },
    {
     "data": {
      "image/png": "[encoded data removed]",
      "text/plain": [
       "<Figure size 432x288 with 1 Axes>"
      ]
     },
     "metadata": {
      "needs_background": "light"
     },
     "output_type": "display_data"
    }
   ],
   "source": [
    "learn.lr_find()"
   ]
  },
  {
   "cell_type": "code",
   "execution_count": 39,
   "metadata": {
    "hidden": true
   },
   "outputs": [
    {
     "data": {
      "text/html": [
       "<table border=\"1\" class=\"dataframe\">\n",
       "  <thead>\n",
       "    <tr style=\"text-align: left;\">\n",
       "      <th>epoch</th>\n",
       "      <th>train_loss</th>\n",
       "      <th>valid_loss</th>\n",
       "      <th>time</th>\n",
       "    </tr>\n",
       "  </thead>\n",
       "  <tbody>\n",
       "    <tr>\n",
       "      <td>0</td>\n",
       "      <td>0.021430</td>\n",
       "      <td>0.023157</td>\n",
       "      <td>01:16</td>\n",
       "    </tr>\n",
       "    <tr>\n",
       "      <td>1</td>\n",
       "      <td>0.018919</td>\n",
       "      <td>0.019020</td>\n",
       "      <td>01:17</td>\n",
       "    </tr>\n",
       "    <tr>\n",
       "      <td>2</td>\n",
       "      <td>0.016201</td>\n",
       "      <td>0.015834</td>\n",
       "      <td>01:17</td>\n",
       "    </tr>\n",
       "    <tr>\n",
       "      <td>3</td>\n",
       "      <td>0.016490</td>\n",
       "      <td>0.013796</td>\n",
       "      <td>01:16</td>\n",
       "    </tr>\n",
       "    <tr>\n",
       "      <td>4</td>\n",
       "      <td>0.014749</td>\n",
       "      <td>0.013076</td>\n",
       "      <td>01:17</td>\n",
       "    </tr>\n",
       "    <tr>\n",
       "      <td>5</td>\n",
       "      <td>0.012628</td>\n",
       "      <td>0.013050</td>\n",
       "      <td>01:17</td>\n",
       "    </tr>\n",
       "    <tr>\n",
       "      <td>6</td>\n",
       "      <td>0.013335</td>\n",
       "      <td>0.012203</td>\n",
       "      <td>01:17</td>\n",
       "    </tr>\n",
       "    <tr>\n",
       "      <td>7</td>\n",
       "      <td>0.011875</td>\n",
       "      <td>0.011921</td>\n",
       "      <td>01:17</td>\n",
       "    </tr>\n",
       "    <tr>\n",
       "      <td>8</td>\n",
       "      <td>0.011216</td>\n",
       "      <td>0.011637</td>\n",
       "      <td>01:17</td>\n",
       "    </tr>\n",
       "    <tr>\n",
       "      <td>9</td>\n",
       "      <td>0.012220</td>\n",
       "      <td>0.011701</td>\n",
       "      <td>01:17</td>\n",
       "    </tr>\n",
       "  </tbody>\n",
       "</table>"
      ],
      "text/plain": [
       "<IPython.core.display.HTML object>"
      ]
     },
     "metadata": {},
     "output_type": "display_data"
    }
   ],
   "source": [
    "learn.fit_one_cycle(10, 1e-2)"
   ]
  },
  {
   "cell_type": "code",
   "execution_count": 26,
   "metadata": {
    "hidden": true
   },
   "outputs": [],
   "source": [
    "# learn.save('hybridcnn-simple_focal')\n",
    "learn.load('hybridcnn-simple_focal');"
   ]
  },
  {
   "cell_type": "code",
   "execution_count": 27,
   "metadata": {
    "hidden": true
   },
   "outputs": [
    {
     "data": {
      "text/html": [],
      "text/plain": [
       "<IPython.core.display.HTML object>"
      ]
     },
     "metadata": {},
     "output_type": "display_data"
    }
   ],
   "source": [
    "preds, _ = learn.get_preds()\n",
    "\n",
    "res = dls.valid.items.copy()\n",
    "res['pred_low_z'] = preds.softmax(1)[:,1].numpy()"
   ]
  },
  {
   "cell_type": "code",
   "execution_count": 28,
   "metadata": {
    "hidden": true
   },
   "outputs": [
    {
     "data": {
      "text/plain": [
       "Text(0.5, 1.0, 'Classifying $z < 0.03$ (Focal Loss)')"
      ]
     },
     "execution_count": 28,
     "metadata": {},
     "output_type": "execute_result"
    },
    {
     "data": {
      "image/png": "[encoded data removed]",
      "text/plain": [
       "<Figure size 600x400 with 1 Axes>"
      ]
     },
     "metadata": {
      "needs_background": "light"
     },
     "output_type": "display_data"
    }
   ],
   "source": [
    "metrics_dict = {}\n",
    "\n",
    "target_density_values = [1, 2, 3, 5, 10, 15, 20, 30, 50, 100]\n",
    "area = 0.2 * len(res.HOSTID.unique()) * np.pi * 1**2 # 0.2 is validation percent\n",
    "\n",
    "for num_density in np.arange(1, 200, 1):\n",
    "    N = np.round(num_density * area).astype(int)\n",
    "    mag_range = (19 < res.r_mag) & (res.r_mag < 21)\n",
    "    subset = res[mag_range].sort_values('pred_low_z', ascending=False).reset_index()\n",
    "    metrics = get_top_N_metrics(subset, N)\n",
    "    metrics_dict[num_density] = metrics\n",
    "    \n",
    "all_metrics_df = pd.DataFrame.from_dict(metrics_dict, orient='index').rename_axis('N_per_sq_deg')\n",
    "metrics_df = all_metrics_df.loc[target_density_values]\n",
    "\n",
    "# plot\n",
    "plt.figure(figsize=(6,4), dpi=100)\n",
    "plt.plot(all_metrics_df.index, all_metrics_df.completeness_02, c='#ff6361', lw=3, label='$z<0.02$ completeness')\n",
    "plt.plot(all_metrics_df.index, all_metrics_df.purity_03, c='#ffa600', lw=3, label='$z<0.03$ purity')\n",
    "plt.plot(all_metrics_df.index, all_metrics_df.geometric_mean, c='#003f5c', lw=3, ls='-', label='Geometric mean')\n",
    "\n",
    "plt.ylim(0, 1)\n",
    "plt.xscale('log')\n",
    "plt.xticks(target_density_values, labels=target_density_values)\n",
    "\n",
    "plt.xlabel('Surface density [deg$^{-2}$]')\n",
    "plt.grid(alpha=0.1)\n",
    "plt.legend(framealpha=0)\n",
    "\n",
    "plt.title('Classifying $z < 0.03$ (Focal Loss)')"
   ]
  },
  {
   "cell_type": "code",
   "execution_count": 29,
   "metadata": {
    "hidden": true
   },
   "outputs": [
    {
     "data": {
      "text/plain": [
       "Text(0.5, 1.0, 'Classifying $z < 0.03$ (Focal Loss)')"
      ]
     },
     "execution_count": 29,
     "metadata": {},
     "output_type": "execute_result"
    },
    {
     "data": {
      "image/png": "[encoded data removed]",
      "text/plain": [
       "<Figure size 600x400 with 1 Axes>"
      ]
     },
     "metadata": {
      "needs_background": "light"
     },
     "output_type": "display_data"
    }
   ],
   "source": [
    "zdist_dict = {}\n",
    "\n",
    "for num_density in np.arange(1, 200, 1):\n",
    "    N = np.round(num_density * area).astype(int)\n",
    "    \n",
    "    subset = res[mag_range].sort_values('pred_low_z', ascending=False)[:N]\n",
    "    complement = res[mag_range].sort_values('pred_low_z', ascending=False)[N:]\n",
    "    \n",
    "    zdist = {}\n",
    "    \n",
    "    zdist['p50_z_above'] = np.median(subset.SPEC_Z)\n",
    "    zdist['p90_z_above'] = np.quantile(subset.SPEC_Z, 0.90)\n",
    "    zdist['p95_z_above'] = np.quantile(subset.SPEC_Z, 0.95)\n",
    "    zdist['p99_z_above'] = np.quantile(subset.SPEC_Z, 0.99)\n",
    "    \n",
    "    zdist['p10_z_below'] = np.quantile(complement.SPEC_Z, 0.10)\n",
    "    zdist['p05_z_below'] = np.quantile(complement.SPEC_Z, 0.05)\n",
    "    zdist['p01_z_below'] = np.quantile(complement.SPEC_Z, 0.01)\n",
    "\n",
    "    \n",
    "    zdist_dict[num_density] = zdist\n",
    "    \n",
    "all_zdist_df = pd.DataFrame.from_dict(zdist_dict, orient='index').rename_axis('N_per_sq_deg')\n",
    "zdist_df = all_zdist_df.loc[target_density_values]\n",
    "\n",
    "# Plot\n",
    "plt.figure(figsize=(6,4), dpi=100)\n",
    "\n",
    "plt.plot(all_zdist_df.index, all_zdist_df.p50_z_above, c='C0', lw=3, label='Median $z$ of targets above')\n",
    "plt.plot(all_zdist_df.index, all_zdist_df.p95_z_above, c='C1', lw=3, label='95% $z$ of targets above')\n",
    "plt.plot(all_zdist_df.index, all_zdist_df.p05_z_below, c='magenta',  lw=3, label='5% $z$ of targets below')\n",
    "plt.grid(alpha=0.2)\n",
    "plt.ylim(0, 0.65)\n",
    "plt.xscale('log')\n",
    "\n",
    "plt.xlabel('Surface density [deg$^{-2}$]')\n",
    "plt.grid(alpha=0.1)\n",
    "plt.legend(framealpha=0)\n",
    "\n",
    "plt.title('Classifying $z < 0.03$ (Focal Loss)')"
   ]
  },
  {
   "cell_type": "markdown",
   "metadata": {
    "heading_collapsed": true
   },
   "source": [
    "# Label-smoothing cross entropy"
   ]
  },
  {
   "cell_type": "code",
   "execution_count": 73,
   "metadata": {
    "hidden": true
   },
   "outputs": [],
   "source": [
    "# classification\n",
    "dblock = DataBlock(\n",
    "    blocks=(ImageBlock, CategoryBlock),\n",
    "    get_x=ColReader(['OBJID'], pref=f'{PATH}/{img_dir}/', suff='.jpg'),\n",
    "    get_y=ColReader('low_z'),\n",
    "    splitter=RandomSplitter(valid_pct=0.2, seed=seed),\n",
    "    item_tfms=item_tfms,\n",
    "    batch_tfms=batch_tfms,\n",
    ")\n",
    "\n",
    "dls = ImageDataLoaders.from_dblock(dblock, df, path=PATH, bs=bs)"
   ]
  },
  {
   "cell_type": "code",
   "execution_count": 75,
   "metadata": {
    "hidden": true,
    "scrolled": true
   },
   "outputs": [
    {
     "name": "stdout",
     "output_type": "stream",
     "text": [
      "@log_args had an issue on LabelSmoothingCrossEntropy.__init__ -> missing a required argument: 'self'\n"
     ]
    },
    {
     "data": {
      "text/html": [
       "<table border=\"1\" class=\"dataframe\">\n",
       "  <thead>\n",
       "    <tr style=\"text-align: left;\">\n",
       "      <th>epoch</th>\n",
       "      <th>train_loss</th>\n",
       "      <th>valid_loss</th>\n",
       "      <th>time</th>\n",
       "    </tr>\n",
       "  </thead>\n",
       "  <tbody>\n",
       "    <tr>\n",
       "      <td>0</td>\n",
       "      <td>0.242696</td>\n",
       "      <td>0.239366</td>\n",
       "      <td>01:18</td>\n",
       "    </tr>\n",
       "    <tr>\n",
       "      <td>1</td>\n",
       "      <td>0.238181</td>\n",
       "      <td>0.235271</td>\n",
       "      <td>01:18</td>\n",
       "    </tr>\n",
       "    <tr>\n",
       "      <td>2</td>\n",
       "      <td>0.233227</td>\n",
       "      <td>0.229768</td>\n",
       "      <td>01:18</td>\n",
       "    </tr>\n",
       "    <tr>\n",
       "      <td>3</td>\n",
       "      <td>0.229359</td>\n",
       "      <td>0.231671</td>\n",
       "      <td>01:18</td>\n",
       "    </tr>\n",
       "    <tr>\n",
       "      <td>4</td>\n",
       "      <td>0.230564</td>\n",
       "      <td>0.228621</td>\n",
       "      <td>01:18</td>\n",
       "    </tr>\n",
       "    <tr>\n",
       "      <td>5</td>\n",
       "      <td>0.227549</td>\n",
       "      <td>0.226093</td>\n",
       "      <td>01:19</td>\n",
       "    </tr>\n",
       "    <tr>\n",
       "      <td>6</td>\n",
       "      <td>0.228772</td>\n",
       "      <td>0.225872</td>\n",
       "      <td>01:18</td>\n",
       "    </tr>\n",
       "    <tr>\n",
       "      <td>7</td>\n",
       "      <td>0.225038</td>\n",
       "      <td>0.224146</td>\n",
       "      <td>01:18</td>\n",
       "    </tr>\n",
       "    <tr>\n",
       "      <td>8</td>\n",
       "      <td>0.222954</td>\n",
       "      <td>0.223525</td>\n",
       "      <td>01:18</td>\n",
       "    </tr>\n",
       "    <tr>\n",
       "      <td>9</td>\n",
       "      <td>0.226166</td>\n",
       "      <td>0.223507</td>\n",
       "      <td>01:19</td>\n",
       "    </tr>\n",
       "  </tbody>\n",
       "</table>"
      ],
      "text/plain": [
       "<IPython.core.display.HTML object>"
      ]
     },
     "metadata": {},
     "output_type": "display_data"
    }
   ],
   "source": [
    "model = nn.Sequential(\n",
    "    FastDeconv(3, 32, 3, stride=2), MishCuda(),\n",
    "    FastDeconv(32, 32, 3, stride=2), MishCuda(),\n",
    "    FastDeconv(32, 64, 3), MishCuda(),\n",
    "    nn.AdaptiveAvgPool2d(1),\n",
    "    Flatten(),\n",
    "    nn.Linear(64, dls.c)\n",
    ").cuda()\n",
    "\n",
    "learn = Learner(\n",
    "    dls, model, \n",
    "    opt_func=ranger, \n",
    "    loss_func=LabelSmoothingCrossEntropy(eps=0.1),\n",
    ")\n",
    "\n",
    "learn.fit_one_cycle(10, 1e-2)"
   ]
  },
  {
   "cell_type": "code",
   "execution_count": 76,
   "metadata": {
    "hidden": true
   },
   "outputs": [],
   "source": [
    "# learn.save('hybridcnn-simple_ce-ls')\n",
    "learn.load('hybridcnn-simple_ce-ls');"
   ]
  },
  {
   "cell_type": "code",
   "execution_count": 77,
   "metadata": {
    "hidden": true
   },
   "outputs": [
    {
     "data": {
      "text/html": [],
      "text/plain": [
       "<IPython.core.display.HTML object>"
      ]
     },
     "metadata": {},
     "output_type": "display_data"
    }
   ],
   "source": [
    "preds, _ = learn.get_preds()\n",
    "\n",
    "res = dls.valid.items.copy()\n",
    "res['pred_low_z'] = preds.softmax(1)[:,1].numpy()"
   ]
  },
  {
   "cell_type": "code",
   "execution_count": 82,
   "metadata": {
    "hidden": true
   },
   "outputs": [
    {
     "data": {
      "text/plain": [
       "Text(0.5, 1.0, 'Classifying $z < 0.03$ (LS Cross Entropy)')"
      ]
     },
     "execution_count": 82,
     "metadata": {},
     "output_type": "execute_result"
    },
    {
     "data": {
      "image/png": "[encoded data removed]",
      "text/plain": [
       "<Figure size 600x400 with 1 Axes>"
      ]
     },
     "metadata": {
      "needs_background": "light"
     },
     "output_type": "display_data"
    }
   ],
   "source": [
    "metrics_dict = {}\n",
    "\n",
    "target_density_values = [1, 2, 3, 5, 10, 15, 20, 30, 50, 100]\n",
    "area = 0.2 * len(res.HOSTID.unique()) * np.pi * 1**2 # 0.2 is validation percent\n",
    "\n",
    "for num_density in np.arange(1, 200, 1):\n",
    "    N = np.round(num_density * area).astype(int)\n",
    "    mag_range = (19 < res.r_mag) & (res.r_mag < 21)\n",
    "    subset = res[mag_range].sort_values('pred_low_z', ascending=False).reset_index()\n",
    "    metrics = get_top_N_metrics(subset, N)\n",
    "    metrics_dict[num_density] = metrics\n",
    "    \n",
    "all_metrics_df = pd.DataFrame.from_dict(metrics_dict, orient='index').rename_axis('N_per_sq_deg')\n",
    "metrics_df = all_metrics_df.loc[target_density_values]\n",
    "\n",
    "# plot\n",
    "plt.figure(figsize=(6,4), dpi=100)\n",
    "plt.plot(metrics_df.index, metrics_df.completeness_02, c='#ff6361', lw=3, label='$z<0.02$ completeness')\n",
    "plt.plot(metrics_df.index, metrics_df.purity_03, c='#ffa600', lw=3, label='$z<0.03$ purity')\n",
    "plt.plot(metrics_df.index, metrics_df.geometric_mean, c='#003f5c', lw=3, ls='-', label='Geometric mean')\n",
    "\n",
    "plt.ylim(0, 1)\n",
    "plt.xscale('log')\n",
    "plt.xticks(target_density_values, labels=target_density_values)\n",
    "\n",
    "plt.xlabel('Surface density [deg$^{-2}$]')\n",
    "plt.grid(alpha=0.1)\n",
    "plt.legend(framealpha=0)\n",
    "\n",
    "plt.title('Classifying $z < 0.03$ (LS Cross Entropy)')"
   ]
  },
  {
   "cell_type": "code",
   "execution_count": 81,
   "metadata": {
    "hidden": true
   },
   "outputs": [
    {
     "data": {
      "text/plain": [
       "Text(0.5, 1.0, 'Classifying $z < 0.03$ (LS Cross Entropy)')"
      ]
     },
     "execution_count": 81,
     "metadata": {},
     "output_type": "execute_result"
    },
    {
     "data": {
      "image/png": "[encoded data removed]",
      "text/plain": [
       "<Figure size 600x400 with 1 Axes>"
      ]
     },
     "metadata": {
      "needs_background": "light"
     },
     "output_type": "display_data"
    }
   ],
   "source": [
    "zdist_dict = {}\n",
    "\n",
    "for num_density in np.arange(1, 200, 1):\n",
    "    N = np.round(num_density * area).astype(int)\n",
    "    \n",
    "    subset = res[mag_range].sort_values('pred_low_z', ascending=False)[:N]\n",
    "    complement = res[mag_range].sort_values('pred_low_z', ascending=False)[N:]\n",
    "    \n",
    "    zdist = {}\n",
    "    \n",
    "    zdist['p50_z_above'] = np.median(subset.SPEC_Z)\n",
    "    zdist['p90_z_above'] = np.quantile(subset.SPEC_Z, 0.90)\n",
    "    zdist['p95_z_above'] = np.quantile(subset.SPEC_Z, 0.95)\n",
    "    zdist['p99_z_above'] = np.quantile(subset.SPEC_Z, 0.99)\n",
    "    \n",
    "    zdist['p10_z_below'] = np.quantile(complement.SPEC_Z, 0.10)\n",
    "    zdist['p05_z_below'] = np.quantile(complement.SPEC_Z, 0.05)\n",
    "    zdist['p01_z_below'] = np.quantile(complement.SPEC_Z, 0.01)\n",
    "\n",
    "    \n",
    "    zdist_dict[num_density] = zdist\n",
    "    \n",
    "all_zdist_df = pd.DataFrame.from_dict(zdist_dict, orient='index').rename_axis('N_per_sq_deg')\n",
    "zdist_df = all_zdist_df.loc[target_density_values]\n",
    "\n",
    "# Plot\n",
    "plt.figure(figsize=(6,4), dpi=100)\n",
    "\n",
    "plt.plot(zdist_df.index, zdist_df.p50_z_above, c='C0', lw=3, label='Median $z$ of targets above')\n",
    "plt.plot(zdist_df.index, zdist_df.p95_z_above, c='C1', lw=3, label='95% $z$ of targets above')\n",
    "plt.plot(zdist_df.index, zdist_df.p05_z_below, c='magenta',  lw=3, label='5% $z$ of targets below')\n",
    "plt.grid(alpha=0.2)\n",
    "plt.ylim(0, 0.65)\n",
    "plt.xscale('log')\n",
    "\n",
    "plt.xlabel('Surface density [deg$^{-2}$]')\n",
    "plt.grid(alpha=0.1)\n",
    "plt.legend(framealpha=0)\n",
    "\n",
    "plt.title('Classifying $z < 0.03$ (LS Cross Entropy)')"
   ]
  },
  {
   "cell_type": "markdown",
   "metadata": {
    "heading_collapsed": true
   },
   "source": [
    "# Use focal loss and optimize different redshifts\n"
   ]
  },
  {
   "cell_type": "code",
   "execution_count": 6,
   "metadata": {
    "hidden": true
   },
   "outputs": [],
   "source": [
    "# https://github.com/fastai/fastai/blob/master/fastai/losses.py#L48\n",
    "class FocalLossFlat(CrossEntropyLossFlat):\n",
    "    \"\"\"\n",
    "    Same as CrossEntropyLossFlat but with focal paramter, `gamma`. Focal loss is introduced by Lin et al.\n",
    "    https://arxiv.org/pdf/1708.02002.pdf. Note the class weighting factor in the paper, alpha, can be\n",
    "    implemented through pytorch `weight` argument in nn.CrossEntropyLoss.\n",
    "    \"\"\"\n",
    "    y_int = True\n",
    "    @use_kwargs_dict(keep=True, weight=None, ignore_index=-100, reduction='mean')\n",
    "    def __init__(self, *args, gamma=2, axis=-1, **kwargs):\n",
    "        self.gamma = gamma\n",
    "        self.reduce = kwargs.pop('reduction') if 'reduction' in kwargs else 'mean'\n",
    "        super().__init__(*args, reduction='none', axis=axis, **kwargs)\n",
    "    def __call__(self, inp, targ, **kwargs):\n",
    "        ce_loss = super().__call__(inp, targ, **kwargs)\n",
    "        pt = torch.exp(-ce_loss)\n",
    "        fl_loss = (1-pt)**self.gamma * ce_loss\n",
    "        return fl_loss.mean() if self.reduce == 'mean' else fl_loss.sum() if self.reduce == 'sum' else fl_loss"
   ]
  },
  {
   "cell_type": "code",
   "execution_count": 8,
   "metadata": {
    "hidden": true
   },
   "outputs": [],
   "source": [
    "sz = 80\n",
    "bs = 128\n",
    "\n",
    "img_dir = 'images-legacy_saga-2021-02-19'\n",
    "\n",
    "legacy_image_stats = [np.array([0.14814416, 0.14217226, 0.13984123]), np.array([0.0881476 , 0.07823102, 0.07676626])]\n",
    "\n",
    "item_tfms = [Resize(sz)]\n",
    "batch_tfms = (\n",
    "    aug_transforms(max_zoom=1., flip_vert=True, max_lighting=0., max_warp=0.) + \n",
    "    [Normalize.from_stats(*legacy_image_stats)]\n",
    ")\n",
    "\n",
    "seed = 1024  "
   ]
  },
  {
   "cell_type": "markdown",
   "metadata": {
    "hidden": true
   },
   "source": [
    "## z < 0.1"
   ]
  },
  {
   "cell_type": "code",
   "execution_count": 10,
   "metadata": {
    "hidden": true
   },
   "outputs": [],
   "source": [
    "saga = pd.read_csv(f'{PATH}/data/saga_redshifts_2021-02-19.csv', dtype={'OBJID': str})\n",
    "\n",
    "df = saga.sample(frac=1).copy()\n",
    "df['z_0p1'] = df.SPEC_Z < 0.1\n",
    "\n",
    "# in order to use with previous utils\n",
    "df['SPEC_FLAG'] = 1"
   ]
  },
  {
   "cell_type": "code",
   "execution_count": 11,
   "metadata": {
    "hidden": true
   },
   "outputs": [],
   "source": [
    "# classification\n",
    "dblock = DataBlock(\n",
    "    blocks=(ImageBlock, CategoryBlock),\n",
    "    get_x=ColReader(['OBJID'], pref=f'{PATH}/{img_dir}/', suff='.jpg'),\n",
    "    get_y=ColReader('z_0p1'),\n",
    "    splitter=RandomSplitter(valid_pct=0.2, seed=seed),\n",
    "    item_tfms=item_tfms,\n",
    "    batch_tfms=batch_tfms,\n",
    ")\n",
    "\n",
    "dls = ImageDataLoaders.from_dblock(dblock, df, path=PATH, bs=bs)"
   ]
  },
  {
   "cell_type": "code",
   "execution_count": 12,
   "metadata": {
    "hidden": true
   },
   "outputs": [],
   "source": [
    "model = nn.Sequential(\n",
    "    FastDeconv(3, 32, 3, stride=2), MishCuda(),\n",
    "    FastDeconv(32, 32, 3, stride=2), MishCuda(),\n",
    "    FastDeconv(32, 64, 3), MishCuda(),\n",
    "    nn.AdaptiveAvgPool2d(1),\n",
    "    Flatten(),\n",
    "    nn.Linear(64, dls.c)\n",
    ").cuda()\n",
    "\n",
    "learn = Learner(\n",
    "    dls, model, \n",
    "    opt_func=ranger, \n",
    "    loss_func=FocalLossFlat(),\n",
    ")"
   ]
  },
  {
   "cell_type": "code",
   "execution_count": 13,
   "metadata": {
    "hidden": true
   },
   "outputs": [
    {
     "data": {
      "text/html": [
       "<table border=\"1\" class=\"dataframe\">\n",
       "  <thead>\n",
       "    <tr style=\"text-align: left;\">\n",
       "      <th>epoch</th>\n",
       "      <th>train_loss</th>\n",
       "      <th>valid_loss</th>\n",
       "      <th>time</th>\n",
       "    </tr>\n",
       "  </thead>\n",
       "  <tbody>\n",
       "    <tr>\n",
       "      <td>0</td>\n",
       "      <td>0.077293</td>\n",
       "      <td>0.084960</td>\n",
       "      <td>03:27</td>\n",
       "    </tr>\n",
       "    <tr>\n",
       "      <td>1</td>\n",
       "      <td>0.070015</td>\n",
       "      <td>0.068714</td>\n",
       "      <td>01:09</td>\n",
       "    </tr>\n",
       "    <tr>\n",
       "      <td>2</td>\n",
       "      <td>0.063700</td>\n",
       "      <td>0.061752</td>\n",
       "      <td>01:09</td>\n",
       "    </tr>\n",
       "    <tr>\n",
       "      <td>3</td>\n",
       "      <td>0.062403</td>\n",
       "      <td>0.062520</td>\n",
       "      <td>01:09</td>\n",
       "    </tr>\n",
       "    <tr>\n",
       "      <td>4</td>\n",
       "      <td>0.059381</td>\n",
       "      <td>0.057899</td>\n",
       "      <td>01:09</td>\n",
       "    </tr>\n",
       "    <tr>\n",
       "      <td>5</td>\n",
       "      <td>0.057829</td>\n",
       "      <td>0.055390</td>\n",
       "      <td>01:09</td>\n",
       "    </tr>\n",
       "    <tr>\n",
       "      <td>6</td>\n",
       "      <td>0.053078</td>\n",
       "      <td>0.055254</td>\n",
       "      <td>01:09</td>\n",
       "    </tr>\n",
       "    <tr>\n",
       "      <td>7</td>\n",
       "      <td>0.053737</td>\n",
       "      <td>0.053070</td>\n",
       "      <td>01:09</td>\n",
       "    </tr>\n",
       "    <tr>\n",
       "      <td>8</td>\n",
       "      <td>0.054716</td>\n",
       "      <td>0.052558</td>\n",
       "      <td>01:09</td>\n",
       "    </tr>\n",
       "    <tr>\n",
       "      <td>9</td>\n",
       "      <td>0.052180</td>\n",
       "      <td>0.052387</td>\n",
       "      <td>01:09</td>\n",
       "    </tr>\n",
       "  </tbody>\n",
       "</table>"
      ],
      "text/plain": [
       "<IPython.core.display.HTML object>"
      ]
     },
     "metadata": {},
     "output_type": "display_data"
    }
   ],
   "source": [
    "learn.fit_one_cycle(10, 1e-2)"
   ]
  },
  {
   "cell_type": "code",
   "execution_count": 14,
   "metadata": {
    "hidden": true
   },
   "outputs": [],
   "source": [
    "learn.save('hybridcnn-simple_focal_z<0.1')\n",
    "learn.load('hybridcnn-simple_focal_z<0.1');"
   ]
  },
  {
   "cell_type": "markdown",
   "metadata": {
    "hidden": true
   },
   "source": [
    "Get predictions"
   ]
  },
  {
   "cell_type": "code",
   "execution_count": 15,
   "metadata": {
    "hidden": true
   },
   "outputs": [
    {
     "data": {
      "text/html": [],
      "text/plain": [
       "<IPython.core.display.HTML object>"
      ]
     },
     "metadata": {},
     "output_type": "display_data"
    }
   ],
   "source": [
    "preds, _ = learn.get_preds()\n",
    "\n",
    "res = dls.valid.items.copy()\n",
    "res['pred_low_z'] = preds.softmax(1)[:,1].numpy()"
   ]
  },
  {
   "cell_type": "code",
   "execution_count": 16,
   "metadata": {
    "hidden": true
   },
   "outputs": [
    {
     "data": {
      "text/plain": [
       "Text(0.5, 1.0, 'Classifying $z < 0.1$ (Focal Loss)')"
      ]
     },
     "execution_count": 16,
     "metadata": {},
     "output_type": "execute_result"
    },
    {
     "data": {
      "image/png": "[encoded data removed]",
      "text/plain": [
       "<Figure size 600x400 with 1 Axes>"
      ]
     },
     "metadata": {
      "needs_background": "light"
     },
     "output_type": "display_data"
    }
   ],
   "source": [
    "metrics_dict = {}\n",
    "\n",
    "target_density_values = [1, 2, 3, 5, 10, 15, 20, 30, 50, 100]\n",
    "area = 0.2 * len(res.HOSTID.unique()) * np.pi * 1**2 # 0.2 is validation percent\n",
    "\n",
    "for num_density in np.arange(1, 200, 1):\n",
    "    N = np.round(num_density * area).astype(int)\n",
    "    mag_range = (19 < res.r_mag) & (res.r_mag < 21)\n",
    "    subset = res[mag_range].sort_values('pred_low_z', ascending=False).reset_index()\n",
    "    metrics = get_top_N_metrics(subset, N)\n",
    "    metrics_dict[num_density] = metrics\n",
    "    \n",
    "all_metrics_df = pd.DataFrame.from_dict(metrics_dict, orient='index').rename_axis('N_per_sq_deg')\n",
    "metrics_df = all_metrics_df.loc[target_density_values]\n",
    "\n",
    "# plot\n",
    "plt.figure(figsize=(6,4), dpi=100)\n",
    "plt.plot(all_metrics_df.index, all_metrics_df.completeness_02, c='#ff6361', lw=3, label='$z<0.02$ completeness')\n",
    "plt.plot(all_metrics_df.index, all_metrics_df.purity_03, c='#ffa600', lw=3, label='$z<0.03$ purity')\n",
    "plt.plot(all_metrics_df.index, all_metrics_df.geometric_mean, c='#003f5c', lw=3, ls='-', label='Geometric mean')\n",
    "\n",
    "plt.ylim(0, 1)\n",
    "plt.xscale('log')\n",
    "plt.xticks(target_density_values, labels=target_density_values)\n",
    "\n",
    "plt.xlabel('Surface density [deg$^{-2}$]')\n",
    "plt.grid(alpha=0.1)\n",
    "plt.legend(framealpha=0)\n",
    "\n",
    "plt.title('Classifying $z < 0.1$ (Focal Loss)')"
   ]
  },
  {
   "cell_type": "code",
   "execution_count": 17,
   "metadata": {
    "hidden": true
   },
   "outputs": [
    {
     "data": {
      "text/plain": [
       "Text(0.5, 1.0, 'Classifying $z < 0.1$ (Focal Loss)')"
      ]
     },
     "execution_count": 17,
     "metadata": {},
     "output_type": "execute_result"
    },
    {
     "data": {
      "image/png": "[encoded data removed]",
      "text/plain": [
       "<Figure size 600x400 with 1 Axes>"
      ]
     },
     "metadata": {
      "needs_background": "light"
     },
     "output_type": "display_data"
    }
   ],
   "source": [
    "zdist_dict = {}\n",
    "\n",
    "for num_density in np.arange(1, 200, 1):\n",
    "    N = np.round(num_density * area).astype(int)\n",
    "    \n",
    "    subset = res[mag_range].sort_values('pred_low_z', ascending=False)[:N]\n",
    "    complement = res[mag_range].sort_values('pred_low_z', ascending=False)[N:]\n",
    "    \n",
    "    zdist = {}\n",
    "    \n",
    "    zdist['p50_z_above'] = np.median(subset.SPEC_Z)\n",
    "    zdist['p90_z_above'] = np.quantile(subset.SPEC_Z, 0.90)\n",
    "    zdist['p95_z_above'] = np.quantile(subset.SPEC_Z, 0.95)\n",
    "    zdist['p99_z_above'] = np.quantile(subset.SPEC_Z, 0.99)\n",
    "    \n",
    "    zdist['p10_z_below'] = np.quantile(complement.SPEC_Z, 0.10)\n",
    "    zdist['p05_z_below'] = np.quantile(complement.SPEC_Z, 0.05)\n",
    "    zdist['p01_z_below'] = np.quantile(complement.SPEC_Z, 0.01)\n",
    "\n",
    "    \n",
    "    zdist_dict[num_density] = zdist\n",
    "    \n",
    "all_zdist_df = pd.DataFrame.from_dict(zdist_dict, orient='index').rename_axis('N_per_sq_deg')\n",
    "zdist_df = all_zdist_df.loc[target_density_values]\n",
    "\n",
    "# Plot\n",
    "plt.figure(figsize=(6,4), dpi=100)\n",
    "\n",
    "plt.plot(all_zdist_df.index, all_zdist_df.p50_z_above, c='C0', lw=3, label='Median $z$ of targets above')\n",
    "plt.plot(all_zdist_df.index, all_zdist_df.p95_z_above, c='C1', lw=3, label='95% $z$ of targets above')\n",
    "plt.plot(all_zdist_df.index, all_zdist_df.p05_z_below, c='magenta',  lw=3, label='5% $z$ of targets below')\n",
    "plt.grid(alpha=0.2)\n",
    "plt.ylim(0, 0.65)\n",
    "plt.xscale('log')\n",
    "\n",
    "plt.xlabel('Surface density [deg$^{-2}$]')\n",
    "plt.grid(alpha=0.1)\n",
    "plt.legend(framealpha=0)\n",
    "\n",
    "plt.title('Classifying $z < 0.1$ (Focal Loss)')"
   ]
  },
  {
   "cell_type": "markdown",
   "metadata": {
    "hidden": true
   },
   "source": [
    "## Classify z < 0.05"
   ]
  },
  {
   "cell_type": "code",
   "execution_count": 18,
   "metadata": {
    "hidden": true
   },
   "outputs": [],
   "source": [
    "saga = pd.read_csv(f'{PATH}/data/saga_redshifts_2021-02-19.csv', dtype={'OBJID': str})\n",
    "\n",
    "df = saga.sample(frac=1).copy()\n",
    "df['z_0p05'] = df.SPEC_Z < 0.05\n",
    "\n",
    "# in order to use with previous utils\n",
    "df['SPEC_FLAG'] = 1"
   ]
  },
  {
   "cell_type": "code",
   "execution_count": 19,
   "metadata": {
    "hidden": true
   },
   "outputs": [],
   "source": [
    "# classification\n",
    "dblock = DataBlock(\n",
    "    blocks=(ImageBlock, CategoryBlock),\n",
    "    get_x=ColReader(['OBJID'], pref=f'{PATH}/{img_dir}/', suff='.jpg'),\n",
    "    get_y=ColReader('z_0p05'),\n",
    "    splitter=RandomSplitter(valid_pct=0.2, seed=seed),\n",
    "    item_tfms=item_tfms,\n",
    "    batch_tfms=batch_tfms,\n",
    ")\n",
    "\n",
    "dls = ImageDataLoaders.from_dblock(dblock, df, path=PATH, bs=bs)"
   ]
  },
  {
   "cell_type": "code",
   "execution_count": 20,
   "metadata": {
    "hidden": true
   },
   "outputs": [],
   "source": [
    "model = nn.Sequential(\n",
    "    FastDeconv(3, 32, 3, stride=2), MishCuda(),\n",
    "    FastDeconv(32, 32, 3, stride=2), MishCuda(),\n",
    "    FastDeconv(32, 64, 3), MishCuda(),\n",
    "    nn.AdaptiveAvgPool2d(1),\n",
    "    Flatten(),\n",
    "    nn.Linear(64, dls.c)\n",
    ").cuda()\n",
    "\n",
    "learn = Learner(\n",
    "    dls, model, \n",
    "    opt_func=ranger, \n",
    "    loss_func=FocalLossFlat(),\n",
    ")"
   ]
  },
  {
   "cell_type": "code",
   "execution_count": 21,
   "metadata": {
    "hidden": true
   },
   "outputs": [
    {
     "data": {
      "text/html": [
       "<table border=\"1\" class=\"dataframe\">\n",
       "  <thead>\n",
       "    <tr style=\"text-align: left;\">\n",
       "      <th>epoch</th>\n",
       "      <th>train_loss</th>\n",
       "      <th>valid_loss</th>\n",
       "      <th>time</th>\n",
       "    </tr>\n",
       "  </thead>\n",
       "  <tbody>\n",
       "    <tr>\n",
       "      <td>0</td>\n",
       "      <td>0.037387</td>\n",
       "      <td>0.040103</td>\n",
       "      <td>01:08</td>\n",
       "    </tr>\n",
       "    <tr>\n",
       "      <td>1</td>\n",
       "      <td>0.033400</td>\n",
       "      <td>0.037255</td>\n",
       "      <td>01:09</td>\n",
       "    </tr>\n",
       "    <tr>\n",
       "      <td>2</td>\n",
       "      <td>0.031814</td>\n",
       "      <td>0.030503</td>\n",
       "      <td>01:09</td>\n",
       "    </tr>\n",
       "    <tr>\n",
       "      <td>3</td>\n",
       "      <td>0.028629</td>\n",
       "      <td>0.031903</td>\n",
       "      <td>01:09</td>\n",
       "    </tr>\n",
       "    <tr>\n",
       "      <td>4</td>\n",
       "      <td>0.029438</td>\n",
       "      <td>0.028474</td>\n",
       "      <td>01:09</td>\n",
       "    </tr>\n",
       "    <tr>\n",
       "      <td>5</td>\n",
       "      <td>0.026237</td>\n",
       "      <td>0.027755</td>\n",
       "      <td>01:09</td>\n",
       "    </tr>\n",
       "    <tr>\n",
       "      <td>6</td>\n",
       "      <td>0.027202</td>\n",
       "      <td>0.026811</td>\n",
       "      <td>01:09</td>\n",
       "    </tr>\n",
       "    <tr>\n",
       "      <td>7</td>\n",
       "      <td>0.024891</td>\n",
       "      <td>0.025853</td>\n",
       "      <td>01:09</td>\n",
       "    </tr>\n",
       "    <tr>\n",
       "      <td>8</td>\n",
       "      <td>0.025499</td>\n",
       "      <td>0.025388</td>\n",
       "      <td>01:09</td>\n",
       "    </tr>\n",
       "    <tr>\n",
       "      <td>9</td>\n",
       "      <td>0.023567</td>\n",
       "      <td>0.025278</td>\n",
       "      <td>01:09</td>\n",
       "    </tr>\n",
       "  </tbody>\n",
       "</table>"
      ],
      "text/plain": [
       "<IPython.core.display.HTML object>"
      ]
     },
     "metadata": {},
     "output_type": "display_data"
    }
   ],
   "source": [
    "learn.fit_one_cycle(10, 1e-2)"
   ]
  },
  {
   "cell_type": "code",
   "execution_count": 22,
   "metadata": {
    "hidden": true
   },
   "outputs": [],
   "source": [
    "learn.save('hybridcnn-simple_focal_z<0.05')\n",
    "learn.load('hybridcnn-simple_focal_z<0.05');"
   ]
  },
  {
   "cell_type": "markdown",
   "metadata": {
    "hidden": true
   },
   "source": [
    "Get predictions"
   ]
  },
  {
   "cell_type": "code",
   "execution_count": 23,
   "metadata": {
    "hidden": true
   },
   "outputs": [
    {
     "data": {
      "text/html": [],
      "text/plain": [
       "<IPython.core.display.HTML object>"
      ]
     },
     "metadata": {},
     "output_type": "display_data"
    }
   ],
   "source": [
    "preds, _ = learn.get_preds()\n",
    "\n",
    "res = dls.valid.items.copy()\n",
    "res['pred_low_z'] = preds.softmax(1)[:,1].numpy()"
   ]
  },
  {
   "cell_type": "code",
   "execution_count": 24,
   "metadata": {
    "hidden": true
   },
   "outputs": [
    {
     "data": {
      "text/plain": [
       "Text(0.5, 1.0, 'Classifying $z < 0.05$ (Focal Loss)')"
      ]
     },
     "execution_count": 24,
     "metadata": {},
     "output_type": "execute_result"
    },
    {
     "data": {
      "image/png": "[encoded data removed]",
      "text/plain": [
       "<Figure size 600x400 with 1 Axes>"
      ]
     },
     "metadata": {
      "needs_background": "light"
     },
     "output_type": "display_data"
    }
   ],
   "source": [
    "metrics_dict = {}\n",
    "\n",
    "target_density_values = [1, 2, 3, 5, 10, 15, 20, 30, 50, 100]\n",
    "area = 0.2 * len(res.HOSTID.unique()) * np.pi * 1**2 # 0.2 is validation percent\n",
    "\n",
    "for num_density in np.arange(1, 200, 1):\n",
    "    N = np.round(num_density * area).astype(int)\n",
    "    mag_range = (19 < res.r_mag) & (res.r_mag < 21)\n",
    "    subset = res[mag_range].sort_values('pred_low_z', ascending=False).reset_index()\n",
    "    metrics = get_top_N_metrics(subset, N)\n",
    "    metrics_dict[num_density] = metrics\n",
    "    \n",
    "all_metrics_df = pd.DataFrame.from_dict(metrics_dict, orient='index').rename_axis('N_per_sq_deg')\n",
    "metrics_df = all_metrics_df.loc[target_density_values]\n",
    "\n",
    "# plot\n",
    "plt.figure(figsize=(6,4), dpi=100)\n",
    "plt.plot(all_metrics_df.index, all_metrics_df.completeness_02, c='#ff6361', lw=3, label='$z<0.02$ completeness')\n",
    "plt.plot(all_metrics_df.index, all_metrics_df.purity_03, c='#ffa600', lw=3, label='$z<0.03$ purity')\n",
    "plt.plot(all_metrics_df.index, all_metrics_df.geometric_mean, c='#003f5c', lw=3, ls='-', label='Geometric mean')\n",
    "\n",
    "plt.ylim(0, 1)\n",
    "plt.xscale('log')\n",
    "plt.xticks(target_density_values, labels=target_density_values)\n",
    "\n",
    "plt.xlabel('Surface density [deg$^{-2}$]')\n",
    "plt.grid(alpha=0.1)\n",
    "plt.legend(framealpha=0)\n",
    "\n",
    "plt.title('Classifying $z < 0.05$ (Focal Loss)')"
   ]
  },
  {
   "cell_type": "code",
   "execution_count": 25,
   "metadata": {
    "hidden": true
   },
   "outputs": [
    {
     "data": {
      "text/plain": [
       "Text(0.5, 1.0, 'Classifying $z < 0.05$ (Focal Loss)')"
      ]
     },
     "execution_count": 25,
     "metadata": {},
     "output_type": "execute_result"
    },
    {
     "data": {
      "image/png": "[encoded data removed]",
      "text/plain": [
       "<Figure size 600x400 with 1 Axes>"
      ]
     },
     "metadata": {
      "needs_background": "light"
     },
     "output_type": "display_data"
    }
   ],
   "source": [
    "zdist_dict = {}\n",
    "\n",
    "for num_density in np.arange(1, 200, 1):\n",
    "    N = np.round(num_density * area).astype(int)\n",
    "    \n",
    "    subset = res[mag_range].sort_values('pred_low_z', ascending=False)[:N]\n",
    "    complement = res[mag_range].sort_values('pred_low_z', ascending=False)[N:]\n",
    "    \n",
    "    zdist = {}\n",
    "    \n",
    "    zdist['p50_z_above'] = np.median(subset.SPEC_Z)\n",
    "    zdist['p90_z_above'] = np.quantile(subset.SPEC_Z, 0.90)\n",
    "    zdist['p95_z_above'] = np.quantile(subset.SPEC_Z, 0.95)\n",
    "    zdist['p99_z_above'] = np.quantile(subset.SPEC_Z, 0.99)\n",
    "    \n",
    "    zdist['p10_z_below'] = np.quantile(complement.SPEC_Z, 0.10)\n",
    "    zdist['p05_z_below'] = np.quantile(complement.SPEC_Z, 0.05)\n",
    "    zdist['p01_z_below'] = np.quantile(complement.SPEC_Z, 0.01)\n",
    "\n",
    "    \n",
    "    zdist_dict[num_density] = zdist\n",
    "    \n",
    "all_zdist_df = pd.DataFrame.from_dict(zdist_dict, orient='index').rename_axis('N_per_sq_deg')\n",
    "zdist_df = all_zdist_df.loc[target_density_values]\n",
    "\n",
    "# Plot\n",
    "plt.figure(figsize=(6,4), dpi=100)\n",
    "\n",
    "plt.plot(all_zdist_df.index, all_zdist_df.p50_z_above, c='C0', lw=3, label='Median $z$ of targets above')\n",
    "plt.plot(all_zdist_df.index, all_zdist_df.p95_z_above, c='C1', lw=3, label='95% $z$ of targets above')\n",
    "plt.plot(all_zdist_df.index, all_zdist_df.p05_z_below, c='magenta',  lw=3, label='5% $z$ of targets below')\n",
    "plt.grid(alpha=0.2)\n",
    "plt.ylim(0, 0.65)\n",
    "plt.xscale('log')\n",
    "\n",
    "plt.xlabel('Surface density [deg$^{-2}$]')\n",
    "plt.grid(alpha=0.1)\n",
    "plt.legend(framealpha=0)\n",
    "\n",
    "plt.title('Classifying $z < 0.05$ (Focal Loss)')"
   ]
  },
  {
   "cell_type": "markdown",
   "metadata": {},
   "source": [
    "# Full tests with Focal Loss (no oversampling)"
   ]
  },
  {
   "cell_type": "code",
   "execution_count": 20,
   "metadata": {},
   "outputs": [],
   "source": [
    "results = {}"
   ]
  },
  {
   "cell_type": "markdown",
   "metadata": {},
   "source": [
    "## Size 80 pixels, hd-xresnet18"
   ]
  },
  {
   "cell_type": "code",
   "execution_count": 12,
   "metadata": {},
   "outputs": [],
   "source": [
    "saga = pd.read_csv(f'{PATH}/data/saga_redshifts_2021-02-19.csv', dtype={'OBJID': str})\n",
    "\n",
    "df = saga.sample(frac=1).copy()\n",
    "df['low_z'] = df.SPEC_Z < 0.03\n",
    "\n",
    "# in order to use with previous utils\n",
    "df['SPEC_FLAG'] = 1"
   ]
  },
  {
   "cell_type": "code",
   "execution_count": 18,
   "metadata": {},
   "outputs": [],
   "source": [
    "sz = 80\n",
    "bs = 128\n",
    "\n",
    "img_dir = 'images-legacy_saga-2021-02-19'\n",
    "\n",
    "legacy_image_stats = [np.array([0.14814416, 0.14217226, 0.13984123]), np.array([0.0881476 , 0.07823102, 0.07676626])]\n",
    "\n",
    "item_tfms = [Resize(sz)]\n",
    "batch_tfms = (\n",
    "    aug_transforms(max_zoom=1., flip_vert=True, max_lighting=0., max_warp=0.) + \n",
    "    [Normalize.from_stats(*legacy_image_stats)]\n",
    ")\n",
    "\n",
    "seed = 256  "
   ]
  },
  {
   "cell_type": "code",
   "execution_count": 19,
   "metadata": {},
   "outputs": [],
   "source": [
    "label_column = 'low_z'\n",
    "loss_func = FocalLossFlat()"
   ]
  },
  {
   "cell_type": "code",
   "execution_count": 21,
   "metadata": {},
   "outputs": [
    {
     "name": "stdout",
     "output_type": "stream",
     "text": [
      "======================\n",
      "  Beginning fold 1/4\n",
      "======================\n"
     ]
    },
    {
     "data": {
      "text/html": [
       "<table border=\"1\" class=\"dataframe\">\n",
       "  <thead>\n",
       "    <tr style=\"text-align: left;\">\n",
       "      <th>epoch</th>\n",
       "      <th>train_loss</th>\n",
       "      <th>valid_loss</th>\n",
       "      <th>accuracy</th>\n",
       "      <th>f1_score</th>\n",
       "      <th>recall_score</th>\n",
       "      <th>precision_score</th>\n",
       "      <th>time</th>\n",
       "    </tr>\n",
       "  </thead>\n",
       "  <tbody>\n",
       "    <tr>\n",
       "      <td>0</td>\n",
       "      <td>0.018764</td>\n",
       "      <td>0.022592</td>\n",
       "      <td>0.977789</td>\n",
       "      <td>0.392578</td>\n",
       "      <td>0.321086</td>\n",
       "      <td>0.505025</td>\n",
       "      <td>01:41</td>\n",
       "    </tr>\n",
       "    <tr>\n",
       "      <td>1</td>\n",
       "      <td>0.013931</td>\n",
       "      <td>0.018639</td>\n",
       "      <td>0.978396</td>\n",
       "      <td>0.067797</td>\n",
       "      <td>0.035144</td>\n",
       "      <td>0.956522</td>\n",
       "      <td>01:41</td>\n",
       "    </tr>\n",
       "    <tr>\n",
       "      <td>2</td>\n",
       "      <td>0.012611</td>\n",
       "      <td>0.012140</td>\n",
       "      <td>0.984002</td>\n",
       "      <td>0.511983</td>\n",
       "      <td>0.375399</td>\n",
       "      <td>0.804795</td>\n",
       "      <td>01:41</td>\n",
       "    </tr>\n",
       "    <tr>\n",
       "      <td>3</td>\n",
       "      <td>0.010212</td>\n",
       "      <td>0.010579</td>\n",
       "      <td>0.986323</td>\n",
       "      <td>0.650228</td>\n",
       "      <td>0.568690</td>\n",
       "      <td>0.759062</td>\n",
       "      <td>01:41</td>\n",
       "    </tr>\n",
       "    <tr>\n",
       "      <td>4</td>\n",
       "      <td>0.009744</td>\n",
       "      <td>0.010274</td>\n",
       "      <td>0.987180</td>\n",
       "      <td>0.676868</td>\n",
       "      <td>0.600639</td>\n",
       "      <td>0.775258</td>\n",
       "      <td>01:41</td>\n",
       "    </tr>\n",
       "  </tbody>\n",
       "</table>"
      ],
      "text/plain": [
       "<IPython.core.display.HTML object>"
      ]
     },
     "metadata": {},
     "output_type": "display_data"
    },
    {
     "data": {
      "text/html": [],
      "text/plain": [
       "<IPython.core.display.HTML object>"
      ]
     },
     "metadata": {},
     "output_type": "display_data"
    },
    {
     "name": "stdout",
     "output_type": "stream",
     "text": [
      "[[27269   109]\n",
      " [  250   376]]\n",
      "======================\n",
      "  Beginning fold 2/4\n",
      "======================\n"
     ]
    },
    {
     "data": {
      "text/html": [
       "<table border=\"1\" class=\"dataframe\">\n",
       "  <thead>\n",
       "    <tr style=\"text-align: left;\">\n",
       "      <th>epoch</th>\n",
       "      <th>train_loss</th>\n",
       "      <th>valid_loss</th>\n",
       "      <th>accuracy</th>\n",
       "      <th>f1_score</th>\n",
       "      <th>recall_score</th>\n",
       "      <th>precision_score</th>\n",
       "      <th>time</th>\n",
       "    </tr>\n",
       "  </thead>\n",
       "  <tbody>\n",
       "    <tr>\n",
       "      <td>0</td>\n",
       "      <td>0.019076</td>\n",
       "      <td>0.017500</td>\n",
       "      <td>0.982110</td>\n",
       "      <td>0.452459</td>\n",
       "      <td>0.331731</td>\n",
       "      <td>0.711340</td>\n",
       "      <td>01:41</td>\n",
       "    </tr>\n",
       "    <tr>\n",
       "      <td>1</td>\n",
       "      <td>0.014503</td>\n",
       "      <td>0.013299</td>\n",
       "      <td>0.983110</td>\n",
       "      <td>0.453179</td>\n",
       "      <td>0.314103</td>\n",
       "      <td>0.813278</td>\n",
       "      <td>01:41</td>\n",
       "    </tr>\n",
       "    <tr>\n",
       "      <td>2</td>\n",
       "      <td>0.013391</td>\n",
       "      <td>0.011537</td>\n",
       "      <td>0.986145</td>\n",
       "      <td>0.634652</td>\n",
       "      <td>0.540064</td>\n",
       "      <td>0.769406</td>\n",
       "      <td>01:42</td>\n",
       "    </tr>\n",
       "    <tr>\n",
       "      <td>3</td>\n",
       "      <td>0.010239</td>\n",
       "      <td>0.010599</td>\n",
       "      <td>0.985895</td>\n",
       "      <td>0.624881</td>\n",
       "      <td>0.527244</td>\n",
       "      <td>0.766900</td>\n",
       "      <td>01:42</td>\n",
       "    </tr>\n",
       "    <tr>\n",
       "      <td>4</td>\n",
       "      <td>0.010023</td>\n",
       "      <td>0.010100</td>\n",
       "      <td>0.986680</td>\n",
       "      <td>0.647114</td>\n",
       "      <td>0.548077</td>\n",
       "      <td>0.789838</td>\n",
       "      <td>01:40</td>\n",
       "    </tr>\n",
       "  </tbody>\n",
       "</table>"
      ],
      "text/plain": [
       "<IPython.core.display.HTML object>"
      ]
     },
     "metadata": {},
     "output_type": "display_data"
    },
    {
     "data": {
      "text/html": [],
      "text/plain": [
       "<IPython.core.display.HTML object>"
      ]
     },
     "metadata": {},
     "output_type": "display_data"
    },
    {
     "name": "stdout",
     "output_type": "stream",
     "text": [
      "[[27289    91]\n",
      " [  282   342]]\n",
      "======================\n",
      "  Beginning fold 3/4\n",
      "======================\n"
     ]
    },
    {
     "data": {
      "text/html": [
       "<table border=\"1\" class=\"dataframe\">\n",
       "  <thead>\n",
       "    <tr style=\"text-align: left;\">\n",
       "      <th>epoch</th>\n",
       "      <th>train_loss</th>\n",
       "      <th>valid_loss</th>\n",
       "      <th>accuracy</th>\n",
       "      <th>f1_score</th>\n",
       "      <th>recall_score</th>\n",
       "      <th>precision_score</th>\n",
       "      <th>time</th>\n",
       "    </tr>\n",
       "  </thead>\n",
       "  <tbody>\n",
       "    <tr>\n",
       "      <td>0</td>\n",
       "      <td>0.019274</td>\n",
       "      <td>0.019048</td>\n",
       "      <td>0.977717</td>\n",
       "      <td>0.480865</td>\n",
       "      <td>0.450156</td>\n",
       "      <td>0.516071</td>\n",
       "      <td>01:41</td>\n",
       "    </tr>\n",
       "    <tr>\n",
       "      <td>1</td>\n",
       "      <td>0.015169</td>\n",
       "      <td>0.013811</td>\n",
       "      <td>0.984574</td>\n",
       "      <td>0.632653</td>\n",
       "      <td>0.579439</td>\n",
       "      <td>0.696629</td>\n",
       "      <td>01:42</td>\n",
       "    </tr>\n",
       "    <tr>\n",
       "      <td>2</td>\n",
       "      <td>0.012929</td>\n",
       "      <td>0.012631</td>\n",
       "      <td>0.984288</td>\n",
       "      <td>0.642276</td>\n",
       "      <td>0.615265</td>\n",
       "      <td>0.671769</td>\n",
       "      <td>01:42</td>\n",
       "    </tr>\n",
       "    <tr>\n",
       "      <td>3</td>\n",
       "      <td>0.010637</td>\n",
       "      <td>0.010753</td>\n",
       "      <td>0.987359</td>\n",
       "      <td>0.664773</td>\n",
       "      <td>0.546729</td>\n",
       "      <td>0.847826</td>\n",
       "      <td>01:42</td>\n",
       "    </tr>\n",
       "    <tr>\n",
       "      <td>4</td>\n",
       "      <td>0.010031</td>\n",
       "      <td>0.010703</td>\n",
       "      <td>0.987502</td>\n",
       "      <td>0.708333</td>\n",
       "      <td>0.661994</td>\n",
       "      <td>0.761649</td>\n",
       "      <td>01:42</td>\n",
       "    </tr>\n",
       "  </tbody>\n",
       "</table>"
      ],
      "text/plain": [
       "<IPython.core.display.HTML object>"
      ]
     },
     "metadata": {},
     "output_type": "display_data"
    },
    {
     "data": {
      "text/html": [],
      "text/plain": [
       "<IPython.core.display.HTML object>"
      ]
     },
     "metadata": {},
     "output_type": "display_data"
    },
    {
     "name": "stdout",
     "output_type": "stream",
     "text": [
      "[[27229   133]\n",
      " [  217   425]]\n",
      "======================\n",
      "  Beginning fold 4/4\n",
      "======================\n"
     ]
    },
    {
     "data": {
      "text/html": [
       "<table border=\"1\" class=\"dataframe\">\n",
       "  <thead>\n",
       "    <tr style=\"text-align: left;\">\n",
       "      <th>epoch</th>\n",
       "      <th>train_loss</th>\n",
       "      <th>valid_loss</th>\n",
       "      <th>accuracy</th>\n",
       "      <th>f1_score</th>\n",
       "      <th>recall_score</th>\n",
       "      <th>precision_score</th>\n",
       "      <th>time</th>\n",
       "    </tr>\n",
       "  </thead>\n",
       "  <tbody>\n",
       "    <tr>\n",
       "      <td>0</td>\n",
       "      <td>0.019031</td>\n",
       "      <td>0.022080</td>\n",
       "      <td>0.980503</td>\n",
       "      <td>0.350000</td>\n",
       "      <td>0.223744</td>\n",
       "      <td>0.803279</td>\n",
       "      <td>01:42</td>\n",
       "    </tr>\n",
       "    <tr>\n",
       "      <td>1</td>\n",
       "      <td>0.014293</td>\n",
       "      <td>0.014956</td>\n",
       "      <td>0.980646</td>\n",
       "      <td>0.504570</td>\n",
       "      <td>0.420091</td>\n",
       "      <td>0.631579</td>\n",
       "      <td>01:40</td>\n",
       "    </tr>\n",
       "    <tr>\n",
       "      <td>2</td>\n",
       "      <td>0.012521</td>\n",
       "      <td>0.012223</td>\n",
       "      <td>0.984752</td>\n",
       "      <td>0.589817</td>\n",
       "      <td>0.467275</td>\n",
       "      <td>0.799479</td>\n",
       "      <td>01:41</td>\n",
       "    </tr>\n",
       "    <tr>\n",
       "      <td>3</td>\n",
       "      <td>0.010331</td>\n",
       "      <td>0.011877</td>\n",
       "      <td>0.985788</td>\n",
       "      <td>0.605941</td>\n",
       "      <td>0.465753</td>\n",
       "      <td>0.866856</td>\n",
       "      <td>01:41</td>\n",
       "    </tr>\n",
       "    <tr>\n",
       "      <td>4</td>\n",
       "      <td>0.009548</td>\n",
       "      <td>0.011386</td>\n",
       "      <td>0.986466</td>\n",
       "      <td>0.667835</td>\n",
       "      <td>0.579909</td>\n",
       "      <td>0.787190</td>\n",
       "      <td>01:41</td>\n",
       "    </tr>\n",
       "  </tbody>\n",
       "</table>"
      ],
      "text/plain": [
       "<IPython.core.display.HTML object>"
      ]
     },
     "metadata": {},
     "output_type": "display_data"
    },
    {
     "data": {
      "text/html": [],
      "text/plain": [
       "<IPython.core.display.HTML object>"
      ]
     },
     "metadata": {},
     "output_type": "display_data"
    },
    {
     "name": "stdout",
     "output_type": "stream",
     "text": [
      "[[27244   103]\n",
      " [  276   381]]\n"
     ]
    }
   ],
   "source": [
    "K = 4\n",
    "kf = KFold(K)\n",
    "\n",
    "N = len(df)\n",
    "\n",
    "df_folds = []\n",
    "\n",
    "for k, [_, val_idx] in enumerate(kf.split(range(N))):\n",
    "    \n",
    "    print('======================')\n",
    "    print(f'  Beginning fold {k+1}/{K}')\n",
    "    print('======================')\n",
    "    \n",
    "    val_mask = np.zeros((N,), dtype=bool)\n",
    "    val_mask[val_idx] = True\n",
    "    \n",
    "    df['kfold_split'] = val_mask\n",
    "    \n",
    "    dls = get_saga_dls(\n",
    "        df, \n",
    "        label_column=label_column, \n",
    "        split_column='kfold_split',\n",
    "        oversample=None,\n",
    "        PATH=PATH,\n",
    "        seed=seed,\n",
    "        bs=bs,\n",
    "        item_tfms=item_tfms\n",
    "    )\n",
    "    \n",
    "    dblock = DataBlock(\n",
    "        blocks=(ImageBlock, CategoryBlock),\n",
    "        get_x=ColReader(['OBJID'], pref=f'{PATH}/{img_dir}/', suff='.jpg'),\n",
    "        get_y=ColReader('low_z'),\n",
    "        splitter=ColSplitter('kfold_split'),\n",
    "        item_tfms=item_tfms,\n",
    "        batch_tfms=batch_tfms,\n",
    "    )\n",
    "\n",
    "    dls = ImageDataLoaders.from_dblock(dblock, df, path=PATH, bs=bs)\n",
    "    \n",
    "    model = xresnet18_hybrid(n_out=2, sa=True, act_cls=MishCuda, groups=64, reduction=8)\n",
    "    learn = Learner(\n",
    "        dls, model, \n",
    "        opt_func=ranger, \n",
    "        loss_func=loss_func,\n",
    "        metrics=learner_metrics,\n",
    "    )\n",
    "\n",
    "    learn.fit_one_cycle(5, 1e-2)\n",
    "    \n",
    "    p_low_z, true_low_z = learn.get_preds()\n",
    "    p_low_z.argmax(1).sum()\n",
    "    \n",
    "    valid = dls.valid.items.copy()\n",
    "    valid['pred_low_z'] = p_low_z.softmax(1)[:,1].numpy()\n",
    "    \n",
    "    df_folds.append(valid)\n",
    "    \n",
    "    print(confusion_matrix(valid.low_z, p_low_z.argmax(1).numpy()))\n",
    "    \n",
    "    del learn, model, dls\n",
    "    gc.collect()"
   ]
  },
  {
   "cell_type": "code",
   "execution_count": 24,
   "metadata": {},
   "outputs": [],
   "source": [
    "# learn.save('hdxresnet18_focal_sz80')\n",
    "# learn.load('hdxresnet18_focal_sz80');"
   ]
  },
  {
   "cell_type": "code",
   "execution_count": 23,
   "metadata": {},
   "outputs": [],
   "source": [
    "results['hdxresnet18_focal_sz80'] = pd.concat(df_folds)\n",
    "results['hdxresnet18_focal_sz80'].to_csv(f'{PATH}/results/desi-sv/hdxresnet18_focal_sz80.csv', index=False)"
   ]
  },
  {
   "cell_type": "code",
   "execution_count": 25,
   "metadata": {},
   "outputs": [
    {
     "data": {
      "image/png": "[encoded data removed]",
      "text/plain": [
       "<Figure size 600x400 with 1 Axes>"
      ]
     },
     "metadata": {
      "needs_background": "light"
     },
     "output_type": "display_data"
    }
   ],
   "source": [
    "metrics_dict = {}\n",
    "\n",
    "res = results['hdxresnet18_focal_sz80']\n",
    "\n",
    "target_density_values = [1, 2, 3, 5, 10, 15, 20, 30, 50, 100]\n",
    "area = 0.2 * len(res.HOSTID.unique()) * np.pi * 1**2 # 0.2 is validation percent\n",
    "\n",
    "for num_density in np.arange(1, 200, 1):\n",
    "    N = np.round(num_density * area).astype(int)\n",
    "    mag_range = (19 < res.r_mag) & (res.r_mag < 21)\n",
    "    subset = res[mag_range].sort_values('pred_low_z', ascending=False).reset_index()\n",
    "    metrics = get_top_N_metrics(subset, N)\n",
    "    metrics_dict[num_density] = metrics\n",
    "    \n",
    "all_metrics_df = pd.DataFrame.from_dict(metrics_dict, orient='index').rename_axis('N_per_sq_deg')\n",
    "metrics_df = all_metrics_df.loc[target_density_values]\n",
    "\n",
    "# plot\n",
    "plt.figure(figsize=(6,4), dpi=100)\n",
    "plt.plot(all_metrics_df.index, all_metrics_df.completeness_02, c='#ff6361', lw=3, label='$z<0.02$ completeness')\n",
    "plt.plot(all_metrics_df.index, all_metrics_df.purity_03, c='#ffa600', lw=3, label='$z<0.03$ purity')\n",
    "plt.plot(all_metrics_df.index, all_metrics_df.geometric_mean, c='#003f5c', lw=3, ls='-', label='Geometric mean')\n",
    "\n",
    "plt.ylim(0, 1)\n",
    "plt.xscale('log')\n",
    "plt.xticks(target_density_values, labels=target_density_values)\n",
    "\n",
    "plt.xlabel('Surface density [deg$^{-2}$]')\n",
    "plt.grid(alpha=0.1)\n",
    "plt.legend(framealpha=0, loc='center right')\n",
    "\n",
    "plt.title('hdxresnet18 (FL, 80x80)');"
   ]
  },
  {
   "cell_type": "code",
   "execution_count": 26,
   "metadata": {},
   "outputs": [
    {
     "data": {
      "image/png": "[encoded data removed]",
      "text/plain": [
       "<Figure size 600x400 with 1 Axes>"
      ]
     },
     "metadata": {
      "needs_background": "light"
     },
     "output_type": "display_data"
    }
   ],
   "source": [
    "zdist_dict = {}\n",
    "\n",
    "for num_density in np.arange(1, 200, 1):\n",
    "    N = np.round(num_density * area).astype(int)\n",
    "    \n",
    "    subset = res[mag_range].sort_values('pred_low_z', ascending=False)[:N]\n",
    "    complement = res[mag_range].sort_values('pred_low_z', ascending=False)[N:]\n",
    "    \n",
    "    zdist = {}\n",
    "    \n",
    "    zdist['p50_z_above'] = np.median(subset.SPEC_Z)\n",
    "    zdist['p90_z_above'] = np.quantile(subset.SPEC_Z, 0.90)\n",
    "    zdist['p95_z_above'] = np.quantile(subset.SPEC_Z, 0.95)\n",
    "    zdist['p99_z_above'] = np.quantile(subset.SPEC_Z, 0.99)\n",
    "    \n",
    "    zdist['p10_z_below'] = np.quantile(complement.SPEC_Z, 0.10)\n",
    "    zdist['p05_z_below'] = np.quantile(complement.SPEC_Z, 0.05)\n",
    "    zdist['p01_z_below'] = np.quantile(complement.SPEC_Z, 0.01)\n",
    "\n",
    "    \n",
    "    zdist_dict[num_density] = zdist\n",
    "    \n",
    "all_zdist_df = pd.DataFrame.from_dict(zdist_dict, orient='index').rename_axis('N_per_sq_deg')\n",
    "zdist_df = all_zdist_df.loc[target_density_values]\n",
    "\n",
    "# Plot\n",
    "plt.figure(figsize=(6,4), dpi=100)\n",
    "\n",
    "plt.plot(all_zdist_df.index, all_zdist_df.p50_z_above, c='C0', lw=3, label='Median $z$ of targets above')\n",
    "plt.plot(all_zdist_df.index, all_zdist_df.p95_z_above, c='C1', lw=3, label='95% $z$ of targets above')\n",
    "plt.plot(all_zdist_df.index, all_zdist_df.p05_z_below, c='magenta',  lw=3, label='5% $z$ of targets below')\n",
    "plt.grid(alpha=0.2)\n",
    "plt.ylim(0, 0.65)\n",
    "plt.xscale('log')\n",
    "\n",
    "plt.xlabel('Surface density [deg$^{-2}$]')\n",
    "plt.grid(alpha=0.1)\n",
    "plt.legend(framealpha=0, loc='upper left')\n",
    "\n",
    "plt.title('hdxresnet18 (FL, 80x80)');"
   ]
  },
  {
   "cell_type": "markdown",
   "metadata": {},
   "source": [
    "## size 80 pixels, hdxresnet34"
   ]
  },
  {
   "cell_type": "code",
   "execution_count": 55,
   "metadata": {},
   "outputs": [],
   "source": [
    "saga = pd.read_csv(f'{PATH}/data/saga_redshifts_2021-02-19.csv', dtype={'OBJID': str})\n",
    "\n",
    "df = saga.sample(frac=1).copy()\n",
    "df['low_z'] = df.SPEC_Z < 0.03\n",
    "\n",
    "# in order to use with previous utils\n",
    "df['SPEC_FLAG'] = 1"
   ]
  },
  {
   "cell_type": "code",
   "execution_count": 56,
   "metadata": {},
   "outputs": [],
   "source": [
    "sz = 80\n",
    "bs = 128\n",
    "\n",
    "img_dir = 'images-legacy_saga-2021-02-19'\n",
    "\n",
    "legacy_image_stats = [np.array([0.14814416, 0.14217226, 0.13984123]), np.array([0.0881476 , 0.07823102, 0.07676626])]\n",
    "\n",
    "item_tfms = [Resize(sz)]\n",
    "batch_tfms = (\n",
    "    aug_transforms(max_zoom=1., flip_vert=True, max_lighting=0., max_warp=0.) + \n",
    "    [Normalize.from_stats(*legacy_image_stats)]\n",
    ")\n",
    "\n",
    "seed = 1024  "
   ]
  },
  {
   "cell_type": "code",
   "execution_count": 57,
   "metadata": {},
   "outputs": [],
   "source": [
    "label_column = 'low_z'\n",
    "loss_func = FocalLossFlat()"
   ]
  },
  {
   "cell_type": "code",
   "execution_count": 58,
   "metadata": {},
   "outputs": [
    {
     "name": "stdout",
     "output_type": "stream",
     "text": [
      "======================\n",
      "  Beginning fold 1/4\n",
      "======================\n"
     ]
    },
    {
     "data": {
      "text/html": [
       "<table border=\"1\" class=\"dataframe\">\n",
       "  <thead>\n",
       "    <tr style=\"text-align: left;\">\n",
       "      <th>epoch</th>\n",
       "      <th>train_loss</th>\n",
       "      <th>valid_loss</th>\n",
       "      <th>accuracy</th>\n",
       "      <th>f1_score</th>\n",
       "      <th>recall_score</th>\n",
       "      <th>precision_score</th>\n",
       "      <th>time</th>\n",
       "    </tr>\n",
       "  </thead>\n",
       "  <tbody>\n",
       "    <tr>\n",
       "      <td>0</td>\n",
       "      <td>0.019258</td>\n",
       "      <td>0.017850</td>\n",
       "      <td>0.981074</td>\n",
       "      <td>0.439746</td>\n",
       "      <td>0.315630</td>\n",
       "      <td>0.724739</td>\n",
       "      <td>02:02</td>\n",
       "    </tr>\n",
       "    <tr>\n",
       "      <td>1</td>\n",
       "      <td>0.016269</td>\n",
       "      <td>0.018421</td>\n",
       "      <td>0.978539</td>\n",
       "      <td>0.492827</td>\n",
       "      <td>0.443096</td>\n",
       "      <td>0.555133</td>\n",
       "      <td>02:03</td>\n",
       "    </tr>\n",
       "    <tr>\n",
       "      <td>2</td>\n",
       "      <td>0.012807</td>\n",
       "      <td>0.011487</td>\n",
       "      <td>0.985823</td>\n",
       "      <td>0.640724</td>\n",
       "      <td>0.537178</td>\n",
       "      <td>0.793722</td>\n",
       "      <td>02:03</td>\n",
       "    </tr>\n",
       "    <tr>\n",
       "      <td>3</td>\n",
       "      <td>0.011687</td>\n",
       "      <td>0.010311</td>\n",
       "      <td>0.986073</td>\n",
       "      <td>0.673913</td>\n",
       "      <td>0.611533</td>\n",
       "      <td>0.750466</td>\n",
       "      <td>02:05</td>\n",
       "    </tr>\n",
       "    <tr>\n",
       "      <td>4</td>\n",
       "      <td>0.010676</td>\n",
       "      <td>0.009899</td>\n",
       "      <td>0.986930</td>\n",
       "      <td>0.678947</td>\n",
       "      <td>0.587253</td>\n",
       "      <td>0.804574</td>\n",
       "      <td>02:04</td>\n",
       "    </tr>\n",
       "  </tbody>\n",
       "</table>"
      ],
      "text/plain": [
       "<IPython.core.display.HTML object>"
      ]
     },
     "metadata": {},
     "output_type": "display_data"
    },
    {
     "data": {
      "text/html": [],
      "text/plain": [
       "<IPython.core.display.HTML object>"
      ]
     },
     "metadata": {},
     "output_type": "display_data"
    },
    {
     "name": "stdout",
     "output_type": "stream",
     "text": [
      "[[27251    94]\n",
      " [  272   387]]\n",
      "======================\n",
      "  Beginning fold 2/4\n",
      "======================\n"
     ]
    },
    {
     "data": {
      "text/html": [
       "<table border=\"1\" class=\"dataframe\">\n",
       "  <thead>\n",
       "    <tr style=\"text-align: left;\">\n",
       "      <th>epoch</th>\n",
       "      <th>train_loss</th>\n",
       "      <th>valid_loss</th>\n",
       "      <th>accuracy</th>\n",
       "      <th>f1_score</th>\n",
       "      <th>recall_score</th>\n",
       "      <th>precision_score</th>\n",
       "      <th>time</th>\n",
       "    </tr>\n",
       "  </thead>\n",
       "  <tbody>\n",
       "    <tr>\n",
       "      <td>0</td>\n",
       "      <td>0.017045</td>\n",
       "      <td>0.018784</td>\n",
       "      <td>0.980717</td>\n",
       "      <td>0.436326</td>\n",
       "      <td>0.321538</td>\n",
       "      <td>0.678571</td>\n",
       "      <td>02:02</td>\n",
       "    </tr>\n",
       "    <tr>\n",
       "      <td>1</td>\n",
       "      <td>0.014090</td>\n",
       "      <td>0.015377</td>\n",
       "      <td>0.980396</td>\n",
       "      <td>0.581236</td>\n",
       "      <td>0.586154</td>\n",
       "      <td>0.576399</td>\n",
       "      <td>02:04</td>\n",
       "    </tr>\n",
       "    <tr>\n",
       "      <td>2</td>\n",
       "      <td>0.012198</td>\n",
       "      <td>0.013096</td>\n",
       "      <td>0.984931</td>\n",
       "      <td>0.641766</td>\n",
       "      <td>0.581538</td>\n",
       "      <td>0.715909</td>\n",
       "      <td>02:04</td>\n",
       "    </tr>\n",
       "    <tr>\n",
       "      <td>3</td>\n",
       "      <td>0.010542</td>\n",
       "      <td>0.011490</td>\n",
       "      <td>0.985859</td>\n",
       "      <td>0.654450</td>\n",
       "      <td>0.576923</td>\n",
       "      <td>0.756048</td>\n",
       "      <td>02:03</td>\n",
       "    </tr>\n",
       "    <tr>\n",
       "      <td>4</td>\n",
       "      <td>0.009565</td>\n",
       "      <td>0.011259</td>\n",
       "      <td>0.986573</td>\n",
       "      <td>0.670175</td>\n",
       "      <td>0.587692</td>\n",
       "      <td>0.779592</td>\n",
       "      <td>02:04</td>\n",
       "    </tr>\n",
       "  </tbody>\n",
       "</table>"
      ],
      "text/plain": [
       "<IPython.core.display.HTML object>"
      ]
     },
     "metadata": {},
     "output_type": "display_data"
    },
    {
     "data": {
      "text/html": [],
      "text/plain": [
       "<IPython.core.display.HTML object>"
      ]
     },
     "metadata": {},
     "output_type": "display_data"
    },
    {
     "name": "stdout",
     "output_type": "stream",
     "text": [
      "[[27246   108]\n",
      " [  268   382]]\n",
      "======================\n",
      "  Beginning fold 3/4\n",
      "======================\n"
     ]
    },
    {
     "data": {
      "text/html": [
       "<table border=\"1\" class=\"dataframe\">\n",
       "  <thead>\n",
       "    <tr style=\"text-align: left;\">\n",
       "      <th>epoch</th>\n",
       "      <th>train_loss</th>\n",
       "      <th>valid_loss</th>\n",
       "      <th>accuracy</th>\n",
       "      <th>f1_score</th>\n",
       "      <th>recall_score</th>\n",
       "      <th>precision_score</th>\n",
       "      <th>time</th>\n",
       "    </tr>\n",
       "  </thead>\n",
       "  <tbody>\n",
       "    <tr>\n",
       "      <td>0</td>\n",
       "      <td>0.018371</td>\n",
       "      <td>0.016060</td>\n",
       "      <td>0.981824</td>\n",
       "      <td>0.454448</td>\n",
       "      <td>0.341385</td>\n",
       "      <td>0.679487</td>\n",
       "      <td>02:05</td>\n",
       "    </tr>\n",
       "    <tr>\n",
       "      <td>1</td>\n",
       "      <td>0.015181</td>\n",
       "      <td>0.015743</td>\n",
       "      <td>0.979467</td>\n",
       "      <td>0.417427</td>\n",
       "      <td>0.331723</td>\n",
       "      <td>0.562842</td>\n",
       "      <td>02:03</td>\n",
       "    </tr>\n",
       "    <tr>\n",
       "      <td>2</td>\n",
       "      <td>0.012321</td>\n",
       "      <td>0.012988</td>\n",
       "      <td>0.984931</td>\n",
       "      <td>0.569388</td>\n",
       "      <td>0.449275</td>\n",
       "      <td>0.777159</td>\n",
       "      <td>02:03</td>\n",
       "    </tr>\n",
       "    <tr>\n",
       "      <td>3</td>\n",
       "      <td>0.011416</td>\n",
       "      <td>0.011310</td>\n",
       "      <td>0.985288</td>\n",
       "      <td>0.563559</td>\n",
       "      <td>0.428341</td>\n",
       "      <td>0.823529</td>\n",
       "      <td>02:03</td>\n",
       "    </tr>\n",
       "    <tr>\n",
       "      <td>4</td>\n",
       "      <td>0.010038</td>\n",
       "      <td>0.011175</td>\n",
       "      <td>0.985788</td>\n",
       "      <td>0.638182</td>\n",
       "      <td>0.565217</td>\n",
       "      <td>0.732777</td>\n",
       "      <td>02:03</td>\n",
       "    </tr>\n",
       "  </tbody>\n",
       "</table>"
      ],
      "text/plain": [
       "<IPython.core.display.HTML object>"
      ]
     },
     "metadata": {},
     "output_type": "display_data"
    },
    {
     "data": {
      "text/html": [],
      "text/plain": [
       "<IPython.core.display.HTML object>"
      ]
     },
     "metadata": {},
     "output_type": "display_data"
    },
    {
     "name": "stdout",
     "output_type": "stream",
     "text": [
      "[[27255   128]\n",
      " [  270   351]]\n",
      "======================\n",
      "  Beginning fold 4/4\n",
      "======================\n"
     ]
    },
    {
     "data": {
      "text/html": [
       "<table border=\"1\" class=\"dataframe\">\n",
       "  <thead>\n",
       "    <tr style=\"text-align: left;\">\n",
       "      <th>epoch</th>\n",
       "      <th>train_loss</th>\n",
       "      <th>valid_loss</th>\n",
       "      <th>accuracy</th>\n",
       "      <th>f1_score</th>\n",
       "      <th>recall_score</th>\n",
       "      <th>precision_score</th>\n",
       "      <th>time</th>\n",
       "    </tr>\n",
       "  </thead>\n",
       "  <tbody>\n",
       "    <tr>\n",
       "      <td>0</td>\n",
       "      <td>0.019794</td>\n",
       "      <td>0.016721</td>\n",
       "      <td>0.980931</td>\n",
       "      <td>0.262431</td>\n",
       "      <td>0.153473</td>\n",
       "      <td>0.904762</td>\n",
       "      <td>02:05</td>\n",
       "    </tr>\n",
       "    <tr>\n",
       "      <td>1</td>\n",
       "      <td>0.014733</td>\n",
       "      <td>0.013381</td>\n",
       "      <td>0.983360</td>\n",
       "      <td>0.474041</td>\n",
       "      <td>0.339257</td>\n",
       "      <td>0.786517</td>\n",
       "      <td>02:04</td>\n",
       "    </tr>\n",
       "    <tr>\n",
       "      <td>2</td>\n",
       "      <td>0.012945</td>\n",
       "      <td>0.011720</td>\n",
       "      <td>0.984859</td>\n",
       "      <td>0.569106</td>\n",
       "      <td>0.452342</td>\n",
       "      <td>0.767123</td>\n",
       "      <td>02:05</td>\n",
       "    </tr>\n",
       "    <tr>\n",
       "      <td>3</td>\n",
       "      <td>0.010548</td>\n",
       "      <td>0.010295</td>\n",
       "      <td>0.986716</td>\n",
       "      <td>0.619632</td>\n",
       "      <td>0.489499</td>\n",
       "      <td>0.844011</td>\n",
       "      <td>02:04</td>\n",
       "    </tr>\n",
       "    <tr>\n",
       "      <td>4</td>\n",
       "      <td>0.010417</td>\n",
       "      <td>0.009980</td>\n",
       "      <td>0.987323</td>\n",
       "      <td>0.685004</td>\n",
       "      <td>0.623586</td>\n",
       "      <td>0.759843</td>\n",
       "      <td>02:05</td>\n",
       "    </tr>\n",
       "  </tbody>\n",
       "</table>"
      ],
      "text/plain": [
       "<IPython.core.display.HTML object>"
      ]
     },
     "metadata": {},
     "output_type": "display_data"
    },
    {
     "data": {
      "text/html": [],
      "text/plain": [
       "<IPython.core.display.HTML object>"
      ]
     },
     "metadata": {},
     "output_type": "display_data"
    },
    {
     "name": "stdout",
     "output_type": "stream",
     "text": [
      "[[27263   122]\n",
      " [  233   386]]\n"
     ]
    }
   ],
   "source": [
    "K = 4\n",
    "kf = KFold(K)\n",
    "\n",
    "N = len(df)\n",
    "\n",
    "df_folds = []\n",
    "\n",
    "for k, [_, val_idx] in enumerate(kf.split(range(N))):\n",
    "    \n",
    "    print('======================')\n",
    "    print(f'  Beginning fold {k+1}/{K}')\n",
    "    print('======================')\n",
    "    \n",
    "    val_mask = np.zeros((N,), dtype=bool)\n",
    "    val_mask[val_idx] = True\n",
    "    \n",
    "    df['kfold_split'] = val_mask\n",
    "    \n",
    "    dls = get_saga_dls(\n",
    "        df, \n",
    "        label_column=label_column, \n",
    "        split_column='kfold_split',\n",
    "        oversample=None,\n",
    "        PATH=PATH,\n",
    "        seed=seed,\n",
    "        bs=bs,\n",
    "        item_tfms=item_tfms\n",
    "    )\n",
    "    \n",
    "    dblock = DataBlock(\n",
    "        blocks=(ImageBlock, CategoryBlock),\n",
    "        get_x=ColReader(['OBJID'], pref=f'{PATH}/{img_dir}/', suff='.jpg'),\n",
    "        get_y=ColReader('low_z'),\n",
    "        splitter=ColSplitter('kfold_split'),\n",
    "        item_tfms=item_tfms,\n",
    "        batch_tfms=batch_tfms,\n",
    "    )\n",
    "\n",
    "    dls = ImageDataLoaders.from_dblock(dblock, df, path=PATH, bs=bs)\n",
    "    \n",
    "    model = xresnet34_hybrid(n_out=2, sa=True, act_cls=MishCuda, groups=64, reduction=8)\n",
    "    learn = Learner(\n",
    "        dls, model, \n",
    "        opt_func=ranger, \n",
    "        loss_func=loss_func,\n",
    "        metrics=learner_metrics,\n",
    "    )\n",
    "\n",
    "    learn.fit_one_cycle(5, 1e-2)\n",
    "    \n",
    "    p_low_z, true_low_z = learn.get_preds()\n",
    "    p_low_z.argmax(1).sum()\n",
    "    \n",
    "    valid = dls.valid.items.copy()\n",
    "    valid['pred_low_z'] = p_low_z.softmax(1)[:,1].numpy()\n",
    "    \n",
    "    df_folds.append(valid)\n",
    "    \n",
    "    print(confusion_matrix(valid.low_z, p_low_z.argmax(1).numpy()))\n",
    "    \n",
    "    del learn, model, dls\n",
    "    gc.collect()"
   ]
  },
  {
   "cell_type": "code",
   "execution_count": 59,
   "metadata": {},
   "outputs": [],
   "source": [
    "# learn.save('hdxresnet34_focal_sz80')\n",
    "# learn.load('hdxresnet34_focal_sz80');"
   ]
  },
  {
   "cell_type": "code",
   "execution_count": 60,
   "metadata": {},
   "outputs": [],
   "source": [
    "results['hdxresnet34_focal_sz80'] = pd.concat(df_folds)\n",
    "results['hdxresnet34_focal_sz80'].to_csv(f'{PATH}/results/desi-sv/hdxresnet34_focal_sz80.csv', index=False)"
   ]
  },
  {
   "cell_type": "code",
   "execution_count": 68,
   "metadata": {},
   "outputs": [
    {
     "data": {
      "image/png": "[encoded data removed]",
      "text/plain": [
       "<Figure size 600x400 with 1 Axes>"
      ]
     },
     "metadata": {
      "needs_background": "light"
     },
     "output_type": "display_data"
    }
   ],
   "source": [
    "metrics_dict = {}\n",
    "\n",
    "res = results['hdxresnet34_focal_sz80']\n",
    "\n",
    "target_density_values = [1, 2, 3, 5, 10, 15, 20, 30, 50, 100]\n",
    "area = 0.2 * len(res.HOSTID.unique()) * np.pi * 1**2 # 0.2 is validation percent\n",
    "\n",
    "for num_density in np.arange(1, 200, 1):\n",
    "    N = np.round(num_density * area).astype(int)\n",
    "    mag_range = (19 < res.r_mag) & (res.r_mag < 21)\n",
    "    subset = res[mag_range].sort_values('pred_low_z', ascending=False).reset_index()\n",
    "    evaluation_metrics = get_top_N_metrics(subset, N)\n",
    "    metrics_dict[num_density] = evaluation_metrics\n",
    "    \n",
    "all_metrics_df = pd.DataFrame.from_dict(metrics_dict, orient='index').rename_axis('N_per_sq_deg')\n",
    "metrics_df = all_metrics_df.loc[target_density_values]\n",
    "\n",
    "# plot\n",
    "plt.figure(figsize=(6,4), dpi=100)\n",
    "plt.plot(all_metrics_df.index, all_metrics_df.completeness_02, c='#ff6361', lw=3, label='$z<0.02$ completeness')\n",
    "plt.plot(all_metrics_df.index, all_metrics_df.purity_03, c='#ffa600', lw=3, label='$z<0.03$ purity')\n",
    "plt.plot(all_metrics_df.index, all_metrics_df.geometric_mean, c='#003f5c', lw=3, ls='-', label='Geometric mean')\n",
    "\n",
    "plt.ylim(0, 1)\n",
    "plt.xscale('log')\n",
    "plt.xticks(target_density_values, labels=target_density_values)\n",
    "\n",
    "plt.xlabel('Surface density [deg$^{-2}$]')\n",
    "plt.grid(alpha=0.1)\n",
    "plt.legend(framealpha=0, loc='center right')\n",
    "\n",
    "plt.title('hdxresnet34 (FL, 80x80)');"
   ]
  },
  {
   "cell_type": "code",
   "execution_count": 69,
   "metadata": {},
   "outputs": [
    {
     "data": {
      "image/png": "[encoded data removed]",
      "text/plain": [
       "<Figure size 600x400 with 1 Axes>"
      ]
     },
     "metadata": {
      "needs_background": "light"
     },
     "output_type": "display_data"
    }
   ],
   "source": [
    "zdist_dict = {}\n",
    "\n",
    "for num_density in np.arange(1, 200, 1):\n",
    "    N = np.round(num_density * area).astype(int)\n",
    "    \n",
    "    subset = res[mag_range].sort_values('pred_low_z', ascending=False)[:N]\n",
    "    complement = res[mag_range].sort_values('pred_low_z', ascending=False)[N:]\n",
    "    \n",
    "    zdist = {}\n",
    "    \n",
    "    zdist['p50_z_above'] = np.median(subset.SPEC_Z)\n",
    "    zdist['p90_z_above'] = np.quantile(subset.SPEC_Z, 0.90)\n",
    "    zdist['p95_z_above'] = np.quantile(subset.SPEC_Z, 0.95)\n",
    "    zdist['p99_z_above'] = np.quantile(subset.SPEC_Z, 0.99)\n",
    "    \n",
    "    zdist['p10_z_below'] = np.quantile(complement.SPEC_Z, 0.10)\n",
    "    zdist['p05_z_below'] = np.quantile(complement.SPEC_Z, 0.05)\n",
    "    zdist['p01_z_below'] = np.quantile(complement.SPEC_Z, 0.01)\n",
    "\n",
    "    \n",
    "    zdist_dict[num_density] = zdist\n",
    "    \n",
    "all_zdist_df = pd.DataFrame.from_dict(zdist_dict, orient='index').rename_axis('N_per_sq_deg')\n",
    "zdist_df = all_zdist_df.loc[target_density_values]\n",
    "\n",
    "# Plot\n",
    "plt.figure(figsize=(6,4), dpi=100)\n",
    "\n",
    "plt.plot(all_zdist_df.index, all_zdist_df.p50_z_above, c='C0', lw=3, label='Median $z$ of targets above')\n",
    "plt.plot(all_zdist_df.index, all_zdist_df.p95_z_above, c='C1', lw=3, label='95% $z$ of targets above')\n",
    "plt.plot(all_zdist_df.index, all_zdist_df.p05_z_below, c='magenta',  lw=3, label='5% $z$ of targets below')\n",
    "plt.grid(alpha=0.2)\n",
    "plt.ylim(0, 0.65)\n",
    "plt.xscale('log')\n",
    "\n",
    "plt.xlabel('Surface density [deg$^{-2}$]')\n",
    "plt.grid(alpha=0.1)\n",
    "plt.legend(framealpha=0, loc='upper left')\n",
    "\n",
    "plt.title('hdxresnet34 (FL, 80x80)');"
   ]
  },
  {
   "cell_type": "markdown",
   "metadata": {},
   "source": [
    "## 224x224, hdxresnet18"
   ]
  },
  {
   "cell_type": "code",
   "execution_count": 70,
   "metadata": {},
   "outputs": [],
   "source": [
    "saga = pd.read_csv(f'{PATH}/data/saga_redshifts_2021-02-19.csv', dtype={'OBJID': str})\n",
    "\n",
    "df = saga.sample(frac=1).copy()\n",
    "df['low_z'] = df.SPEC_Z < 0.03\n",
    "\n",
    "# in order to use with previous utils\n",
    "df['SPEC_FLAG'] = 1"
   ]
  },
  {
   "cell_type": "code",
   "execution_count": 71,
   "metadata": {},
   "outputs": [],
   "source": [
    "sz = 224\n",
    "bs = 128\n",
    "\n",
    "img_dir = 'images-legacy_saga-2021-02-19'\n",
    "\n",
    "legacy_image_stats = [np.array([0.14814416, 0.14217226, 0.13984123]), np.array([0.0881476 , 0.07823102, 0.07676626])]\n",
    "\n",
    "item_tfms = [Resize(sz)]\n",
    "batch_tfms = (\n",
    "    aug_transforms(max_zoom=1., flip_vert=True, max_lighting=0., max_warp=0.) + \n",
    "    [Normalize.from_stats(*legacy_image_stats)]\n",
    ")\n",
    "\n",
    "seed = 256  "
   ]
  },
  {
   "cell_type": "code",
   "execution_count": 72,
   "metadata": {},
   "outputs": [],
   "source": [
    "label_column = 'low_z'\n",
    "loss_func = FocalLossFlat()"
   ]
  },
  {
   "cell_type": "code",
   "execution_count": 73,
   "metadata": {},
   "outputs": [
    {
     "name": "stdout",
     "output_type": "stream",
     "text": [
      "======================\n",
      "  Beginning fold 1/4\n",
      "======================\n"
     ]
    },
    {
     "data": {
      "text/html": [
       "<table border=\"1\" class=\"dataframe\">\n",
       "  <thead>\n",
       "    <tr style=\"text-align: left;\">\n",
       "      <th>epoch</th>\n",
       "      <th>train_loss</th>\n",
       "      <th>valid_loss</th>\n",
       "      <th>accuracy</th>\n",
       "      <th>f1_score</th>\n",
       "      <th>recall_score</th>\n",
       "      <th>precision_score</th>\n",
       "      <th>time</th>\n",
       "    </tr>\n",
       "  </thead>\n",
       "  <tbody>\n",
       "    <tr>\n",
       "      <td>0</td>\n",
       "      <td>0.020605</td>\n",
       "      <td>0.019563</td>\n",
       "      <td>0.978503</td>\n",
       "      <td>0.159218</td>\n",
       "      <td>0.088785</td>\n",
       "      <td>0.770270</td>\n",
       "      <td>04:29</td>\n",
       "    </tr>\n",
       "    <tr>\n",
       "      <td>1</td>\n",
       "      <td>0.016213</td>\n",
       "      <td>0.013963</td>\n",
       "      <td>0.983181</td>\n",
       "      <td>0.528529</td>\n",
       "      <td>0.411215</td>\n",
       "      <td>0.739496</td>\n",
       "      <td>04:28</td>\n",
       "    </tr>\n",
       "    <tr>\n",
       "      <td>2</td>\n",
       "      <td>0.012837</td>\n",
       "      <td>0.012593</td>\n",
       "      <td>0.984645</td>\n",
       "      <td>0.577603</td>\n",
       "      <td>0.457944</td>\n",
       "      <td>0.781915</td>\n",
       "      <td>04:28</td>\n",
       "    </tr>\n",
       "    <tr>\n",
       "      <td>3</td>\n",
       "      <td>0.010945</td>\n",
       "      <td>0.010724</td>\n",
       "      <td>0.986359</td>\n",
       "      <td>0.648250</td>\n",
       "      <td>0.548287</td>\n",
       "      <td>0.792793</td>\n",
       "      <td>04:28</td>\n",
       "    </tr>\n",
       "    <tr>\n",
       "      <td>4</td>\n",
       "      <td>0.010535</td>\n",
       "      <td>0.010285</td>\n",
       "      <td>0.986466</td>\n",
       "      <td>0.664898</td>\n",
       "      <td>0.585670</td>\n",
       "      <td>0.768916</td>\n",
       "      <td>04:28</td>\n",
       "    </tr>\n",
       "  </tbody>\n",
       "</table>"
      ],
      "text/plain": [
       "<IPython.core.display.HTML object>"
      ]
     },
     "metadata": {},
     "output_type": "display_data"
    },
    {
     "data": {
      "text/html": [],
      "text/plain": [
       "<IPython.core.display.HTML object>"
      ]
     },
     "metadata": {},
     "output_type": "display_data"
    },
    {
     "name": "stdout",
     "output_type": "stream",
     "text": [
      "[[27249   113]\n",
      " [  266   376]]\n",
      "======================\n",
      "  Beginning fold 2/4\n",
      "======================\n"
     ]
    },
    {
     "data": {
      "text/html": [
       "<table border=\"1\" class=\"dataframe\">\n",
       "  <thead>\n",
       "    <tr style=\"text-align: left;\">\n",
       "      <th>epoch</th>\n",
       "      <th>train_loss</th>\n",
       "      <th>valid_loss</th>\n",
       "      <th>accuracy</th>\n",
       "      <th>f1_score</th>\n",
       "      <th>recall_score</th>\n",
       "      <th>precision_score</th>\n",
       "      <th>time</th>\n",
       "    </tr>\n",
       "  </thead>\n",
       "  <tbody>\n",
       "    <tr>\n",
       "      <td>0</td>\n",
       "      <td>0.019875</td>\n",
       "      <td>0.019033</td>\n",
       "      <td>0.979574</td>\n",
       "      <td>0.203343</td>\n",
       "      <td>0.116613</td>\n",
       "      <td>0.793478</td>\n",
       "      <td>04:28</td>\n",
       "    </tr>\n",
       "    <tr>\n",
       "      <td>1</td>\n",
       "      <td>0.015881</td>\n",
       "      <td>0.018255</td>\n",
       "      <td>0.976039</td>\n",
       "      <td>0.516919</td>\n",
       "      <td>0.573482</td>\n",
       "      <td>0.470511</td>\n",
       "      <td>04:28</td>\n",
       "    </tr>\n",
       "    <tr>\n",
       "      <td>2</td>\n",
       "      <td>0.013945</td>\n",
       "      <td>0.012377</td>\n",
       "      <td>0.984074</td>\n",
       "      <td>0.601073</td>\n",
       "      <td>0.536741</td>\n",
       "      <td>0.682927</td>\n",
       "      <td>04:28</td>\n",
       "    </tr>\n",
       "    <tr>\n",
       "      <td>3</td>\n",
       "      <td>0.011732</td>\n",
       "      <td>0.011149</td>\n",
       "      <td>0.986073</td>\n",
       "      <td>0.610000</td>\n",
       "      <td>0.487220</td>\n",
       "      <td>0.815508</td>\n",
       "      <td>04:28</td>\n",
       "    </tr>\n",
       "    <tr>\n",
       "      <td>4</td>\n",
       "      <td>0.010785</td>\n",
       "      <td>0.010580</td>\n",
       "      <td>0.986002</td>\n",
       "      <td>0.639042</td>\n",
       "      <td>0.554313</td>\n",
       "      <td>0.754348</td>\n",
       "      <td>04:28</td>\n",
       "    </tr>\n",
       "  </tbody>\n",
       "</table>"
      ],
      "text/plain": [
       "<IPython.core.display.HTML object>"
      ]
     },
     "metadata": {},
     "output_type": "display_data"
    },
    {
     "data": {
      "text/html": [],
      "text/plain": [
       "<IPython.core.display.HTML object>"
      ]
     },
     "metadata": {},
     "output_type": "display_data"
    },
    {
     "name": "stdout",
     "output_type": "stream",
     "text": [
      "[[27265   113]\n",
      " [  279   347]]\n",
      "======================\n",
      "  Beginning fold 3/4\n",
      "======================\n"
     ]
    },
    {
     "data": {
      "text/html": [
       "<table border=\"1\" class=\"dataframe\">\n",
       "  <thead>\n",
       "    <tr style=\"text-align: left;\">\n",
       "      <th>epoch</th>\n",
       "      <th>train_loss</th>\n",
       "      <th>valid_loss</th>\n",
       "      <th>accuracy</th>\n",
       "      <th>f1_score</th>\n",
       "      <th>recall_score</th>\n",
       "      <th>precision_score</th>\n",
       "      <th>time</th>\n",
       "    </tr>\n",
       "  </thead>\n",
       "  <tbody>\n",
       "    <tr>\n",
       "      <td>0</td>\n",
       "      <td>0.022416</td>\n",
       "      <td>0.017247</td>\n",
       "      <td>0.979931</td>\n",
       "      <td>0.393089</td>\n",
       "      <td>0.285714</td>\n",
       "      <td>0.629758</td>\n",
       "      <td>04:28</td>\n",
       "    </tr>\n",
       "    <tr>\n",
       "      <td>1</td>\n",
       "      <td>0.016311</td>\n",
       "      <td>0.017115</td>\n",
       "      <td>0.981396</td>\n",
       "      <td>0.469990</td>\n",
       "      <td>0.362637</td>\n",
       "      <td>0.667630</td>\n",
       "      <td>04:28</td>\n",
       "    </tr>\n",
       "    <tr>\n",
       "      <td>2</td>\n",
       "      <td>0.012893</td>\n",
       "      <td>0.012459</td>\n",
       "      <td>0.985288</td>\n",
       "      <td>0.621324</td>\n",
       "      <td>0.530612</td>\n",
       "      <td>0.749446</td>\n",
       "      <td>04:28</td>\n",
       "    </tr>\n",
       "    <tr>\n",
       "      <td>3</td>\n",
       "      <td>0.011046</td>\n",
       "      <td>0.011454</td>\n",
       "      <td>0.986073</td>\n",
       "      <td>0.644809</td>\n",
       "      <td>0.555730</td>\n",
       "      <td>0.767896</td>\n",
       "      <td>04:28</td>\n",
       "    </tr>\n",
       "    <tr>\n",
       "      <td>4</td>\n",
       "      <td>0.011262</td>\n",
       "      <td>0.011110</td>\n",
       "      <td>0.986538</td>\n",
       "      <td>0.656961</td>\n",
       "      <td>0.566719</td>\n",
       "      <td>0.781385</td>\n",
       "      <td>04:28</td>\n",
       "    </tr>\n",
       "  </tbody>\n",
       "</table>"
      ],
      "text/plain": [
       "<IPython.core.display.HTML object>"
      ]
     },
     "metadata": {},
     "output_type": "display_data"
    },
    {
     "data": {
      "text/html": [],
      "text/plain": [
       "<IPython.core.display.HTML object>"
      ]
     },
     "metadata": {},
     "output_type": "display_data"
    },
    {
     "name": "stdout",
     "output_type": "stream",
     "text": [
      "[[27266   101]\n",
      " [  276   361]]\n",
      "======================\n",
      "  Beginning fold 4/4\n",
      "======================\n"
     ]
    },
    {
     "data": {
      "text/html": [
       "<table border=\"1\" class=\"dataframe\">\n",
       "  <thead>\n",
       "    <tr style=\"text-align: left;\">\n",
       "      <th>epoch</th>\n",
       "      <th>train_loss</th>\n",
       "      <th>valid_loss</th>\n",
       "      <th>accuracy</th>\n",
       "      <th>f1_score</th>\n",
       "      <th>recall_score</th>\n",
       "      <th>precision_score</th>\n",
       "      <th>time</th>\n",
       "    </tr>\n",
       "  </thead>\n",
       "  <tbody>\n",
       "    <tr>\n",
       "      <td>0</td>\n",
       "      <td>0.022215</td>\n",
       "      <td>0.021231</td>\n",
       "      <td>0.976003</td>\n",
       "      <td>0.367232</td>\n",
       "      <td>0.302795</td>\n",
       "      <td>0.466507</td>\n",
       "      <td>04:28</td>\n",
       "    </tr>\n",
       "    <tr>\n",
       "      <td>1</td>\n",
       "      <td>0.016667</td>\n",
       "      <td>0.018788</td>\n",
       "      <td>0.977896</td>\n",
       "      <td>0.074738</td>\n",
       "      <td>0.038820</td>\n",
       "      <td>1.000000</td>\n",
       "      <td>04:28</td>\n",
       "    </tr>\n",
       "    <tr>\n",
       "      <td>2</td>\n",
       "      <td>0.013122</td>\n",
       "      <td>0.014224</td>\n",
       "      <td>0.982895</td>\n",
       "      <td>0.528079</td>\n",
       "      <td>0.416149</td>\n",
       "      <td>0.722372</td>\n",
       "      <td>04:27</td>\n",
       "    </tr>\n",
       "    <tr>\n",
       "      <td>3</td>\n",
       "      <td>0.011089</td>\n",
       "      <td>0.012627</td>\n",
       "      <td>0.984074</td>\n",
       "      <td>0.631405</td>\n",
       "      <td>0.593168</td>\n",
       "      <td>0.674912</td>\n",
       "      <td>04:28</td>\n",
       "    </tr>\n",
       "    <tr>\n",
       "      <td>4</td>\n",
       "      <td>0.010232</td>\n",
       "      <td>0.012172</td>\n",
       "      <td>0.985431</td>\n",
       "      <td>0.638298</td>\n",
       "      <td>0.559006</td>\n",
       "      <td>0.743802</td>\n",
       "      <td>04:28</td>\n",
       "    </tr>\n",
       "  </tbody>\n",
       "</table>"
      ],
      "text/plain": [
       "<IPython.core.display.HTML object>"
      ]
     },
     "metadata": {},
     "output_type": "display_data"
    },
    {
     "data": {
      "text/html": [],
      "text/plain": [
       "<IPython.core.display.HTML object>"
      ]
     },
     "metadata": {},
     "output_type": "display_data"
    },
    {
     "name": "stdout",
     "output_type": "stream",
     "text": [
      "[[27236   124]\n",
      " [  284   360]]\n"
     ]
    }
   ],
   "source": [
    "K = 4\n",
    "kf = KFold(K)\n",
    "\n",
    "N = len(df)\n",
    "\n",
    "df_folds = []\n",
    "\n",
    "for k, [_, val_idx] in enumerate(kf.split(range(N))):\n",
    "    \n",
    "    print('======================')\n",
    "    print(f'  Beginning fold {k+1}/{K}')\n",
    "    print('======================')\n",
    "    \n",
    "    val_mask = np.zeros((N,), dtype=bool)\n",
    "    val_mask[val_idx] = True\n",
    "    \n",
    "    df['kfold_split'] = val_mask\n",
    "    \n",
    "    dls = get_saga_dls(\n",
    "        df, \n",
    "        label_column=label_column, \n",
    "        split_column='kfold_split',\n",
    "        oversample=None,\n",
    "        PATH=PATH,\n",
    "        seed=seed,\n",
    "        bs=bs,\n",
    "        item_tfms=item_tfms\n",
    "    )\n",
    "    \n",
    "    dblock = DataBlock(\n",
    "        blocks=(ImageBlock, CategoryBlock),\n",
    "        get_x=ColReader(['OBJID'], pref=f'{PATH}/{img_dir}/', suff='.jpg'),\n",
    "        get_y=ColReader('low_z'),\n",
    "        splitter=ColSplitter('kfold_split'),\n",
    "        item_tfms=item_tfms,\n",
    "        batch_tfms=batch_tfms,\n",
    "    )\n",
    "\n",
    "    dls = ImageDataLoaders.from_dblock(dblock, df, path=PATH, bs=bs)\n",
    "    \n",
    "    model = xresnet18_hybrid(n_out=2, sa=True, act_cls=MishCuda, groups=64, reduction=8)\n",
    "    learn = Learner(\n",
    "        dls, model, \n",
    "        opt_func=ranger, \n",
    "        loss_func=loss_func,\n",
    "        metrics=learner_metrics,\n",
    "    )\n",
    "\n",
    "    learn.fit_one_cycle(5, 1e-2)\n",
    "    \n",
    "    p_low_z, true_low_z = learn.get_preds()\n",
    "    p_low_z.argmax(1).sum()\n",
    "    \n",
    "    valid = dls.valid.items.copy()\n",
    "    valid['pred_low_z'] = p_low_z.softmax(1)[:,1].numpy()\n",
    "    \n",
    "    df_folds.append(valid)\n",
    "    \n",
    "    print(confusion_matrix(valid.low_z, p_low_z.argmax(1).numpy()))\n",
    "    \n",
    "    del learn, model, dls\n",
    "    gc.collect()"
   ]
  },
  {
   "cell_type": "code",
   "execution_count": 74,
   "metadata": {},
   "outputs": [],
   "source": [
    "# learn.save('hdxresnet18_focal_sz224')\n",
    "# learn.load('hdxresnet18_focal_sz224');"
   ]
  },
  {
   "cell_type": "code",
   "execution_count": 75,
   "metadata": {},
   "outputs": [],
   "source": [
    "results['hdxresnet18_focal_sz224'] = pd.concat(df_folds)\n",
    "results['hdxresnet18_focal_sz224'].to_csv(f'{PATH}/results/desi-sv/hdxresnet18_focal_sz224.csv', index=False)"
   ]
  },
  {
   "cell_type": "code",
   "execution_count": 87,
   "metadata": {},
   "outputs": [
    {
     "data": {
      "image/png": "[encoded data removed]",
      "text/plain": [
       "<Figure size 600x400 with 1 Axes>"
      ]
     },
     "metadata": {
      "needs_background": "light"
     },
     "output_type": "display_data"
    }
   ],
   "source": [
    "metrics_dict = {}\n",
    "\n",
    "res = results['hdxresnet18_focal_sz224']\n",
    "\n",
    "target_density_values = [1, 2, 3, 5, 10, 15, 20, 30, 50, 100]\n",
    "area = 0.2 * len(res.HOSTID.unique()) * np.pi * 1**2 # 0.2 is validation percent\n",
    "\n",
    "for num_density in np.arange(1, 200, 1):\n",
    "    N = np.round(num_density * area).astype(int)\n",
    "    mag_range = (19 < res.r_mag) & (res.r_mag < 21)\n",
    "    subset = res[mag_range].sort_values('pred_low_z', ascending=False).reset_index()\n",
    "    evaluation_metrics = get_top_N_metrics(subset, N)\n",
    "    metrics_dict[num_density] = evaluation_metrics\n",
    "    \n",
    "all_metrics_df = pd.DataFrame.from_dict(metrics_dict, orient='index').rename_axis('N_per_sq_deg')\n",
    "metrics_df = all_metrics_df.loc[target_density_values]\n",
    "\n",
    "# plot\n",
    "plt.figure(figsize=(6,4), dpi=100)\n",
    "plt.plot(all_metrics_df.index, all_metrics_df.completeness_02, c='#ff6361', lw=3, label='$z<0.02$ completeness')\n",
    "plt.plot(all_metrics_df.index, all_metrics_df.purity_03, c='#ffa600', lw=3, label='$z<0.03$ purity')\n",
    "plt.plot(all_metrics_df.index, all_metrics_df.geometric_mean, c='#003f5c', lw=3, ls='-', label='Geometric mean')\n",
    "\n",
    "plt.ylim(0, 1)\n",
    "plt.xscale('log')\n",
    "plt.xticks(target_density_values, labels=target_density_values)\n",
    "\n",
    "plt.xlabel('Surface density [deg$^{-2}$]')\n",
    "plt.grid(alpha=0.1)\n",
    "plt.legend(framealpha=0, loc='center right')\n",
    "\n",
    "plt.title('hdxresnet18 (FL, 224x224)');"
   ]
  },
  {
   "cell_type": "code",
   "execution_count": 88,
   "metadata": {},
   "outputs": [
    {
     "data": {
      "image/png": "[encoded data removed]",
      "text/plain": [
       "<Figure size 600x400 with 1 Axes>"
      ]
     },
     "metadata": {
      "needs_background": "light"
     },
     "output_type": "display_data"
    }
   ],
   "source": [
    "zdist_dict = {}\n",
    "\n",
    "for num_density in np.arange(1, 200, 1):\n",
    "    N = np.round(num_density * area).astype(int)\n",
    "    \n",
    "    subset = res[mag_range].sort_values('pred_low_z', ascending=False)[:N]\n",
    "    complement = res[mag_range].sort_values('pred_low_z', ascending=False)[N:]\n",
    "    \n",
    "    zdist = {}\n",
    "    \n",
    "    zdist['p50_z_above'] = np.median(subset.SPEC_Z)\n",
    "    zdist['p90_z_above'] = np.quantile(subset.SPEC_Z, 0.90)\n",
    "    zdist['p95_z_above'] = np.quantile(subset.SPEC_Z, 0.95)\n",
    "    zdist['p99_z_above'] = np.quantile(subset.SPEC_Z, 0.99)\n",
    "    \n",
    "    zdist['p10_z_below'] = np.quantile(complement.SPEC_Z, 0.10)\n",
    "    zdist['p05_z_below'] = np.quantile(complement.SPEC_Z, 0.05)\n",
    "    zdist['p01_z_below'] = np.quantile(complement.SPEC_Z, 0.01)\n",
    "\n",
    "    \n",
    "    zdist_dict[num_density] = zdist\n",
    "    \n",
    "all_zdist_df = pd.DataFrame.from_dict(zdist_dict, orient='index').rename_axis('N_per_sq_deg')\n",
    "zdist_df = all_zdist_df.loc[target_density_values]\n",
    "\n",
    "# Plot\n",
    "plt.figure(figsize=(6,4), dpi=100)\n",
    "\n",
    "plt.plot(all_zdist_df.index, all_zdist_df.p50_z_above, c='C0', lw=3, label='Median $z$ of targets above')\n",
    "plt.plot(all_zdist_df.index, all_zdist_df.p95_z_above, c='C1', lw=3, label='95% $z$ of targets above')\n",
    "plt.plot(all_zdist_df.index, all_zdist_df.p05_z_below, c='magenta',  lw=3, label='5% $z$ of targets below')\n",
    "plt.grid(alpha=0.2)\n",
    "plt.ylim(0, 0.65)\n",
    "plt.xscale('log')\n",
    "\n",
    "plt.xlabel('Surface density [deg$^{-2}$]')\n",
    "plt.grid(alpha=0.1)\n",
    "plt.legend(framealpha=0, loc='upper left')\n",
    "\n",
    "plt.title('hdxresnet18 (FL, 224x224)');"
   ]
  },
  {
   "cell_type": "markdown",
   "metadata": {},
   "source": [
    "# Weighted Focal Loss\n",
    "\n",
    "In the original paper (Lin et al. 2018) it was stated that $\\alpha = [0.25, 0.75]$ gave best results. This is equivalent to weight ratios of 1.25 - 4..."
   ]
  },
  {
   "cell_type": "markdown",
   "metadata": {},
   "source": [
    "## 80x80, hdxresnet18 (alpha=0.25, or 3:1 ratio)"
   ]
  },
  {
   "cell_type": "markdown",
   "metadata": {},
   "source": [
    "## Size 80 pixels, hd-xresnet18"
   ]
  },
  {
   "cell_type": "code",
   "execution_count": 78,
   "metadata": {},
   "outputs": [],
   "source": [
    "saga = pd.read_csv(f'{PATH}/data/saga_redshifts_2021-02-19.csv', dtype={'OBJID': str})\n",
    "\n",
    "df = saga.sample(frac=1).copy()\n",
    "df['low_z'] = df.SPEC_Z < 0.03\n",
    "\n",
    "# in order to use with previous utils\n",
    "df['SPEC_FLAG'] = 1"
   ]
  },
  {
   "cell_type": "code",
   "execution_count": 79,
   "metadata": {},
   "outputs": [],
   "source": [
    "sz = 80\n",
    "bs = 128\n",
    "\n",
    "img_dir = 'images-legacy_saga-2021-02-19'\n",
    "\n",
    "legacy_image_stats = [np.array([0.14814416, 0.14217226, 0.13984123]), np.array([0.0881476 , 0.07823102, 0.07676626])]\n",
    "\n",
    "item_tfms = [Resize(sz)]\n",
    "batch_tfms = (\n",
    "    aug_transforms(max_zoom=1., flip_vert=True, max_lighting=0., max_warp=0.) + \n",
    "    [Normalize.from_stats(*legacy_image_stats)]\n",
    ")\n",
    "\n",
    "seed = 256  "
   ]
  },
  {
   "cell_type": "code",
   "execution_count": 80,
   "metadata": {},
   "outputs": [],
   "source": [
    "label_column = 'low_z'\n",
    "\n",
    "# focal loss weight params\n",
    "alpha = 0.25\n",
    "weight = tensor([alpha, 1-alpha])\n",
    "loss_func = FocalLossFlat()"
   ]
  },
  {
   "cell_type": "code",
   "execution_count": 81,
   "metadata": {},
   "outputs": [
    {
     "name": "stdout",
     "output_type": "stream",
     "text": [
      "======================\n",
      "  Beginning fold 1/4\n",
      "======================\n"
     ]
    },
    {
     "data": {
      "text/html": [
       "<table border=\"1\" class=\"dataframe\">\n",
       "  <thead>\n",
       "    <tr style=\"text-align: left;\">\n",
       "      <th>epoch</th>\n",
       "      <th>train_loss</th>\n",
       "      <th>valid_loss</th>\n",
       "      <th>accuracy</th>\n",
       "      <th>f1_score</th>\n",
       "      <th>recall_score</th>\n",
       "      <th>precision_score</th>\n",
       "      <th>time</th>\n",
       "    </tr>\n",
       "  </thead>\n",
       "  <tbody>\n",
       "    <tr>\n",
       "      <td>0</td>\n",
       "      <td>0.019930</td>\n",
       "      <td>0.023495</td>\n",
       "      <td>0.971647</td>\n",
       "      <td>0.464238</td>\n",
       "      <td>0.522003</td>\n",
       "      <td>0.417983</td>\n",
       "      <td>01:42</td>\n",
       "    </tr>\n",
       "    <tr>\n",
       "      <td>1</td>\n",
       "      <td>0.015856</td>\n",
       "      <td>0.015044</td>\n",
       "      <td>0.983288</td>\n",
       "      <td>0.541176</td>\n",
       "      <td>0.418816</td>\n",
       "      <td>0.764543</td>\n",
       "      <td>01:42</td>\n",
       "    </tr>\n",
       "    <tr>\n",
       "      <td>2</td>\n",
       "      <td>0.012248</td>\n",
       "      <td>0.012269</td>\n",
       "      <td>0.984502</td>\n",
       "      <td>0.557143</td>\n",
       "      <td>0.414264</td>\n",
       "      <td>0.850467</td>\n",
       "      <td>01:40</td>\n",
       "    </tr>\n",
       "    <tr>\n",
       "      <td>3</td>\n",
       "      <td>0.009777</td>\n",
       "      <td>0.010959</td>\n",
       "      <td>0.985752</td>\n",
       "      <td>0.662722</td>\n",
       "      <td>0.594841</td>\n",
       "      <td>0.748092</td>\n",
       "      <td>01:40</td>\n",
       "    </tr>\n",
       "    <tr>\n",
       "      <td>4</td>\n",
       "      <td>0.009250</td>\n",
       "      <td>0.010485</td>\n",
       "      <td>0.986145</td>\n",
       "      <td>0.671186</td>\n",
       "      <td>0.600910</td>\n",
       "      <td>0.760077</td>\n",
       "      <td>01:40</td>\n",
       "    </tr>\n",
       "  </tbody>\n",
       "</table>"
      ],
      "text/plain": [
       "<IPython.core.display.HTML object>"
      ]
     },
     "metadata": {},
     "output_type": "display_data"
    },
    {
     "data": {
      "text/html": [],
      "text/plain": [
       "<IPython.core.display.HTML object>"
      ]
     },
     "metadata": {},
     "output_type": "display_data"
    },
    {
     "name": "stdout",
     "output_type": "stream",
     "text": [
      "[[27220   125]\n",
      " [  263   396]]\n",
      "======================\n",
      "  Beginning fold 2/4\n",
      "======================\n"
     ]
    },
    {
     "data": {
      "text/html": [
       "<table border=\"1\" class=\"dataframe\">\n",
       "  <thead>\n",
       "    <tr style=\"text-align: left;\">\n",
       "      <th>epoch</th>\n",
       "      <th>train_loss</th>\n",
       "      <th>valid_loss</th>\n",
       "      <th>accuracy</th>\n",
       "      <th>f1_score</th>\n",
       "      <th>recall_score</th>\n",
       "      <th>precision_score</th>\n",
       "      <th>time</th>\n",
       "    </tr>\n",
       "  </thead>\n",
       "  <tbody>\n",
       "    <tr>\n",
       "      <td>0</td>\n",
       "      <td>0.020716</td>\n",
       "      <td>0.019066</td>\n",
       "      <td>0.980110</td>\n",
       "      <td>0.309789</td>\n",
       "      <td>0.192604</td>\n",
       "      <td>0.791139</td>\n",
       "      <td>01:42</td>\n",
       "    </tr>\n",
       "    <tr>\n",
       "      <td>1</td>\n",
       "      <td>0.016281</td>\n",
       "      <td>0.014046</td>\n",
       "      <td>0.982181</td>\n",
       "      <td>0.540092</td>\n",
       "      <td>0.451464</td>\n",
       "      <td>0.672018</td>\n",
       "      <td>01:42</td>\n",
       "    </tr>\n",
       "    <tr>\n",
       "      <td>2</td>\n",
       "      <td>0.011894</td>\n",
       "      <td>0.012496</td>\n",
       "      <td>0.985109</td>\n",
       "      <td>0.630647</td>\n",
       "      <td>0.548536</td>\n",
       "      <td>0.741667</td>\n",
       "      <td>01:42</td>\n",
       "    </tr>\n",
       "    <tr>\n",
       "      <td>3</td>\n",
       "      <td>0.010514</td>\n",
       "      <td>0.011383</td>\n",
       "      <td>0.985859</td>\n",
       "      <td>0.641953</td>\n",
       "      <td>0.546995</td>\n",
       "      <td>0.776805</td>\n",
       "      <td>01:41</td>\n",
       "    </tr>\n",
       "    <tr>\n",
       "      <td>4</td>\n",
       "      <td>0.009341</td>\n",
       "      <td>0.011081</td>\n",
       "      <td>0.986680</td>\n",
       "      <td>0.663661</td>\n",
       "      <td>0.567026</td>\n",
       "      <td>0.800000</td>\n",
       "      <td>01:42</td>\n",
       "    </tr>\n",
       "  </tbody>\n",
       "</table>"
      ],
      "text/plain": [
       "<IPython.core.display.HTML object>"
      ]
     },
     "metadata": {},
     "output_type": "display_data"
    },
    {
     "data": {
      "text/html": [],
      "text/plain": [
       "<IPython.core.display.HTML object>"
      ]
     },
     "metadata": {},
     "output_type": "display_data"
    },
    {
     "name": "stdout",
     "output_type": "stream",
     "text": [
      "[[27263    92]\n",
      " [  281   368]]\n",
      "======================\n",
      "  Beginning fold 3/4\n",
      "======================\n"
     ]
    },
    {
     "data": {
      "text/html": [
       "<table border=\"1\" class=\"dataframe\">\n",
       "  <thead>\n",
       "    <tr style=\"text-align: left;\">\n",
       "      <th>epoch</th>\n",
       "      <th>train_loss</th>\n",
       "      <th>valid_loss</th>\n",
       "      <th>accuracy</th>\n",
       "      <th>f1_score</th>\n",
       "      <th>recall_score</th>\n",
       "      <th>precision_score</th>\n",
       "      <th>time</th>\n",
       "    </tr>\n",
       "  </thead>\n",
       "  <tbody>\n",
       "    <tr>\n",
       "      <td>0</td>\n",
       "      <td>0.019391</td>\n",
       "      <td>0.020522</td>\n",
       "      <td>0.981324</td>\n",
       "      <td>0.340479</td>\n",
       "      <td>0.218447</td>\n",
       "      <td>0.771429</td>\n",
       "      <td>01:43</td>\n",
       "    </tr>\n",
       "    <tr>\n",
       "      <td>1</td>\n",
       "      <td>0.014321</td>\n",
       "      <td>0.019608</td>\n",
       "      <td>0.983360</td>\n",
       "      <td>0.427518</td>\n",
       "      <td>0.281553</td>\n",
       "      <td>0.887755</td>\n",
       "      <td>01:43</td>\n",
       "    </tr>\n",
       "    <tr>\n",
       "      <td>2</td>\n",
       "      <td>0.011553</td>\n",
       "      <td>0.010981</td>\n",
       "      <td>0.986109</td>\n",
       "      <td>0.618253</td>\n",
       "      <td>0.509709</td>\n",
       "      <td>0.785536</td>\n",
       "      <td>01:42</td>\n",
       "    </tr>\n",
       "    <tr>\n",
       "      <td>3</td>\n",
       "      <td>0.010658</td>\n",
       "      <td>0.010134</td>\n",
       "      <td>0.987288</td>\n",
       "      <td>0.669759</td>\n",
       "      <td>0.584142</td>\n",
       "      <td>0.784783</td>\n",
       "      <td>01:42</td>\n",
       "    </tr>\n",
       "    <tr>\n",
       "      <td>4</td>\n",
       "      <td>0.009451</td>\n",
       "      <td>0.009928</td>\n",
       "      <td>0.987895</td>\n",
       "      <td>0.688705</td>\n",
       "      <td>0.606796</td>\n",
       "      <td>0.796178</td>\n",
       "      <td>01:43</td>\n",
       "    </tr>\n",
       "  </tbody>\n",
       "</table>"
      ],
      "text/plain": [
       "<IPython.core.display.HTML object>"
      ]
     },
     "metadata": {},
     "output_type": "display_data"
    },
    {
     "data": {
      "text/html": [],
      "text/plain": [
       "<IPython.core.display.HTML object>"
      ]
     },
     "metadata": {},
     "output_type": "display_data"
    },
    {
     "name": "stdout",
     "output_type": "stream",
     "text": [
      "[[27290    96]\n",
      " [  243   375]]\n",
      "======================\n",
      "  Beginning fold 4/4\n",
      "======================\n"
     ]
    },
    {
     "data": {
      "text/html": [
       "<table border=\"1\" class=\"dataframe\">\n",
       "  <thead>\n",
       "    <tr style=\"text-align: left;\">\n",
       "      <th>epoch</th>\n",
       "      <th>train_loss</th>\n",
       "      <th>valid_loss</th>\n",
       "      <th>accuracy</th>\n",
       "      <th>f1_score</th>\n",
       "      <th>recall_score</th>\n",
       "      <th>precision_score</th>\n",
       "      <th>time</th>\n",
       "    </tr>\n",
       "  </thead>\n",
       "  <tbody>\n",
       "    <tr>\n",
       "      <td>0</td>\n",
       "      <td>0.022788</td>\n",
       "      <td>0.057641</td>\n",
       "      <td>0.917119</td>\n",
       "      <td>0.219307</td>\n",
       "      <td>0.523274</td>\n",
       "      <td>0.138723</td>\n",
       "      <td>01:43</td>\n",
       "    </tr>\n",
       "    <tr>\n",
       "      <td>1</td>\n",
       "      <td>0.014533</td>\n",
       "      <td>0.014879</td>\n",
       "      <td>0.983038</td>\n",
       "      <td>0.424242</td>\n",
       "      <td>0.280899</td>\n",
       "      <td>0.866337</td>\n",
       "      <td>01:43</td>\n",
       "    </tr>\n",
       "    <tr>\n",
       "      <td>2</td>\n",
       "      <td>0.012022</td>\n",
       "      <td>0.011731</td>\n",
       "      <td>0.984538</td>\n",
       "      <td>0.643034</td>\n",
       "      <td>0.626003</td>\n",
       "      <td>0.661017</td>\n",
       "      <td>01:42</td>\n",
       "    </tr>\n",
       "    <tr>\n",
       "      <td>3</td>\n",
       "      <td>0.011149</td>\n",
       "      <td>0.011207</td>\n",
       "      <td>0.985895</td>\n",
       "      <td>0.684757</td>\n",
       "      <td>0.688604</td>\n",
       "      <td>0.680952</td>\n",
       "      <td>01:42</td>\n",
       "    </tr>\n",
       "    <tr>\n",
       "      <td>4</td>\n",
       "      <td>0.010265</td>\n",
       "      <td>0.010192</td>\n",
       "      <td>0.987359</td>\n",
       "      <td>0.665406</td>\n",
       "      <td>0.565008</td>\n",
       "      <td>0.809195</td>\n",
       "      <td>01:42</td>\n",
       "    </tr>\n",
       "  </tbody>\n",
       "</table>"
      ],
      "text/plain": [
       "<IPython.core.display.HTML object>"
      ]
     },
     "metadata": {},
     "output_type": "display_data"
    },
    {
     "data": {
      "text/html": [],
      "text/plain": [
       "<IPython.core.display.HTML object>"
      ]
     },
     "metadata": {},
     "output_type": "display_data"
    },
    {
     "name": "stdout",
     "output_type": "stream",
     "text": [
      "[[27298    83]\n",
      " [  271   352]]\n"
     ]
    }
   ],
   "source": [
    "K = 4\n",
    "kf = KFold(K)\n",
    "\n",
    "N = len(df)\n",
    "\n",
    "df_folds = []\n",
    "\n",
    "for k, [_, val_idx] in enumerate(kf.split(range(N))):\n",
    "    \n",
    "    print('======================')\n",
    "    print(f'  Beginning fold {k+1}/{K}')\n",
    "    print('======================')\n",
    "    \n",
    "    val_mask = np.zeros((N,), dtype=bool)\n",
    "    val_mask[val_idx] = True\n",
    "    \n",
    "    df['kfold_split'] = val_mask\n",
    "    \n",
    "    dls = get_saga_dls(\n",
    "        df, \n",
    "        label_column=label_column, \n",
    "        split_column='kfold_split',\n",
    "        oversample=None,\n",
    "        PATH=PATH,\n",
    "        seed=seed,\n",
    "        bs=bs,\n",
    "        item_tfms=item_tfms\n",
    "    )\n",
    "    \n",
    "    dblock = DataBlock(\n",
    "        blocks=(ImageBlock, CategoryBlock),\n",
    "        get_x=ColReader(['OBJID'], pref=f'{PATH}/{img_dir}/', suff='.jpg'),\n",
    "        get_y=ColReader('low_z'),\n",
    "        splitter=ColSplitter('kfold_split'),\n",
    "        item_tfms=item_tfms,\n",
    "        batch_tfms=batch_tfms,\n",
    "    )\n",
    "\n",
    "    dls = ImageDataLoaders.from_dblock(dblock, df, path=PATH, bs=bs)\n",
    "    \n",
    "    model = xresnet18_hybrid(n_out=2, sa=True, act_cls=MishCuda, groups=64, reduction=8)\n",
    "    learn = Learner(\n",
    "        dls, model, \n",
    "        opt_func=ranger, \n",
    "        loss_func=loss_func,\n",
    "        metrics=learner_metrics,\n",
    "    )\n",
    "\n",
    "    learn.fit_one_cycle(5, 1e-2)\n",
    "    \n",
    "    p_low_z, true_low_z = learn.get_preds()\n",
    "    p_low_z.argmax(1).sum()\n",
    "    \n",
    "    valid = dls.valid.items.copy()\n",
    "    valid['pred_low_z'] = p_low_z.softmax(1)[:,1].numpy()\n",
    "    \n",
    "    df_folds.append(valid)\n",
    "    \n",
    "    print(confusion_matrix(valid.low_z, p_low_z.argmax(1).numpy()))\n",
    "    \n",
    "    del learn, model, dls\n",
    "    gc.collect()"
   ]
  },
  {
   "cell_type": "code",
   "execution_count": 82,
   "metadata": {},
   "outputs": [],
   "source": [
    "# learn.save('hdxresnet18_focal_sz80_alpha0p25')\n",
    "# learn.load('hdxresnet18_focal_sz80_alpha0p25');"
   ]
  },
  {
   "cell_type": "code",
   "execution_count": 83,
   "metadata": {},
   "outputs": [],
   "source": [
    "results['hdxresnet18_focal_sz80_alpha0p25'] = pd.concat(df_folds)\n",
    "results['hdxresnet18_focal_sz80_alpha0p25'].to_csv(f'{PATH}/results/desi-sv/hdxresnet18_focal_sz80_alpha0p25.csv', index=False)"
   ]
  },
  {
   "cell_type": "code",
   "execution_count": 85,
   "metadata": {},
   "outputs": [
    {
     "data": {
      "image/png": "[encoded data removed]",
      "text/plain": [
       "<Figure size 600x400 with 1 Axes>"
      ]
     },
     "metadata": {
      "needs_background": "light"
     },
     "output_type": "display_data"
    }
   ],
   "source": [
    "metrics_dict = {}\n",
    "\n",
    "res = results['hdxresnet18_focal_sz80_alpha0p25']\n",
    "\n",
    "target_density_values = [1, 2, 3, 5, 10, 15, 20, 30, 50, 100]\n",
    "area = 0.2 * len(res.HOSTID.unique()) * np.pi * 1**2 # 0.2 is validation percent\n",
    "\n",
    "for num_density in np.arange(1, 200, 1):\n",
    "    N = np.round(num_density * area).astype(int)\n",
    "    mag_range = (19 < res.r_mag) & (res.r_mag < 21)\n",
    "    subset = res[mag_range].sort_values('pred_low_z', ascending=False).reset_index()\n",
    "    metrics = get_top_N_metrics(subset, N)\n",
    "    metrics_dict[num_density] = metrics\n",
    "    \n",
    "all_metrics_df = pd.DataFrame.from_dict(metrics_dict, orient='index').rename_axis('N_per_sq_deg')\n",
    "metrics_df = all_metrics_df.loc[target_density_values]\n",
    "\n",
    "# plot\n",
    "plt.figure(figsize=(6,4), dpi=100)\n",
    "plt.plot(all_metrics_df.index, all_metrics_df.completeness_02, c='#ff6361', lw=3, label='$z<0.02$ completeness')\n",
    "plt.plot(all_metrics_df.index, all_metrics_df.purity_03, c='#ffa600', lw=3, label='$z<0.03$ purity')\n",
    "plt.plot(all_metrics_df.index, all_metrics_df.geometric_mean, c='#003f5c', lw=3, ls='-', label='Geometric mean')\n",
    "\n",
    "plt.ylim(0, 1)\n",
    "plt.xscale('log')\n",
    "plt.xticks(target_density_values, labels=target_density_values)\n",
    "\n",
    "plt.xlabel('Surface density [deg$^{-2}$]')\n",
    "plt.grid(alpha=0.1)\n",
    "plt.legend(framealpha=0, loc='center right')\n",
    "\n",
    "plt.title('hdxresnet18 (FL, 80x80, alpha=0.25)');"
   ]
  },
  {
   "cell_type": "code",
   "execution_count": 86,
   "metadata": {},
   "outputs": [
    {
     "data": {
      "image/png": "[encoded data removed]",
      "text/plain": [
       "<Figure size 600x400 with 1 Axes>"
      ]
     },
     "metadata": {
      "needs_background": "light"
     },
     "output_type": "display_data"
    }
   ],
   "source": [
    "zdist_dict = {}\n",
    "\n",
    "for num_density in np.arange(1, 200, 1):\n",
    "    N = np.round(num_density * area).astype(int)\n",
    "    \n",
    "    subset = res[mag_range].sort_values('pred_low_z', ascending=False)[:N]\n",
    "    complement = res[mag_range].sort_values('pred_low_z', ascending=False)[N:]\n",
    "    \n",
    "    zdist = {}\n",
    "    \n",
    "    zdist['p50_z_above'] = np.median(subset.SPEC_Z)\n",
    "    zdist['p90_z_above'] = np.quantile(subset.SPEC_Z, 0.90)\n",
    "    zdist['p95_z_above'] = np.quantile(subset.SPEC_Z, 0.95)\n",
    "    zdist['p99_z_above'] = np.quantile(subset.SPEC_Z, 0.99)\n",
    "    \n",
    "    zdist['p10_z_below'] = np.quantile(complement.SPEC_Z, 0.10)\n",
    "    zdist['p05_z_below'] = np.quantile(complement.SPEC_Z, 0.05)\n",
    "    zdist['p01_z_below'] = np.quantile(complement.SPEC_Z, 0.01)\n",
    "\n",
    "    \n",
    "    zdist_dict[num_density] = zdist\n",
    "    \n",
    "all_zdist_df = pd.DataFrame.from_dict(zdist_dict, orient='index').rename_axis('N_per_sq_deg')\n",
    "zdist_df = all_zdist_df.loc[target_density_values]\n",
    "\n",
    "# Plot\n",
    "plt.figure(figsize=(6,4), dpi=100)\n",
    "\n",
    "plt.plot(all_zdist_df.index, all_zdist_df.p50_z_above, c='C0', lw=3, label='Median $z$ of targets above')\n",
    "plt.plot(all_zdist_df.index, all_zdist_df.p95_z_above, c='C1', lw=3, label='95% $z$ of targets above')\n",
    "plt.plot(all_zdist_df.index, all_zdist_df.p05_z_below, c='magenta',  lw=3, label='5% $z$ of targets below')\n",
    "plt.grid(alpha=0.2)\n",
    "plt.ylim(0, 0.65)\n",
    "plt.xscale('log')\n",
    "\n",
    "plt.xlabel('Surface density [deg$^{-2}$]')\n",
    "plt.grid(alpha=0.1)\n",
    "plt.legend(framealpha=0, loc='upper left')\n",
    "\n",
    "plt.title('hdxresnet18 (FL, 80x80, alpha=0.25)');"
   ]
  },
  {
   "cell_type": "markdown",
   "metadata": {
    "heading_collapsed": true
   },
   "source": [
    "# Optimize classification prediction *and* penalize higher redshift"
   ]
  },
  {
   "cell_type": "code",
   "execution_count": null,
   "metadata": {
    "hidden": true
   },
   "outputs": [],
   "source": []
  },
  {
   "cell_type": "markdown",
   "metadata": {
    "hidden": true
   },
   "source": [
    "## Includes Cross Entropy"
   ]
  },
  {
   "cell_type": "code",
   "execution_count": 16,
   "metadata": {
    "hidden": true
   },
   "outputs": [],
   "source": [
    "# regress on redshift\n",
    "dblock = DataBlock(\n",
    "    blocks=(ImageBlock, RegressionBlock),\n",
    "    get_x=ColReader(['OBJID'], pref=f'{PATH}/{img_dir}/', suff='.jpg'),\n",
    "    get_y=ColReader('SPEC_Z'),\n",
    "    splitter=RandomSplitter(valid_pct=0.2, seed=seed),\n",
    "    item_tfms=item_tfms,\n",
    "    batch_tfms=batch_tfms,\n",
    ")"
   ]
  },
  {
   "cell_type": "code",
   "execution_count": 17,
   "metadata": {
    "hidden": true
   },
   "outputs": [],
   "source": [
    "dls = ImageDataLoaders.from_dblock(dblock, df, path=PATH, bs=bs)"
   ]
  },
  {
   "cell_type": "code",
   "execution_count": 19,
   "metadata": {
    "hidden": true
   },
   "outputs": [],
   "source": [
    "model = nn.Sequential(\n",
    "    FastDeconv(3, 32, 3, stride=2), MishCuda(),\n",
    "    FastDeconv(32, 32, 3, stride=2), MishCuda(),\n",
    "    FastDeconv(32, 64, 3), MishCuda(),\n",
    "    nn.AdaptiveAvgPool2d(1),\n",
    "    Flatten(),\n",
    "    nn.Linear(64, dls.c)\n",
    ").cuda()"
   ]
  },
  {
   "cell_type": "markdown",
   "metadata": {
    "hidden": true
   },
   "source": [
    "## Includes Focal Loss"
   ]
  },
  {
   "cell_type": "code",
   "execution_count": null,
   "metadata": {
    "hidden": true
   },
   "outputs": [],
   "source": []
  }
 ],
 "metadata": {
  "kernelspec": {
   "display_name": "fastai2",
   "language": "python",
   "name": "fastai2"
  },
  "language_info": {
   "codemirror_mode": {
    "name": "ipython",
    "version": 3
   },
   "file_extension": ".py",
   "mimetype": "text/x-python",
   "name": "python",
   "nbconvert_exporter": "python",
   "pygments_lexer": "ipython3",
   "version": "3.7.7"
  },
  "toc": {
   "base_numbering": 1,
   "nav_menu": {
    "height": "300px",
    "width": "218.8px"
   },
   "number_sections": true,
   "sideBar": true,
   "skip_h1_title": false,
   "title_cell": "Table of Contents",
   "title_sidebar": "Contents",
   "toc_cell": false,
   "toc_position": {},
   "toc_section_display": true,
   "toc_window_display": false
  }
 },
 "nbformat": 4,
 "nbformat_minor": 4
}
