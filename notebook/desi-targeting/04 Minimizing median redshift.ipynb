{
 "cells": [
  {
   "cell_type": "markdown",
   "metadata": {},
   "source": [
    "# Introduction\n",
    "\n",
    "So far, we've jointly optimized purity and completeness using a recent SAGA II+ catalog (2021-02-11). However, we haven't optimized a CNN *as a function of target density*. Moreover, we haven't been able to optimize the models so that the resultant redshift distributions look like [Yao's plots](https://hackmd.io/@yymao/SJ8v0KhZO).\n",
    "\n",
    "Here we will do a few new things:\n",
    "- use the 2021-02-19 data set (updated with new redshifts and a few"
   ]
  },
  {
   "cell_type": "code",
   "execution_count": 1,
   "metadata": {},
   "outputs": [],
   "source": [
    "from fastai2.basics import *\n",
    "from fastai2.vision.all import *\n",
    "from pathlib import Path\n",
    "\n",
    "from mish_cuda import MishCuda\n",
    "import cmasher as cmr\n",
    "import gc\n",
    "import scipy.cluster.hierarchy as hcluster\n",
    "\n",
    "from sklearn.model_selection import KFold\n",
    "from sklearn.cluster import KMeans\n",
    "from sklearn.metrics import confusion_matrix, roc_curve\n",
    "\n",
    "seed = 256\n",
    "\n",
    "%matplotlib inline"
   ]
  },
  {
   "cell_type": "code",
   "execution_count": 2,
   "metadata": {},
   "outputs": [],
   "source": [
    "import sys\n",
    "PATH = Path('../..').resolve()\n",
    "\n",
    "sys.path.append(f'{PATH}/src')\n",
    "from utils import *\n",
    "\n",
    "metrics = [accuracy, F1Score(), Recall(), Precision()]\n",
    "\n",
    "sys.path.append('/home/jupyter/morphological-spectra/src')\n",
    "from xresnet_deconv import *"
   ]
  },
  {
   "cell_type": "code",
   "execution_count": 3,
   "metadata": {},
   "outputs": [],
   "source": [
    "saga = pd.read_csv(f'{PATH}/data/saga_redshifts_2021-02-19.csv', dtype={'OBJID': str})\n",
    "\n",
    "df = saga.sample(frac=1).copy()\n",
    "df['lower_z'] = df.SPEC_Z < 0.02\n",
    "df['low_z'] = df.SPEC_Z < 0.03\n",
    "\n",
    "# in order to use with previous utils\n",
    "df['SPEC_FLAG'] = 1"
   ]
  },
  {
   "cell_type": "markdown",
   "metadata": {},
   "source": [
    "## Util functions from last time"
   ]
  },
  {
   "cell_type": "code",
   "execution_count": 4,
   "metadata": {},
   "outputs": [],
   "source": [
    "\n",
    "legacy_image_stats = [np.array([0.14814416, 0.14217226, 0.13984123]), np.array([0.0881476 , 0.07823102, 0.07676626])]\n",
    "\n",
    "item_tfms = [Resize(224)]\n",
    "batch_tfms = (\n",
    "    aug_transforms(max_zoom=1., flip_vert=True, max_lighting=0., max_warp=0.) + \n",
    "    [Normalize.from_stats(*legacy_image_stats)]\n",
    ")\n",
    "seed = 256\n",
    "\n",
    "\n",
    "def oversample(df: pd.DataFrame, num_oversample=None, label_column='lower_z'):\n",
    "    \"\"\"Oversample a `pd.DataFrame` such that `label_column` classes\n",
    "    are balanced. Note that the result is not shuffled.\n",
    "    \"\"\"\n",
    "    lst = [df]\n",
    "    N_majority = (~df[label_column]).sum()\n",
    "    N_minority = ( df[label_column]).sum()\n",
    "    \n",
    "    try:\n",
    "        # -1 -> rebalance casses, other negative numbers will raise a ValueError\n",
    "        if num_oversample == -1: num_oversample = N_majority - N_minority\n",
    "        lst.append(df[df[label_column]].sample(num_oversample, replace=True))\n",
    "    except ValueError:\n",
    "        print('Make sure that `num_oversample` is larger than the number of objects in the label class')\n",
    "\n",
    "    return pd.concat(lst)\n",
    "\n",
    "def get_saga_dls(\n",
    "    saga, \n",
    "    label_column='lower_z',\n",
    "    split_column=None,\n",
    "    oversample=None, \n",
    "    undersample=None, \n",
    "    valid_pct=0.25, \n",
    "    bs=64, \n",
    "    PATH=PATH,\n",
    "    img_dir='images-legacy_saga-2021-02-11',\n",
    "    item_tfms=item_tfms, \n",
    "    batch_tfms=batch_tfms, \n",
    "    seed=256,\n",
    "):\n",
    "    \"\"\"Returns Dataloaders `dls` based on an input catalog `saga`. \n",
    "    If `undersample` is an integer, then it will sample fewer from the \n",
    "    nonsatellites class. If `oversample` is an integer, then it will sample\n",
    "    that many satellites. User can also provide fraction of sample \n",
    "    for validation by supplying `valid_pct`.\n",
    "    \"\"\"\n",
    "    \n",
    "    \n",
    "    is_low_z = (saga.SPEC_FLAG == 1) & (saga[label_column] == 1) # 1 == True\n",
    "\n",
    "    if undersample is None:\n",
    "        df = saga.copy()\n",
    "    elif isinstance(undersample, int):\n",
    "        df = pd.concat(\n",
    "            (saga[~is_low_z].sample(undersample), saga[is_low_z]),\n",
    "        )\n",
    "    else:\n",
    "        raise TypeError('Please enter an integer for `undersample`')\n",
    "    \n",
    "    if split_column is None:\n",
    "        dblock = DataBlock(\n",
    "            blocks=(ImageBlock, CategoryBlock),\n",
    "            get_x=ColReader(['OBJID'], pref=f'{PATH}/{img_dir}/', suff='.jpg'),\n",
    "            get_y=ColReader(label_column),\n",
    "            splitter=RandomSplitter(valid_pct=valid_pct, seed=seed),\n",
    "            item_tfms=item_tfms,\n",
    "            batch_tfms=batch_tfms,\n",
    "        )\n",
    "    elif split_column in df.columns:\n",
    "        dblock = DataBlock(\n",
    "            blocks=(ImageBlock, CategoryBlock),\n",
    "            get_x=ColReader(['OBJID'], pref=f'{PATH}/{img_dir}/', suff='.jpg'),\n",
    "            get_y=ColReader(label_column),\n",
    "            splitter=ColSplitter(split_column),\n",
    "            item_tfms=item_tfms,\n",
    "            batch_tfms=batch_tfms,\n",
    "        )\n",
    "    else:\n",
    "        raise TypeError('Please enter a valid column for splitting train/valid subsets')\n",
    "    \n",
    "    dls = ImageDataLoaders.from_dblock(dblock, df, path=PATH, bs=bs)\n",
    "    \n",
    "    if oversample is not None:\n",
    "        return resample_dls(\n",
    "            dls, label_column=label_column, split_column=split_column, num_oversample=oversample,\n",
    "            bs=bs, PATH=PATH, item_tfms=item_tfms, batch_tfms=batch_tfms, seed=seed\n",
    "        )\n",
    "    else:\n",
    "        return dls\n",
    "    \n",
    "\n",
    "def resample_dls(\n",
    "    dls, \n",
    "    label_column='HAS_SAT_Z', \n",
    "    num_oversample=None,\n",
    "    split_column=None,\n",
    "    bs=64, PATH=PATH, \n",
    "    img_dir='images-legacy_saga-2021-02-11',\n",
    "    item_tfms=item_tfms, \n",
    "    batch_tfms=batch_tfms, \n",
    "    seed=seed,\n",
    "):\n",
    "    \"\"\"Given Dataloaders `dls` -- you may need to run `get_saga_dls()` first --\n",
    "    oversample the satellites (generally outnumbered 100:1) in order to\n",
    "    balance the classes. The classes are split by a binary `label_column`,\n",
    "    which defaults to 'HAS_SAT_Z'. \n",
    "    \n",
    "    Note that this method is probably not memory efficient.\n",
    "    \"\"\"\n",
    "    train = dls.train.items.copy()\n",
    "    valid = dls.valid.items.copy()\n",
    "\n",
    "    train_oversampled = oversample(train, num_oversample=num_oversample, label_column=label_column)\n",
    "\n",
    "    if split_column is None:\n",
    "        split_column = 'is_valid'\n",
    "        train_oversampled[split_column] = False\n",
    "        valid[split_column] = True\n",
    "        \n",
    "    df_oversampled = pd.concat((train_oversampled, valid)).sample(frac=1)\n",
    "    \n",
    "    # create resampled datablock\n",
    "    dblock_oversampled = DataBlock(\n",
    "        blocks=(ImageBlock, CategoryBlock),\n",
    "        get_x=ColReader(['OBJID'], pref=f'{PATH}/{img_dir}/', suff='.jpg'),\n",
    "        get_y=ColReader(label_column),\n",
    "        splitter=ColSplitter(split_column),\n",
    "        item_tfms=item_tfms,\n",
    "        batch_tfms=batch_tfms,\n",
    "    )\n",
    "\n",
    "    return ImageDataLoaders.from_dblock(dblock_oversampled, df_oversampled, path=PATH, bs=bs)"
   ]
  },
  {
   "cell_type": "code",
   "execution_count": 5,
   "metadata": {},
   "outputs": [],
   "source": [
    "def get_top_N_metrics(subset, N):\n",
    "    \n",
    "    metrics = {}\n",
    "    \n",
    "    # z<0.02\n",
    "    TP = ((subset.index < N) & (subset.SPEC_Z < 0.02)).sum()\n",
    "    TN = ((subset.index > N) & (subset.SPEC_Z > 0.02)).sum()\n",
    "    FP = ((subset.index < N) & (subset.SPEC_Z > 0.02)).sum()\n",
    "    FN = ((subset.index > N) & (subset.SPEC_Z < 0.02)).sum()\n",
    "    \n",
    "    metrics['completeness_02'] = TP / (TP + FN)\n",
    "\n",
    "    # z<0.03\n",
    "    TP = ((subset.index < N) & (subset.SPEC_Z < 0.03)).sum()\n",
    "    TN = ((subset.index > N) & (subset.SPEC_Z > 0.03)).sum()\n",
    "    FP = ((subset.index < N) & (subset.SPEC_Z > 0.03)).sum()\n",
    "    FN = ((subset.index > N) & (subset.SPEC_Z < 0.03)).sum()\n",
    "#     metrics['completeness_03'] = TP / (TP + FN)\n",
    "    metrics['purity_03'] = TP / (TP + FP)\n",
    "    \n",
    "    metrics['geometric_mean'] = np.sqrt(metrics['completeness_02'] * metrics['purity_03'])\n",
    "    metrics['harmonic_mean'] = 2 / (1/metrics['completeness_02'] + 1/metrics['purity_03'])\n",
    "    \n",
    "    return metrics"
   ]
  },
  {
   "cell_type": "markdown",
   "metadata": {},
   "source": [
    "# A simple model to minimize median redshift"
   ]
  },
  {
   "cell_type": "code",
   "execution_count": 47,
   "metadata": {},
   "outputs": [],
   "source": [
    "saga = pd.read_csv(f'{PATH}/data/saga_redshifts_2021-02-19.csv', dtype={'OBJID': str})\n",
    "\n",
    "df = saga.sample(frac=1).copy()\n",
    "df['lower_z'] = df.SPEC_Z < 0.02\n",
    "df['low_z'] = df.SPEC_Z < 0.03\n",
    "\n",
    "# in order to use with previous utils\n",
    "df['SPEC_FLAG'] = 1"
   ]
  },
  {
   "cell_type": "code",
   "execution_count": 48,
   "metadata": {},
   "outputs": [],
   "source": [
    "sz = 80\n",
    "bs = 128\n",
    "\n",
    "img_dir = 'images-legacy_saga-2021-02-19'\n",
    "\n",
    "legacy_image_stats = [np.array([0.14814416, 0.14217226, 0.13984123]), np.array([0.0881476 , 0.07823102, 0.07676626])]\n",
    "\n",
    "item_tfms = [Resize(sz)]\n",
    "batch_tfms = (\n",
    "    aug_transforms(max_zoom=1., flip_vert=True, max_lighting=0., max_warp=0.) + \n",
    "    [Normalize.from_stats(*legacy_image_stats)]\n",
    ")\n",
    "\n",
    "# note HUGE batch size because of small images\n",
    "seed = 1024  "
   ]
  },
  {
   "cell_type": "code",
   "execution_count": 49,
   "metadata": {},
   "outputs": [],
   "source": [
    "# regress on redshift\n",
    "dblock = DataBlock(\n",
    "    blocks=(ImageBlock, RegressionBlock),\n",
    "    get_x=ColReader(['OBJID'], pref=f'{PATH}/{img_dir}/', suff='.jpg'),\n",
    "    get_y=ColReader('SPEC_Z'),\n",
    "    splitter=RandomSplitter(valid_pct=0.2, seed=seed),\n",
    "    item_tfms=item_tfms,\n",
    "    batch_tfms=batch_tfms,\n",
    ")"
   ]
  },
  {
   "cell_type": "code",
   "execution_count": 50,
   "metadata": {},
   "outputs": [],
   "source": [
    "dls = ImageDataLoaders.from_dblock(dblock, df, path=PATH, bs=bs)"
   ]
  },
  {
   "cell_type": "markdown",
   "metadata": {},
   "source": [
    "(no oversampling yet)"
   ]
  },
  {
   "cell_type": "markdown",
   "metadata": {},
   "source": [
    "## Optimize with MAE (L1) loss "
   ]
  },
  {
   "cell_type": "code",
   "execution_count": 51,
   "metadata": {},
   "outputs": [],
   "source": [
    "model = nn.Sequential(\n",
    "    FastDeconv(3, 32, 3, stride=2), MishCuda(),\n",
    "    FastDeconv(32, 32, 3, stride=2), MishCuda(),\n",
    "    FastDeconv(32, 64, 3), MishCuda(),\n",
    "    nn.AdaptiveAvgPool2d(1),\n",
    "    Flatten(),\n",
    "    nn.Linear(64, dls.c)\n",
    ").cuda()"
   ]
  },
  {
   "cell_type": "code",
   "execution_count": 52,
   "metadata": {},
   "outputs": [],
   "source": [
    "learn = Learner(\n",
    "    dls, model, \n",
    "    opt_func=ranger, \n",
    "    loss_func=L1LossFlat(),\n",
    ")\n",
    "\n",
    "# learn.lr_find()"
   ]
  },
  {
   "cell_type": "code",
   "execution_count": null,
   "metadata": {},
   "outputs": [
    {
     "data": {
      "text/html": [
       "\n",
       "    <div>\n",
       "        <style>\n",
       "            /* Turns off some styling */\n",
       "            progress {\n",
       "                /* gets rid of default border in Firefox and Opera. */\n",
       "                border: none;\n",
       "                /* Needs to be in here for Safari polyfill so background images work as expected. */\n",
       "                background-size: auto;\n",
       "            }\n",
       "            .progress-bar-interrupted, .progress-bar-interrupted::-webkit-progress-bar {\n",
       "                background: #F44336;\n",
       "            }\n",
       "        </style>\n",
       "      <progress value='2' class='' max='10', style='width:300px; height:20px; vertical-align: middle;'></progress>\n",
       "      20.00% [2/10 02:33<10:13]\n",
       "    </div>\n",
       "    \n",
       "<table border=\"1\" class=\"dataframe\">\n",
       "  <thead>\n",
       "    <tr style=\"text-align: left;\">\n",
       "      <th>epoch</th>\n",
       "      <th>train_loss</th>\n",
       "      <th>valid_loss</th>\n",
       "      <th>time</th>\n",
       "    </tr>\n",
       "  </thead>\n",
       "  <tbody>\n",
       "    <tr>\n",
       "      <td>0</td>\n",
       "      <td>0.116335</td>\n",
       "      <td>0.117386</td>\n",
       "      <td>01:16</td>\n",
       "    </tr>\n",
       "    <tr>\n",
       "      <td>1</td>\n",
       "      <td>0.090350</td>\n",
       "      <td>0.092230</td>\n",
       "      <td>01:16</td>\n",
       "    </tr>\n",
       "  </tbody>\n",
       "</table><p>\n",
       "\n",
       "    <div>\n",
       "        <style>\n",
       "            /* Turns off some styling */\n",
       "            progress {\n",
       "                /* gets rid of default border in Firefox and Opera. */\n",
       "                border: none;\n",
       "                /* Needs to be in here for Safari polyfill so background images work as expected. */\n",
       "                background-size: auto;\n",
       "            }\n",
       "            .progress-bar-interrupted, .progress-bar-interrupted::-webkit-progress-bar {\n",
       "                background: #F44336;\n",
       "            }\n",
       "        </style>\n",
       "      <progress value='279' class='' max='700', style='width:300px; height:20px; vertical-align: middle;'></progress>\n",
       "      39.86% [279/700 00:25<00:38 0.0880]\n",
       "    </div>\n",
       "    "
      ],
      "text/plain": [
       "<IPython.core.display.HTML object>"
      ]
     },
     "metadata": {},
     "output_type": "display_data"
    }
   ],
   "source": [
    "learn.fit_one_cycle(10, 0.003)"
   ]
  },
  {
   "cell_type": "code",
   "execution_count": null,
   "metadata": {},
   "outputs": [],
   "source": [
    "# learn.save('hybridcnn-simple_L1')"
   ]
  },
  {
   "cell_type": "markdown",
   "metadata": {},
   "source": [
    "## Check metrics"
   ]
  },
  {
   "cell_type": "code",
   "execution_count": null,
   "metadata": {},
   "outputs": [],
   "source": [
    "preds, _ = learn.get_preds()\n",
    "\n",
    "res = dls.valid.items.copy()\n",
    "res['pred_z'] = preds.flatten()"
   ]
  },
  {
   "cell_type": "code",
   "execution_count": null,
   "metadata": {},
   "outputs": [],
   "source": [
    "metrics_dict = {}\n",
    "\n",
    "target_density_values = [1, 2, 3, 5, 10, 15, 20, 30, 50, 100]\n",
    "area = 0.2 * len(res.HOSTID.unique()) * np.pi * 1**2 # 0.2 is validation percent\n",
    "\n",
    "for num_density in np.arange(1, 200, 1):\n",
    "    N = np.round(num_density * area).astype(int)\n",
    "    mag_range = (19 < res.r_mag) & (res.r_mag < 21)\n",
    "    subset = res[mag_range].sort_values('pred_z', ascending=True).reset_index()\n",
    "    metrics = get_top_N_metrics(subset, N)\n",
    "    metrics_dict[num_density] = metrics\n",
    "    \n",
    "all_metrics_df = pd.DataFrame.from_dict(metrics_dict, orient='index').rename_axis('N_per_sq_deg')\n",
    "metrics_df = all_metrics_df.loc[target_density_values]\n",
    "\n",
    "# plot\n",
    "plt.figure(figsize=(6,4), dpi=100)\n",
    "plt.plot(all_metrics_df.index, all_metrics_df.completeness_02, c='#ff6361', lw=3, label='$z<0.02$ completeness')\n",
    "plt.plot(all_metrics_df.index, all_metrics_df.purity_03, c='#ffa600', lw=3, label='$z<0.03$ purity')\n",
    "plt.plot(all_metrics_df.index, all_metrics_df.geometric_mean, c='#003f5c', lw=3, ls='-', label='Geometric mean')\n",
    "\n",
    "plt.ylim(0, 1)\n",
    "plt.xscale('log')\n",
    "plt.xticks(target_density_values, labels=target_density_values)\n",
    "\n",
    "plt.xlabel('Surface density [deg$^{-2}$]')\n",
    "plt.grid(alpha=0.1)\n",
    "plt.legend(framealpha=0)\n",
    "\n",
    "plt.title('Predicting $z$ (L1 Loss)')"
   ]
  },
  {
   "cell_type": "code",
   "execution_count": null,
   "metadata": {},
   "outputs": [],
   "source": [
    "zdist_dict = {}\n",
    "\n",
    "for num_density in np.arange(1, 200, 1):\n",
    "    N = np.round(num_density * area).astype(int)\n",
    "    \n",
    "    subset = res[mag_range].sort_values('pred_z', ascending=True)[:N]\n",
    "    complement = res[mag_range].sort_values('pred_z', ascending=True)[N:]\n",
    "    \n",
    "    zdist = {}\n",
    "    \n",
    "    zdist['p50_z_above'] = np.median(subset.SPEC_Z)\n",
    "    zdist['p90_z_above'] = np.quantile(subset.SPEC_Z, 0.90)\n",
    "    zdist['p95_z_above'] = np.quantile(subset.SPEC_Z, 0.95)\n",
    "    zdist['p99_z_above'] = np.quantile(subset.SPEC_Z, 0.99)\n",
    "    \n",
    "    zdist['p10_z_below'] = np.quantile(complement.SPEC_Z, 0.10)\n",
    "    zdist['p05_z_below'] = np.quantile(complement.SPEC_Z, 0.05)\n",
    "    zdist['p01_z_below'] = np.quantile(complement.SPEC_Z, 0.01)\n",
    "\n",
    "    \n",
    "    zdist_dict[num_density] = zdist\n",
    "    \n",
    "all_zdist_df = pd.DataFrame.from_dict(zdist_dict, orient='index').rename_axis('N_per_sq_deg')\n",
    "zdist_df = all_zdist_df.loc[target_density_values]\n",
    "\n",
    "# Plot\n",
    "plt.figure(figsize=(6,4), dpi=100)\n",
    "\n",
    "plt.plot(zdist_df.index, zdist_df.p50_z_above, c='C0', lw=3, label='Median $z$ of targets above')\n",
    "plt.plot(zdist_df.index, zdist_df.p95_z_above, c='C1', lw=3, label='95% $z$ of targets above')\n",
    "plt.plot(zdist_df.index, zdist_df.p05_z_below, c='magenta',  lw=3, label='5% $z$ of targets below')\n",
    "plt.grid(alpha=0.2)\n",
    "plt.ylim(0, 0.65)\n",
    "\n",
    "plt.xlabel('Surface density [deg$^{-2}$]')\n",
    "plt.grid(alpha=0.1)\n",
    "plt.legend(framealpha=0)\n",
    "\n",
    "plt.title('Predicting $z$ (L1 Loss)')"
   ]
  },
  {
   "cell_type": "markdown",
   "metadata": {},
   "source": [
    "## MSE"
   ]
  },
  {
   "cell_type": "code",
   "execution_count": null,
   "metadata": {},
   "outputs": [],
   "source": [
    "model = nn.Sequential(\n",
    "    FastDeconv(3, 32, 3, stride=2), MishCuda(),\n",
    "    FastDeconv(32, 32, 3, stride=2), MishCuda(),\n",
    "    FastDeconv(32, 64, 3), MishCuda(),\n",
    "    nn.AdaptiveAvgPool2d(1),\n",
    "    Flatten(),\n",
    "    nn.Linear(64, dls.c)\n",
    ").cuda()\n",
    "\n",
    "learn = Learner(\n",
    "    dls, model, \n",
    "    opt_func=ranger, \n",
    "    loss_func=MSELossFlat(),\n",
    ")\n",
    "\n",
    "learn.fit_one_cycle(10, 1e-2)"
   ]
  },
  {
   "cell_type": "code",
   "execution_count": null,
   "metadata": {},
   "outputs": [],
   "source": [
    "# learn.save('hybridcnn-simple_L2')"
   ]
  },
  {
   "cell_type": "code",
   "execution_count": null,
   "metadata": {},
   "outputs": [],
   "source": [
    "preds, _ = learn.get_preds()\n",
    "\n",
    "res = dls.valid.items.copy()\n",
    "res['pred_z'] = preds.flatten()"
   ]
  },
  {
   "cell_type": "code",
   "execution_count": null,
   "metadata": {},
   "outputs": [],
   "source": [
    "metrics_dict = {}\n",
    "\n",
    "target_density_values = [1, 2, 3, 5, 10, 15, 20, 30, 50, 100]\n",
    "area = 0.2 * len(res.HOSTID.unique()) * np.pi * 1**2 # 0.2 is validation percent\n",
    "\n",
    "for num_density in np.arange(1, 200, 1):\n",
    "    N = np.round(num_density * area).astype(int)\n",
    "    mag_range = (19 < res.r_mag) & (res.r_mag < 21)\n",
    "    subset = res[mag_range].sort_values('pred_z', ascending=True).reset_index()\n",
    "    metrics = get_top_N_metrics(subset, N)\n",
    "    metrics_dict[num_density] = metrics\n",
    "    \n",
    "all_metrics_df = pd.DataFrame.from_dict(metrics_dict, orient='index').rename_axis('N_per_sq_deg')\n",
    "metrics_df = all_metrics_df.loc[target_density_values]\n",
    "\n",
    "# plot\n",
    "plt.figure(figsize=(6,4), dpi=100)\n",
    "plt.plot(all_metrics_df.index, all_metrics_df.completeness_02, c='#ff6361', lw=3, label='$z<0.02$ completeness')\n",
    "plt.plot(all_metrics_df.index, all_metrics_df.purity_03, c='#ffa600', lw=3, label='$z<0.03$ purity')\n",
    "plt.plot(all_metrics_df.index, all_metrics_df.geometric_mean, c='#003f5c', lw=3, ls='-', label='Geometric mean')\n",
    "\n",
    "plt.ylim(0, 1)\n",
    "plt.xscale('log')\n",
    "plt.xticks(target_density_values, labels=target_density_values)\n",
    "\n",
    "plt.xlabel('Surface density [deg$^{-2}$]')\n",
    "plt.grid(alpha=0.1)\n",
    "plt.legend(framealpha=0)\n",
    "\n",
    "plt.title('Predicting $z$ (L2 Loss)')"
   ]
  },
  {
   "cell_type": "code",
   "execution_count": null,
   "metadata": {},
   "outputs": [],
   "source": [
    "zdist_dict = {}\n",
    "\n",
    "for num_density in np.arange(1, 200, 1):\n",
    "    N = np.round(num_density * area).astype(int)\n",
    "    \n",
    "    subset = res[mag_range].sort_values('pred_z', ascending=True)[:N]\n",
    "    complement = res[mag_range].sort_values('pred_z', ascending=True)[N:]\n",
    "    \n",
    "    zdist = {}\n",
    "    \n",
    "    zdist['p50_z_above'] = np.median(subset.SPEC_Z)\n",
    "    zdist['p90_z_above'] = np.quantile(subset.SPEC_Z, 0.90)\n",
    "    zdist['p95_z_above'] = np.quantile(subset.SPEC_Z, 0.95)\n",
    "    zdist['p99_z_above'] = np.quantile(subset.SPEC_Z, 0.99)\n",
    "    \n",
    "    zdist['p10_z_below'] = np.quantile(complement.SPEC_Z, 0.10)\n",
    "    zdist['p05_z_below'] = np.quantile(complement.SPEC_Z, 0.05)\n",
    "    zdist['p01_z_below'] = np.quantile(complement.SPEC_Z, 0.01)\n",
    "\n",
    "    \n",
    "    zdist_dict[num_density] = zdist\n",
    "    \n",
    "all_zdist_df = pd.DataFrame.from_dict(zdist_dict, orient='index').rename_axis('N_per_sq_deg')\n",
    "zdist_df = all_zdist_df.loc[target_density_values]\n",
    "\n",
    "# Plot\n",
    "plt.figure(figsize=(6,4), dpi=100)\n",
    "\n",
    "plt.plot(zdist_df.index, zdist_df.p50_z_above, c='C0', lw=3, label='Median $z$ of targets above')\n",
    "plt.plot(zdist_df.index, zdist_df.p95_z_above, c='C1', lw=3, label='95% $z$ of targets above')\n",
    "plt.plot(zdist_df.index, zdist_df.p05_z_below, c='magenta',  lw=3, label='5% $z$ of targets below')\n",
    "plt.grid(alpha=0.2)\n",
    "plt.ylim(0, 0.65)\n",
    "\n",
    "\n",
    "plt.xlabel('Surface density [deg$^{-2}$]')\n",
    "plt.grid(alpha=0.1)\n",
    "plt.legend(framealpha=0)\n",
    "\n",
    "plt.title('Predicting $z$ (L2 Loss)')"
   ]
  },
  {
   "cell_type": "markdown",
   "metadata": {},
   "source": [
    "# Optimize classification with focal loss"
   ]
  },
  {
   "cell_type": "code",
   "execution_count": 30,
   "metadata": {},
   "outputs": [],
   "source": [
    "# https://github.com/fastai/fastai/blob/master/fastai/losses.py#L48\n",
    "class FocalLossFlat(CrossEntropyLossFlat):\n",
    "    \"\"\"\n",
    "    Same as CrossEntropyLossFlat but with focal paramter, `gamma`. Focal loss is introduced by Lin et al.\n",
    "    https://arxiv.org/pdf/1708.02002.pdf. Note the class weighting factor in the paper, alpha, can be\n",
    "    implemented through pytorch `weight` argument in nn.CrossEntropyLoss.\n",
    "    \"\"\"\n",
    "    y_int = True\n",
    "    @use_kwargs_dict(keep=True, weight=None, ignore_index=-100, reduction='mean')\n",
    "    def __init__(self, *args, gamma=2, axis=-1, **kwargs):\n",
    "        self.gamma = gamma\n",
    "        self.reduce = kwargs.pop('reduction') if 'reduction' in kwargs else 'mean'\n",
    "        super().__init__(*args, reduction='none', axis=axis, **kwargs)\n",
    "    def __call__(self, inp, targ, **kwargs):\n",
    "        ce_loss = super().__call__(inp, targ, **kwargs)\n",
    "        pt = torch.exp(-ce_loss)\n",
    "        fl_loss = (1-pt)**self.gamma * ce_loss\n",
    "        return fl_loss.mean() if self.reduce == 'mean' else fl_loss.sum() if self.reduce == 'sum' else fl_loss"
   ]
  },
  {
   "cell_type": "code",
   "execution_count": 36,
   "metadata": {},
   "outputs": [],
   "source": [
    "# classification\n",
    "dblock = DataBlock(\n",
    "    blocks=(ImageBlock, CategoryBlock),\n",
    "    get_x=ColReader(['OBJID'], pref=f'{PATH}/{img_dir}/', suff='.jpg'),\n",
    "    get_y=ColReader('low_z'),\n",
    "    splitter=RandomSplitter(valid_pct=0.2, seed=seed),\n",
    "    item_tfms=item_tfms,\n",
    "    batch_tfms=batch_tfms,\n",
    ")\n",
    "\n",
    "dls = ImageDataLoaders.from_dblock(dblock, df, path=PATH, bs=bs)"
   ]
  },
  {
   "cell_type": "code",
   "execution_count": 37,
   "metadata": {},
   "outputs": [],
   "source": [
    "model = nn.Sequential(\n",
    "    FastDeconv(3, 32, 3, stride=2), MishCuda(),\n",
    "    FastDeconv(32, 32, 3, stride=2), MishCuda(),\n",
    "    FastDeconv(32, 64, 3), MishCuda(),\n",
    "    nn.AdaptiveAvgPool2d(1),\n",
    "    Flatten(),\n",
    "    nn.Linear(64, dls.c)\n",
    ").cuda()\n",
    "\n",
    "learn = Learner(\n",
    "    dls, model, \n",
    "    opt_func=ranger, \n",
    "    loss_func=FocalLossFlat(),\n",
    ")"
   ]
  },
  {
   "cell_type": "code",
   "execution_count": 38,
   "metadata": {},
   "outputs": [
    {
     "data": {
      "text/html": [],
      "text/plain": [
       "<IPython.core.display.HTML object>"
      ]
     },
     "metadata": {},
     "output_type": "display_data"
    },
    {
     "data": {
      "text/plain": [
       "SuggestedLRs(lr_min=0.00831763744354248, lr_steep=0.9120108485221863)"
      ]
     },
     "execution_count": 38,
     "metadata": {},
     "output_type": "execute_result"
    },
    {
     "data": {
      "image/png": "[encoded data removed]",
      "text/plain": [
       "<Figure size 432x288 with 1 Axes>"
      ]
     },
     "metadata": {
      "needs_background": "light"
     },
     "output_type": "display_data"
    }
   ],
   "source": [
    "learn.lr_find()"
   ]
  },
  {
   "cell_type": "code",
   "execution_count": 39,
   "metadata": {},
   "outputs": [
    {
     "data": {
      "text/html": [
       "<table border=\"1\" class=\"dataframe\">\n",
       "  <thead>\n",
       "    <tr style=\"text-align: left;\">\n",
       "      <th>epoch</th>\n",
       "      <th>train_loss</th>\n",
       "      <th>valid_loss</th>\n",
       "      <th>time</th>\n",
       "    </tr>\n",
       "  </thead>\n",
       "  <tbody>\n",
       "    <tr>\n",
       "      <td>0</td>\n",
       "      <td>0.021430</td>\n",
       "      <td>0.023157</td>\n",
       "      <td>01:16</td>\n",
       "    </tr>\n",
       "    <tr>\n",
       "      <td>1</td>\n",
       "      <td>0.018919</td>\n",
       "      <td>0.019020</td>\n",
       "      <td>01:17</td>\n",
       "    </tr>\n",
       "    <tr>\n",
       "      <td>2</td>\n",
       "      <td>0.016201</td>\n",
       "      <td>0.015834</td>\n",
       "      <td>01:17</td>\n",
       "    </tr>\n",
       "    <tr>\n",
       "      <td>3</td>\n",
       "      <td>0.016490</td>\n",
       "      <td>0.013796</td>\n",
       "      <td>01:16</td>\n",
       "    </tr>\n",
       "    <tr>\n",
       "      <td>4</td>\n",
       "      <td>0.014749</td>\n",
       "      <td>0.013076</td>\n",
       "      <td>01:17</td>\n",
       "    </tr>\n",
       "    <tr>\n",
       "      <td>5</td>\n",
       "      <td>0.012628</td>\n",
       "      <td>0.013050</td>\n",
       "      <td>01:17</td>\n",
       "    </tr>\n",
       "    <tr>\n",
       "      <td>6</td>\n",
       "      <td>0.013335</td>\n",
       "      <td>0.012203</td>\n",
       "      <td>01:17</td>\n",
       "    </tr>\n",
       "    <tr>\n",
       "      <td>7</td>\n",
       "      <td>0.011875</td>\n",
       "      <td>0.011921</td>\n",
       "      <td>01:17</td>\n",
       "    </tr>\n",
       "    <tr>\n",
       "      <td>8</td>\n",
       "      <td>0.011216</td>\n",
       "      <td>0.011637</td>\n",
       "      <td>01:17</td>\n",
       "    </tr>\n",
       "    <tr>\n",
       "      <td>9</td>\n",
       "      <td>0.012220</td>\n",
       "      <td>0.011701</td>\n",
       "      <td>01:17</td>\n",
       "    </tr>\n",
       "  </tbody>\n",
       "</table>"
      ],
      "text/plain": [
       "<IPython.core.display.HTML object>"
      ]
     },
     "metadata": {},
     "output_type": "display_data"
    }
   ],
   "source": [
    "learn.fit_one_cycle(10, 1e-2)"
   ]
  },
  {
   "cell_type": "code",
   "execution_count": 46,
   "metadata": {},
   "outputs": [],
   "source": [
    "# learn.save('hybridcnn-simple_focal')"
   ]
  },
  {
   "cell_type": "code",
   "execution_count": 40,
   "metadata": {},
   "outputs": [
    {
     "data": {
      "text/html": [],
      "text/plain": [
       "<IPython.core.display.HTML object>"
      ]
     },
     "metadata": {},
     "output_type": "display_data"
    }
   ],
   "source": [
    "preds, _ = learn.get_preds()\n",
    "\n",
    "res = dls.valid.items.copy()\n",
    "res['pred_low_z'] = preds.softmax(1)[:,1].numpy()"
   ]
  },
  {
   "cell_type": "code",
   "execution_count": 43,
   "metadata": {},
   "outputs": [
    {
     "data": {
      "text/plain": [
       "Text(0.5, 1.0, 'Classifying $z < 0.03$ (Focal Loss)')"
      ]
     },
     "execution_count": 43,
     "metadata": {},
     "output_type": "execute_result"
    },
    {
     "data": {
      "image/png": "[encoded data removed]",
      "text/plain": [
       "<Figure size 600x400 with 1 Axes>"
      ]
     },
     "metadata": {
      "needs_background": "light"
     },
     "output_type": "display_data"
    }
   ],
   "source": [
    "metrics_dict = {}\n",
    "\n",
    "target_density_values = [1, 2, 3, 5, 10, 15, 20, 30, 50, 100]\n",
    "area = 0.2 * len(res.HOSTID.unique()) * np.pi * 1**2 # 0.2 is validation percent\n",
    "\n",
    "for num_density in np.arange(1, 200, 1):\n",
    "    N = np.round(num_density * area).astype(int)\n",
    "    mag_range = (19 < res.r_mag) & (res.r_mag < 21)\n",
    "    subset = res[mag_range].sort_values('pred_low_z', ascending=False).reset_index()\n",
    "    metrics = get_top_N_metrics(subset, N)\n",
    "    metrics_dict[num_density] = metrics\n",
    "    \n",
    "all_metrics_df = pd.DataFrame.from_dict(metrics_dict, orient='index').rename_axis('N_per_sq_deg')\n",
    "metrics_df = all_metrics_df.loc[target_density_values]\n",
    "\n",
    "# plot\n",
    "plt.figure(figsize=(6,4), dpi=100)\n",
    "plt.plot(all_metrics_df.index, all_metrics_df.completeness_02, c='#ff6361', lw=3, label='$z<0.02$ completeness')\n",
    "plt.plot(all_metrics_df.index, all_metrics_df.purity_03, c='#ffa600', lw=3, label='$z<0.03$ purity')\n",
    "plt.plot(all_metrics_df.index, all_metrics_df.geometric_mean, c='#003f5c', lw=3, ls='-', label='Geometric mean')\n",
    "\n",
    "plt.ylim(0, 1)\n",
    "plt.xscale('log')\n",
    "plt.xticks(target_density_values, labels=target_density_values)\n",
    "\n",
    "plt.xlabel('Surface density [deg$^{-2}$]')\n",
    "plt.grid(alpha=0.1)\n",
    "plt.legend(framealpha=0)\n",
    "\n",
    "plt.title('Classifying $z < 0.03$ (Focal Loss)')"
   ]
  },
  {
   "cell_type": "code",
   "execution_count": 45,
   "metadata": {},
   "outputs": [
    {
     "data": {
      "text/plain": [
       "Text(0.5, 1.0, 'Classifying $z < 0.03$ (Focal Loss)')"
      ]
     },
     "execution_count": 45,
     "metadata": {},
     "output_type": "execute_result"
    },
    {
     "data": {
      "image/png": "[encoded data removed]",
      "text/plain": [
       "<Figure size 600x400 with 1 Axes>"
      ]
     },
     "metadata": {
      "needs_background": "light"
     },
     "output_type": "display_data"
    }
   ],
   "source": [
    "zdist_dict = {}\n",
    "\n",
    "for num_density in np.arange(1, 200, 1):\n",
    "    N = np.round(num_density * area).astype(int)\n",
    "    \n",
    "    subset = res[mag_range].sort_values('pred_low_z', ascending=False)[:N]\n",
    "    complement = res[mag_range].sort_values('pred_low_z', ascending=False)[N:]\n",
    "    \n",
    "    zdist = {}\n",
    "    \n",
    "    zdist['p50_z_above'] = np.median(subset.SPEC_Z)\n",
    "    zdist['p90_z_above'] = np.quantile(subset.SPEC_Z, 0.90)\n",
    "    zdist['p95_z_above'] = np.quantile(subset.SPEC_Z, 0.95)\n",
    "    zdist['p99_z_above'] = np.quantile(subset.SPEC_Z, 0.99)\n",
    "    \n",
    "    zdist['p10_z_below'] = np.quantile(complement.SPEC_Z, 0.10)\n",
    "    zdist['p05_z_below'] = np.quantile(complement.SPEC_Z, 0.05)\n",
    "    zdist['p01_z_below'] = np.quantile(complement.SPEC_Z, 0.01)\n",
    "\n",
    "    \n",
    "    zdist_dict[num_density] = zdist\n",
    "    \n",
    "all_zdist_df = pd.DataFrame.from_dict(zdist_dict, orient='index').rename_axis('N_per_sq_deg')\n",
    "zdist_df = all_zdist_df.loc[target_density_values]\n",
    "\n",
    "# Plot\n",
    "plt.figure(figsize=(6,4), dpi=100)\n",
    "\n",
    "plt.plot(zdist_df.index, zdist_df.p50_z_above, c='C0', lw=3, label='Median $z$ of targets above')\n",
    "plt.plot(zdist_df.index, zdist_df.p95_z_above, c='C1', lw=3, label='95% $z$ of targets above')\n",
    "plt.plot(zdist_df.index, zdist_df.p05_z_below, c='magenta',  lw=3, label='5% $z$ of targets below')\n",
    "plt.grid(alpha=0.2)\n",
    "plt.ylim(0, 0.65)\n",
    "\n",
    "\n",
    "plt.xlabel('Surface density [deg$^{-2}$]')\n",
    "plt.grid(alpha=0.1)\n",
    "plt.legend(framealpha=0)\n",
    "\n",
    "plt.title('Classifying $z < 0.03$ (Focal Loss)')"
   ]
  },
  {
   "cell_type": "markdown",
   "metadata": {},
   "source": [
    "# Optimize classification prediction *and* penalize higher redshift"
   ]
  },
  {
   "cell_type": "markdown",
   "metadata": {},
   "source": [
    "## Includes Cross Entropy"
   ]
  },
  {
   "cell_type": "code",
   "execution_count": 16,
   "metadata": {},
   "outputs": [],
   "source": [
    "# regress on redshift\n",
    "dblock = DataBlock(\n",
    "    blocks=(ImageBlock, RegressionBlock),\n",
    "    get_x=ColReader(['OBJID'], pref=f'{PATH}/{img_dir}/', suff='.jpg'),\n",
    "    get_y=ColReader('SPEC_Z'),\n",
    "    splitter=RandomSplitter(valid_pct=0.2, seed=seed),\n",
    "    item_tfms=item_tfms,\n",
    "    batch_tfms=batch_tfms,\n",
    ")"
   ]
  },
  {
   "cell_type": "code",
   "execution_count": 17,
   "metadata": {},
   "outputs": [],
   "source": [
    "dls = ImageDataLoaders.from_dblock(dblock, df, path=PATH, bs=bs)"
   ]
  },
  {
   "cell_type": "code",
   "execution_count": 19,
   "metadata": {},
   "outputs": [],
   "source": [
    "model = nn.Sequential(\n",
    "    FastDeconv(3, 32, 3, stride=2), MishCuda(),\n",
    "    FastDeconv(32, 32, 3, stride=2), MishCuda(),\n",
    "    FastDeconv(32, 64, 3), MishCuda(),\n",
    "    nn.AdaptiveAvgPool2d(1),\n",
    "    Flatten(),\n",
    "    nn.Linear(64, dls.c)\n",
    ").cuda()"
   ]
  },
  {
   "cell_type": "markdown",
   "metadata": {},
   "source": [
    "## Includes Focal Loss"
   ]
  },
  {
   "cell_type": "code",
   "execution_count": null,
   "metadata": {},
   "outputs": [],
   "source": []
  }
 ],
 "metadata": {
  "kernelspec": {
   "display_name": "fastai2",
   "language": "python",
   "name": "fastai2"
  },
  "language_info": {
   "codemirror_mode": {
    "name": "ipython",
    "version": 3
   },
   "file_extension": ".py",
   "mimetype": "text/x-python",
   "name": "python",
   "nbconvert_exporter": "python",
   "pygments_lexer": "ipython3",
   "version": "3.7.7"
  },
  "toc": {
   "base_numbering": 1,
   "nav_menu": {},
   "number_sections": true,
   "sideBar": true,
   "skip_h1_title": false,
   "title_cell": "Table of Contents",
   "title_sidebar": "Contents",
   "toc_cell": false,
   "toc_position": {},
   "toc_section_display": true,
   "toc_window_display": false
  }
 },
 "nbformat": 4,
 "nbformat_minor": 4
}
