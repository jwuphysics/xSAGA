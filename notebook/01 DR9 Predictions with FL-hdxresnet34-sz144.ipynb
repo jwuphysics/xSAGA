{
 "cells": [
  {
   "cell_type": "code",
   "execution_count": 1,
   "metadata": {},
   "outputs": [],
   "source": [
    "# !find ../images-legacy-dr9 -type f -print0 | xargs -0 ls -l | awk '{size[int(log($5)/log(2))]++}END{for (i in size) printf(\"%10d %3d\\n\", 2^i, size[i])}' | sort -n"
   ]
  },
  {
   "cell_type": "markdown",
   "metadata": {},
   "source": [
    "         0 1810110\n",
    "       512   6\n",
    "      1024 22624\n",
    "      2048 778\n",
    "      4096 2983\n",
    "      8192 66819\n",
    "     16384 4363249\n",
    "     32768  45\n"
   ]
  },
  {
   "cell_type": "markdown",
   "metadata": {},
   "source": [
    "# Test with hdxresnet34"
   ]
  },
  {
   "cell_type": "code",
   "execution_count": 2,
   "metadata": {},
   "outputs": [],
   "source": [
    "from fastai2.basics import *\n",
    "from fastai2.vision.all import *\n",
    "from pathlib import Path\n",
    "\n",
    "from mish_cuda import MishCuda\n",
    "import cmasher as cmr\n",
    "import gc\n",
    "import scipy.cluster.hierarchy as hcluster\n",
    "\n",
    "from sklearn.model_selection import KFold\n",
    "from sklearn.cluster import KMeans\n",
    "from sklearn.metrics import confusion_matrix, roc_curve\n",
    "\n",
    "from PIL import ImageFile\n",
    "ImageFile.LOAD_TRUNCATED_IMAGES = True\n",
    "\n",
    "import tqdm.notebook as tqdm\n",
    "\n",
    "seed = 256\n",
    "\n",
    "%matplotlib inline"
   ]
  },
  {
   "cell_type": "code",
   "execution_count": 4,
   "metadata": {},
   "outputs": [],
   "source": [
    "import sys\n",
    "PATH = Path('..').resolve()\n",
    "\n",
    "sys.path.append(f'{PATH}/src')\n",
    "from utils import *\n",
    "\n",
    "learner_metrics = [accuracy, F1Score(), Recall(), Precision()]\n",
    "\n",
    "sys.path.append('/home/jupyter/morphological-spectra/src')\n",
    "from xresnet_deconv import *"
   ]
  },
  {
   "cell_type": "code",
   "execution_count": 5,
   "metadata": {},
   "outputs": [],
   "source": [
    "\n",
    "# https://github.com/fastai/fastai/blob/master/fastai/losses.py#L48\n",
    "class FocalLossFlat(CrossEntropyLossFlat):\n",
    "    \"\"\"\n",
    "    Same as CrossEntropyLossFlat but with focal paramter, `gamma`. Focal loss is introduced by Lin et al.\n",
    "    https://arxiv.org/pdf/1708.02002.pdf. Note the class weighting factor in the paper, alpha, can be\n",
    "    implemented through pytorch `weight` argument in nn.CrossEntropyLoss.\n",
    "    \"\"\"\n",
    "    y_int = True\n",
    "    @use_kwargs_dict(keep=True, weight=None, ignore_index=-100, reduction='mean')\n",
    "    def __init__(self, *args, gamma=2, axis=-1, **kwargs):\n",
    "        self.gamma = gamma\n",
    "        self.reduce = kwargs.pop('reduction') if 'reduction' in kwargs else 'mean'\n",
    "        super().__init__(*args, reduction='none', axis=axis, **kwargs)\n",
    "    def __call__(self, inp, targ, **kwargs):\n",
    "        ce_loss = super().__call__(inp, targ, **kwargs)\n",
    "        pt = torch.exp(-ce_loss)\n",
    "        fl_loss = (1-pt)**self.gamma * ce_loss\n",
    "        return fl_loss.mean() if self.reduce == 'mean' else fl_loss.sum() if self.reduce == 'sum' else fl_loss\n"
   ]
  },
  {
   "cell_type": "code",
   "execution_count": 6,
   "metadata": {},
   "outputs": [],
   "source": [
    "saga = pd.read_csv(f'{PATH}/data/saga_redshifts_2021-02-19.csv', dtype={'OBJID': str})\n",
    "\n",
    "df = saga.sample(frac=1, random_state=seed).copy()\n",
    "df['low_z'] = df.SPEC_Z < 0.03\n",
    "\n",
    "# in order to use with previous utils\n",
    "df['SPEC_FLAG'] = 1"
   ]
  },
  {
   "cell_type": "code",
   "execution_count": 7,
   "metadata": {},
   "outputs": [],
   "source": [
    "label_column = 'low_z'\n",
    "\n",
    "# focal loss weight params\n",
    "gamma = 2\n",
    "loss_func = FocalLossFlat(gamma=gamma)"
   ]
  },
  {
   "cell_type": "code",
   "execution_count": 8,
   "metadata": {},
   "outputs": [],
   "source": [
    "sz = 144\n",
    "bs = 128\n",
    "\n",
    "img_dir = 'images-legacy_saga-2021-02-19'\n",
    "\n",
    "legacy_image_stats = [np.array([0.14814416, 0.14217226, 0.13984123]), np.array([0.0881476 , 0.07823102, 0.07676626])]\n",
    "\n",
    "item_tfms = [Resize(sz)]\n",
    "batch_tfms = (\n",
    "    aug_transforms(max_zoom=1., flip_vert=True, max_lighting=0., max_warp=0.) + \n",
    "    [Normalize.from_stats(*legacy_image_stats)]\n",
    ")\n",
    "\n",
    "seed = 256  "
   ]
  },
  {
   "cell_type": "code",
   "execution_count": 9,
   "metadata": {},
   "outputs": [],
   "source": [
    "\n",
    "dblock = DataBlock(\n",
    "    blocks=(ImageBlock, CategoryBlock),\n",
    "    get_x=ColReader(['OBJID'], pref=f'{PATH}/images-legacy_saga-2021-02-19/', suff='.jpg'),\n",
    "    get_y=ColReader('low_z'),\n",
    "    splitter=RandomSplitter(0),\n",
    "    item_tfms=item_tfms,\n",
    "    batch_tfms=batch_tfms,\n",
    ")\n",
    "\n",
    "dls = ImageDataLoaders.from_dblock(dblock, df, path=PATH, bs=bs)\n",
    "\n",
    "model = xresnet34_hybrid(n_out=2, sa=True, act_cls=MishCuda, groups=64, reduction=8)\n",
    "learn = Learner(\n",
    "    dls, model, \n",
    "    opt_func=ranger, \n",
    "    loss_func=loss_func,\n",
    ")\n",
    "learn.load(f'{PATH}/models/desi-sv_FL-hdxresnet34-sz{sz}');\n"
   ]
  },
  {
   "cell_type": "code",
   "execution_count": 10,
   "metadata": {},
   "outputs": [],
   "source": [
    "filenames = list(x for x in (PATH/'images-legacy-dr9').rglob('*.jpg') if (x.stat().st_size >= 4096))"
   ]
  },
  {
   "cell_type": "code",
   "execution_count": 27,
   "metadata": {},
   "outputs": [],
   "source": [
    "test_dl = dls.test_dl(filenames, num_workers=8, bs=32)"
   ]
  },
  {
   "cell_type": "markdown",
   "metadata": {},
   "source": [
    "This takes > 4hrs!!!"
   ]
  },
  {
   "cell_type": "code",
   "execution_count": 30,
   "metadata": {},
   "outputs": [
    {
     "data": {
      "application/vnd.jupyter.widget-view+json": {
       "model_id": "93ab78d710674cf6bcdf7a3456b8184c",
       "version_major": 2,
       "version_minor": 0
      },
      "text/plain": [
       "HBox(children=(FloatProgress(value=0.0, max=138535.0), HTML(value='')))"
      ]
     },
     "metadata": {},
     "output_type": "display_data"
    },
    {
     "name": "stdout",
     "output_type": "stream",
     "text": [
      "\n"
     ]
    }
   ],
   "source": [
    "m = learn.model.eval()\n",
    "\n",
    "outputs = []\n",
    "with torch.no_grad():\n",
    "    for (xb,) in tqdm.tqdm(iter(test_dl), total=len(test_dl)):\n",
    "        outputs.append(m(xb).cpu())\n",
    "        \n",
    "outs = torch.cat(outputs)"
   ]
  },
  {
   "cell_type": "markdown",
   "metadata": {},
   "source": [
    "## Save"
   ]
  },
  {
   "cell_type": "code",
   "execution_count": 38,
   "metadata": {},
   "outputs": [
    {
     "data": {
      "text/plain": [
       "[Path('/home/jupyter/xSAGA/images-legacy-dr9/1237658629697765559.jpg'),\n",
       " Path('/home/jupyter/xSAGA/images-legacy-dr9/1237662336799277285.jpg'),\n",
       " Path('/home/jupyter/xSAGA/images-legacy-dr9/1237654870528753879.jpg'),\n",
       " Path('/home/jupyter/xSAGA/images-legacy-dr9/1237655124480230147.jpg'),\n",
       " Path('/home/jupyter/xSAGA/images-legacy-dr9/1237664094510711200.jpg')]"
      ]
     },
     "execution_count": 38,
     "metadata": {},
     "output_type": "execute_result"
    }
   ],
   "source": [
    "filenames[:5]"
   ]
  },
  {
   "cell_type": "code",
   "execution_count": null,
   "metadata": {},
   "outputs": [],
   "source": [
    "xsaga = pd.read_csv(PATH/'data/xSAGA_SDSS_all.csv', index_col=0)\n",
    "\n",
    "# only keep relevant ones\n",
    "objIDs = list(x.stem for x in filenames)\n",
    "objIDs = np.array(objIDs, dtype=np.int64)\n"
   ]
  },
  {
   "cell_type": "code",
   "execution_count": 43,
   "metadata": {},
   "outputs": [],
   "source": [
    "ps = outs.softmax(1)"
   ]
  },
  {
   "cell_type": "code",
   "execution_count": 44,
   "metadata": {},
   "outputs": [],
   "source": [
    "preds = pd.DataFrame({'p_CNN': ps[:, 1]}, index=objIDs)"
   ]
  },
  {
   "cell_type": "code",
   "execution_count": 45,
   "metadata": {},
   "outputs": [
    {
     "data": {
      "text/html": [
       "<div>\n",
       "<style scoped>\n",
       "    .dataframe tbody tr th:only-of-type {\n",
       "        vertical-align: middle;\n",
       "    }\n",
       "\n",
       "    .dataframe tbody tr th {\n",
       "        vertical-align: top;\n",
       "    }\n",
       "\n",
       "    .dataframe thead th {\n",
       "        text-align: right;\n",
       "    }\n",
       "</style>\n",
       "<table border=\"1\" class=\"dataframe\">\n",
       "  <thead>\n",
       "    <tr style=\"text-align: right;\">\n",
       "      <th></th>\n",
       "      <th>p_CNN</th>\n",
       "    </tr>\n",
       "  </thead>\n",
       "  <tbody>\n",
       "    <tr>\n",
       "      <th>1237658629697765559</th>\n",
       "      <td>0.032666</td>\n",
       "    </tr>\n",
       "    <tr>\n",
       "      <th>1237662336799277285</th>\n",
       "      <td>0.062886</td>\n",
       "    </tr>\n",
       "    <tr>\n",
       "      <th>1237654870528753879</th>\n",
       "      <td>0.120395</td>\n",
       "    </tr>\n",
       "    <tr>\n",
       "      <th>1237655124480230147</th>\n",
       "      <td>0.081715</td>\n",
       "    </tr>\n",
       "    <tr>\n",
       "      <th>1237664094510711200</th>\n",
       "      <td>0.071647</td>\n",
       "    </tr>\n",
       "    <tr>\n",
       "      <th>...</th>\n",
       "      <td>...</td>\n",
       "    </tr>\n",
       "    <tr>\n",
       "      <th>1237667783910621435</th>\n",
       "      <td>0.064162</td>\n",
       "    </tr>\n",
       "    <tr>\n",
       "      <th>1237665584860954694</th>\n",
       "      <td>0.308611</td>\n",
       "    </tr>\n",
       "    <tr>\n",
       "      <th>1237653618544476213</th>\n",
       "      <td>0.076890</td>\n",
       "    </tr>\n",
       "    <tr>\n",
       "      <th>1237662225679123024</th>\n",
       "      <td>0.120305</td>\n",
       "    </tr>\n",
       "    <tr>\n",
       "      <th>1237667782296207525</th>\n",
       "      <td>0.284995</td>\n",
       "    </tr>\n",
       "  </tbody>\n",
       "</table>\n",
       "<p>4433095 rows × 1 columns</p>\n",
       "</div>"
      ],
      "text/plain": [
       "                        p_CNN\n",
       "1237658629697765559  0.032666\n",
       "1237662336799277285  0.062886\n",
       "1237654870528753879  0.120395\n",
       "1237655124480230147  0.081715\n",
       "1237664094510711200  0.071647\n",
       "...                       ...\n",
       "1237667783910621435  0.064162\n",
       "1237665584860954694  0.308611\n",
       "1237653618544476213  0.076890\n",
       "1237662225679123024  0.120305\n",
       "1237667782296207525  0.284995\n",
       "\n",
       "[4433095 rows x 1 columns]"
      ]
     },
     "execution_count": 45,
     "metadata": {},
     "output_type": "execute_result"
    }
   ],
   "source": [
    "preds"
   ]
  },
  {
   "cell_type": "code",
   "execution_count": 65,
   "metadata": {},
   "outputs": [],
   "source": [
    "preds.to_csv(PATH/'results/predictions-dr9_only-preds.csv')"
   ]
  },
  {
   "cell_type": "code",
   "execution_count": 51,
   "metadata": {},
   "outputs": [],
   "source": [
    "preds = preds.reset_index().rename({'index': 'objID'}, axis=1)"
   ]
  },
  {
   "cell_type": "code",
   "execution_count": 61,
   "metadata": {},
   "outputs": [],
   "source": [
    "combined = preds.reset_index().join(xsaga, on='objID')"
   ]
  },
  {
   "cell_type": "code",
   "execution_count": 62,
   "metadata": {},
   "outputs": [],
   "source": [
    "combined = combined.drop('index', axis=1).set_index('objID', drop=True)"
   ]
  },
  {
   "cell_type": "code",
   "execution_count": 63,
   "metadata": {},
   "outputs": [
    {
     "data": {
      "text/html": [
       "<div>\n",
       "<style scoped>\n",
       "    .dataframe tbody tr th:only-of-type {\n",
       "        vertical-align: middle;\n",
       "    }\n",
       "\n",
       "    .dataframe tbody tr th {\n",
       "        vertical-align: top;\n",
       "    }\n",
       "\n",
       "    .dataframe thead th {\n",
       "        text-align: right;\n",
       "    }\n",
       "</style>\n",
       "<table border=\"1\" class=\"dataframe\">\n",
       "  <thead>\n",
       "    <tr style=\"text-align: right;\">\n",
       "      <th></th>\n",
       "      <th>p_CNN</th>\n",
       "      <th>ra</th>\n",
       "      <th>dec</th>\n",
       "      <th>g0</th>\n",
       "      <th>r0</th>\n",
       "      <th>R_eff</th>\n",
       "    </tr>\n",
       "    <tr>\n",
       "      <th>objID</th>\n",
       "      <th></th>\n",
       "      <th></th>\n",
       "      <th></th>\n",
       "      <th></th>\n",
       "      <th></th>\n",
       "      <th></th>\n",
       "    </tr>\n",
       "  </thead>\n",
       "  <tbody>\n",
       "    <tr>\n",
       "      <th>1237658629697765559</th>\n",
       "      <td>0.032666</td>\n",
       "      <td>192.754583</td>\n",
       "      <td>12.250387</td>\n",
       "      <td>21.51018</td>\n",
       "      <td>20.93348</td>\n",
       "      <td>1.033137</td>\n",
       "    </tr>\n",
       "    <tr>\n",
       "      <th>1237662336799277285</th>\n",
       "      <td>0.062886</td>\n",
       "      <td>254.266444</td>\n",
       "      <td>21.339830</td>\n",
       "      <td>19.22336</td>\n",
       "      <td>18.58278</td>\n",
       "      <td>2.300709</td>\n",
       "    </tr>\n",
       "    <tr>\n",
       "      <th>1237654870528753879</th>\n",
       "      <td>0.120395</td>\n",
       "      <td>137.319777</td>\n",
       "      <td>-2.669010</td>\n",
       "      <td>19.43149</td>\n",
       "      <td>18.83373</td>\n",
       "      <td>1.551386</td>\n",
       "    </tr>\n",
       "    <tr>\n",
       "      <th>1237655124480230147</th>\n",
       "      <td>0.081715</td>\n",
       "      <td>202.515145</td>\n",
       "      <td>4.021077</td>\n",
       "      <td>21.30742</td>\n",
       "      <td>20.96608</td>\n",
       "      <td>1.072581</td>\n",
       "    </tr>\n",
       "    <tr>\n",
       "      <th>1237664094510711200</th>\n",
       "      <td>0.071647</td>\n",
       "      <td>131.218050</td>\n",
       "      <td>27.566439</td>\n",
       "      <td>20.69109</td>\n",
       "      <td>20.29162</td>\n",
       "      <td>1.135022</td>\n",
       "    </tr>\n",
       "    <tr>\n",
       "      <th>...</th>\n",
       "      <td>...</td>\n",
       "      <td>...</td>\n",
       "      <td>...</td>\n",
       "      <td>...</td>\n",
       "      <td>...</td>\n",
       "      <td>...</td>\n",
       "    </tr>\n",
       "    <tr>\n",
       "      <th>1237667783910621435</th>\n",
       "      <td>0.064162</td>\n",
       "      <td>190.218533</td>\n",
       "      <td>23.268112</td>\n",
       "      <td>21.18684</td>\n",
       "      <td>20.60037</td>\n",
       "      <td>1.422956</td>\n",
       "    </tr>\n",
       "    <tr>\n",
       "      <th>1237665584860954694</th>\n",
       "      <td>0.308611</td>\n",
       "      <td>246.568907</td>\n",
       "      <td>58.398485</td>\n",
       "      <td>16.87466</td>\n",
       "      <td>16.33039</td>\n",
       "      <td>4.533244</td>\n",
       "    </tr>\n",
       "    <tr>\n",
       "      <th>1237653618544476213</th>\n",
       "      <td>0.076890</td>\n",
       "      <td>158.390940</td>\n",
       "      <td>60.321651</td>\n",
       "      <td>20.23501</td>\n",
       "      <td>19.67139</td>\n",
       "      <td>1.498932</td>\n",
       "    </tr>\n",
       "    <tr>\n",
       "      <th>1237662225679123024</th>\n",
       "      <td>0.120305</td>\n",
       "      <td>188.081897</td>\n",
       "      <td>40.583701</td>\n",
       "      <td>20.62520</td>\n",
       "      <td>20.48272</td>\n",
       "      <td>1.916257</td>\n",
       "    </tr>\n",
       "    <tr>\n",
       "      <th>1237667782296207525</th>\n",
       "      <td>0.284995</td>\n",
       "      <td>180.894038</td>\n",
       "      <td>22.061270</td>\n",
       "      <td>18.10673</td>\n",
       "      <td>17.58498</td>\n",
       "      <td>3.669741</td>\n",
       "    </tr>\n",
       "  </tbody>\n",
       "</table>\n",
       "<p>4433095 rows × 6 columns</p>\n",
       "</div>"
      ],
      "text/plain": [
       "                        p_CNN          ra        dec        g0        r0  \\\n",
       "objID                                                                      \n",
       "1237658629697765559  0.032666  192.754583  12.250387  21.51018  20.93348   \n",
       "1237662336799277285  0.062886  254.266444  21.339830  19.22336  18.58278   \n",
       "1237654870528753879  0.120395  137.319777  -2.669010  19.43149  18.83373   \n",
       "1237655124480230147  0.081715  202.515145   4.021077  21.30742  20.96608   \n",
       "1237664094510711200  0.071647  131.218050  27.566439  20.69109  20.29162   \n",
       "...                       ...         ...        ...       ...       ...   \n",
       "1237667783910621435  0.064162  190.218533  23.268112  21.18684  20.60037   \n",
       "1237665584860954694  0.308611  246.568907  58.398485  16.87466  16.33039   \n",
       "1237653618544476213  0.076890  158.390940  60.321651  20.23501  19.67139   \n",
       "1237662225679123024  0.120305  188.081897  40.583701  20.62520  20.48272   \n",
       "1237667782296207525  0.284995  180.894038  22.061270  18.10673  17.58498   \n",
       "\n",
       "                        R_eff  \n",
       "objID                          \n",
       "1237658629697765559  1.033137  \n",
       "1237662336799277285  2.300709  \n",
       "1237654870528753879  1.551386  \n",
       "1237655124480230147  1.072581  \n",
       "1237664094510711200  1.135022  \n",
       "...                       ...  \n",
       "1237667783910621435  1.422956  \n",
       "1237665584860954694  4.533244  \n",
       "1237653618544476213  1.498932  \n",
       "1237662225679123024  1.916257  \n",
       "1237667782296207525  3.669741  \n",
       "\n",
       "[4433095 rows x 6 columns]"
      ]
     },
     "execution_count": 63,
     "metadata": {},
     "output_type": "execute_result"
    }
   ],
   "source": [
    "combined"
   ]
  },
  {
   "cell_type": "code",
   "execution_count": 64,
   "metadata": {},
   "outputs": [],
   "source": [
    "combined.to_csv(PATH/'results/predictions-dr9.csv')"
   ]
  },
  {
   "cell_type": "code",
   "execution_count": null,
   "metadata": {},
   "outputs": [],
   "source": []
  }
 ],
 "metadata": {
  "kernelspec": {
   "display_name": "fastai2",
   "language": "python",
   "name": "fastai2"
  },
  "language_info": {
   "codemirror_mode": {
    "name": "ipython",
    "version": 3
   },
   "file_extension": ".py",
   "mimetype": "text/x-python",
   "name": "python",
   "nbconvert_exporter": "python",
   "pygments_lexer": "ipython3",
   "version": "3.7.7"
  },
  "toc": {
   "base_numbering": 1,
   "nav_menu": {},
   "number_sections": true,
   "sideBar": true,
   "skip_h1_title": false,
   "title_cell": "Table of Contents",
   "title_sidebar": "Contents",
   "toc_cell": false,
   "toc_position": {},
   "toc_section_display": true,
   "toc_window_display": false
  }
 },
 "nbformat": 4,
 "nbformat_minor": 4
}
